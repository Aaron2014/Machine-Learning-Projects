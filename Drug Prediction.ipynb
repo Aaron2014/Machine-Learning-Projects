{
 "cells": [
  {
   "cell_type": "markdown",
   "id": "a30c6840-a28c-4a7f-b0b3-fc2af21bc073",
   "metadata": {},
   "source": [
    "<h1><center> Drug Prediction </center></h1>"
   ]
  },
  {
   "cell_type": "markdown",
   "id": "f4385d03-7e94-48fa-839f-5b21b11e51ce",
   "metadata": {},
   "source": [
    "## Objectives"
   ]
  },
  {
   "cell_type": "markdown",
   "id": "fab3cafb-62ee-4a63-abf7-8af58fa0c37b",
   "metadata": {},
   "source": [
    "__This project is a course project from IBM Data Science. The dataset is copied from that course.__ \n",
    "\n",
    "In this project, data about a set of patients are analyzed. All of them suffered from the same illnes. During their course of treatment, each patient responsed to one of 5 medications, Druge A, Drug B, Drug C, Drug X and Drug Y. A model is developed to predict which drug should be prescripted for a certain patient. An organization of this project is:"
   ]
  },
  {
   "cell_type": "markdown",
   "id": "574f10c9-5f11-49c7-b627-102ede5d0b68",
   "metadata": {},
   "source": [
    "<h2>Table of Contents</h2>\n",
    "<div class=\"alert alert-block alert-info\" style=\"margin-top: 20px\">\n",
    "    <ul>\n",
    "        <li>\n",
    "            <a>Download Data</a>\n",
    "        </li>\n",
    "     </ul>\n",
    "    <ul>\n",
    "        <li>\n",
    "            <a>Data Wrangling</a>\n",
    "            <ul>\n",
    "                <li>Deal wiht Missing Data</li>\n",
    "                <li>Correct Data Format</li>\n",
    "            </ul>\n",
    "        </li>\n",
    "     </ul>\n",
    "     <ul>\n",
    "        <li>\n",
    "            <a>Data Exploratory</a>\n",
    "            <ul>\n",
    "                <li>Describe</li>\n",
    "                <li>Visualization</li>\n",
    "            </ul>\n",
    "        </li>\n",
    "    </ul>\n",
    "    <ul>\n",
    "        <li>\n",
    "            <a>Model Development</a>\n",
    "            <ul>\n",
    "                <li>Decision Tree</li>\n",
    "            </ul>\n",
    "        </li>\n",
    "    </ul>\n",
    "</div>\n",
    "\n",
    "<hr>"
   ]
  },
  {
   "cell_type": "code",
   "execution_count": 1,
   "id": "50ade2a0-2b58-4bab-8ee0-e1f395d66fce",
   "metadata": {},
   "outputs": [],
   "source": [
    " # Surpress warnings:\n",
    "def warn(*args, **kwargs):\n",
    "    pass\n",
    "import warnings\n",
    "warnings.warn = warn"
   ]
  },
  {
   "cell_type": "code",
   "execution_count": 2,
   "id": "a1ebeb58-5c35-43cc-a5be-bda206075f47",
   "metadata": {},
   "outputs": [],
   "source": [
    "import numpy as np \n",
    "import pandas as pd\n",
    "import matplotlib.pyplot as plt\n",
    "from sklearn.tree import DecisionTreeClassifier\n",
    "import sklearn.tree as tree\n",
    "import warnings\n",
    "warnings.filterwarnings('ignore')"
   ]
  },
  {
   "cell_type": "markdown",
   "id": "cc18c5fd-0ea5-4b51-b8b3-7d518b4cbe01",
   "metadata": {},
   "source": [
    "## 1. Download Data"
   ]
  },
  {
   "cell_type": "code",
   "execution_count": 3,
   "id": "60217d2b-3210-4351-89f4-cf86ce4fb9f6",
   "metadata": {},
   "outputs": [],
   "source": [
    "file_name='https://cf-courses-data.s3.us.cloud-object-storage.appdomain.cloud/IBMDeveloperSkillsNetwork-ML0101EN-SkillsNetwork/labs/Module%203/data/drug200.csv'"
   ]
  },
  {
   "cell_type": "code",
   "execution_count": 4,
   "id": "fc807396-089e-4ec3-abfd-137e06f3b24e",
   "metadata": {},
   "outputs": [],
   "source": [
    "#download the data\n",
    "patient_data = pd.read_csv(file_name)"
   ]
  },
  {
   "cell_type": "code",
   "execution_count": 5,
   "id": "3851b4fe-e41c-4597-9be7-aa3a04740df1",
   "metadata": {},
   "outputs": [
    {
     "name": "stdout",
     "output_type": "stream",
     "text": [
      "There are  200  samples of data and  6  properties\n"
     ]
    }
   ],
   "source": [
    "# size of data \n",
    "NR = np.size(patient_data,0)\n",
    "NC = np.size(patient_data,1)\n",
    "print('There are ', NR, ' samples of data and ', NC, ' properties')"
   ]
  },
  {
   "cell_type": "code",
   "execution_count": 6,
   "id": "f2546995-7c01-4446-aca8-1569994795ba",
   "metadata": {},
   "outputs": [
    {
     "data": {
      "text/html": [
       "<div>\n",
       "<style scoped>\n",
       "    .dataframe tbody tr th:only-of-type {\n",
       "        vertical-align: middle;\n",
       "    }\n",
       "\n",
       "    .dataframe tbody tr th {\n",
       "        vertical-align: top;\n",
       "    }\n",
       "\n",
       "    .dataframe thead th {\n",
       "        text-align: right;\n",
       "    }\n",
       "</style>\n",
       "<table border=\"1\" class=\"dataframe\">\n",
       "  <thead>\n",
       "    <tr style=\"text-align: right;\">\n",
       "      <th></th>\n",
       "      <th>Age</th>\n",
       "      <th>Sex</th>\n",
       "      <th>BP</th>\n",
       "      <th>Cholesterol</th>\n",
       "      <th>Na_to_K</th>\n",
       "      <th>Drug</th>\n",
       "    </tr>\n",
       "  </thead>\n",
       "  <tbody>\n",
       "    <tr>\n",
       "      <th>0</th>\n",
       "      <td>23</td>\n",
       "      <td>F</td>\n",
       "      <td>HIGH</td>\n",
       "      <td>HIGH</td>\n",
       "      <td>25.355</td>\n",
       "      <td>drugY</td>\n",
       "    </tr>\n",
       "    <tr>\n",
       "      <th>1</th>\n",
       "      <td>47</td>\n",
       "      <td>M</td>\n",
       "      <td>LOW</td>\n",
       "      <td>HIGH</td>\n",
       "      <td>13.093</td>\n",
       "      <td>drugC</td>\n",
       "    </tr>\n",
       "    <tr>\n",
       "      <th>2</th>\n",
       "      <td>47</td>\n",
       "      <td>M</td>\n",
       "      <td>LOW</td>\n",
       "      <td>HIGH</td>\n",
       "      <td>10.114</td>\n",
       "      <td>drugC</td>\n",
       "    </tr>\n",
       "    <tr>\n",
       "      <th>3</th>\n",
       "      <td>28</td>\n",
       "      <td>F</td>\n",
       "      <td>NORMAL</td>\n",
       "      <td>HIGH</td>\n",
       "      <td>7.798</td>\n",
       "      <td>drugX</td>\n",
       "    </tr>\n",
       "    <tr>\n",
       "      <th>4</th>\n",
       "      <td>61</td>\n",
       "      <td>F</td>\n",
       "      <td>LOW</td>\n",
       "      <td>HIGH</td>\n",
       "      <td>18.043</td>\n",
       "      <td>drugY</td>\n",
       "    </tr>\n",
       "    <tr>\n",
       "      <th>5</th>\n",
       "      <td>22</td>\n",
       "      <td>F</td>\n",
       "      <td>NORMAL</td>\n",
       "      <td>HIGH</td>\n",
       "      <td>8.607</td>\n",
       "      <td>drugX</td>\n",
       "    </tr>\n",
       "    <tr>\n",
       "      <th>6</th>\n",
       "      <td>49</td>\n",
       "      <td>F</td>\n",
       "      <td>NORMAL</td>\n",
       "      <td>HIGH</td>\n",
       "      <td>16.275</td>\n",
       "      <td>drugY</td>\n",
       "    </tr>\n",
       "    <tr>\n",
       "      <th>7</th>\n",
       "      <td>41</td>\n",
       "      <td>M</td>\n",
       "      <td>LOW</td>\n",
       "      <td>HIGH</td>\n",
       "      <td>11.037</td>\n",
       "      <td>drugC</td>\n",
       "    </tr>\n",
       "    <tr>\n",
       "      <th>8</th>\n",
       "      <td>60</td>\n",
       "      <td>M</td>\n",
       "      <td>NORMAL</td>\n",
       "      <td>HIGH</td>\n",
       "      <td>15.171</td>\n",
       "      <td>drugY</td>\n",
       "    </tr>\n",
       "    <tr>\n",
       "      <th>9</th>\n",
       "      <td>43</td>\n",
       "      <td>M</td>\n",
       "      <td>LOW</td>\n",
       "      <td>NORMAL</td>\n",
       "      <td>19.368</td>\n",
       "      <td>drugY</td>\n",
       "    </tr>\n",
       "  </tbody>\n",
       "</table>\n",
       "</div>"
      ],
      "text/plain": [
       "   Age Sex      BP Cholesterol  Na_to_K   Drug\n",
       "0   23   F    HIGH        HIGH   25.355  drugY\n",
       "1   47   M     LOW        HIGH   13.093  drugC\n",
       "2   47   M     LOW        HIGH   10.114  drugC\n",
       "3   28   F  NORMAL        HIGH    7.798  drugX\n",
       "4   61   F     LOW        HIGH   18.043  drugY\n",
       "5   22   F  NORMAL        HIGH    8.607  drugX\n",
       "6   49   F  NORMAL        HIGH   16.275  drugY\n",
       "7   41   M     LOW        HIGH   11.037  drugC\n",
       "8   60   M  NORMAL        HIGH   15.171  drugY\n",
       "9   43   M     LOW      NORMAL   19.368  drugY"
      ]
     },
     "execution_count": 6,
     "metadata": {},
     "output_type": "execute_result"
    }
   ],
   "source": [
    "#display the first 10 rows of data\n",
    "patient_data.head(10)"
   ]
  },
  {
   "cell_type": "markdown",
   "id": "76ce22ae-ff8a-458a-8f31-9fbce4ac4738",
   "metadata": {},
   "source": [
    "There are 10 columns in this dataset. Data look all clean. "
   ]
  },
  {
   "cell_type": "markdown",
   "id": "382cf974-a9ec-4aeb-bbd1-0b416cf4c534",
   "metadata": {},
   "source": [
    "## 2. Data Wrangling"
   ]
  },
  {
   "cell_type": "code",
   "execution_count": 7,
   "id": "abaa0a04-856c-4022-801d-db6bfedbab7d",
   "metadata": {},
   "outputs": [
    {
     "data": {
      "text/html": [
       "<div>\n",
       "<style scoped>\n",
       "    .dataframe tbody tr th:only-of-type {\n",
       "        vertical-align: middle;\n",
       "    }\n",
       "\n",
       "    .dataframe tbody tr th {\n",
       "        vertical-align: top;\n",
       "    }\n",
       "\n",
       "    .dataframe thead th {\n",
       "        text-align: right;\n",
       "    }\n",
       "</style>\n",
       "<table border=\"1\" class=\"dataframe\">\n",
       "  <thead>\n",
       "    <tr style=\"text-align: right;\">\n",
       "      <th></th>\n",
       "      <th>Age</th>\n",
       "      <th>Sex</th>\n",
       "      <th>BP</th>\n",
       "      <th>Cholesterol</th>\n",
       "      <th>Na_to_K</th>\n",
       "      <th>Drug</th>\n",
       "    </tr>\n",
       "  </thead>\n",
       "  <tbody>\n",
       "    <tr>\n",
       "      <th>0</th>\n",
       "      <td>False</td>\n",
       "      <td>False</td>\n",
       "      <td>False</td>\n",
       "      <td>False</td>\n",
       "      <td>False</td>\n",
       "      <td>False</td>\n",
       "    </tr>\n",
       "    <tr>\n",
       "      <th>1</th>\n",
       "      <td>False</td>\n",
       "      <td>False</td>\n",
       "      <td>False</td>\n",
       "      <td>False</td>\n",
       "      <td>False</td>\n",
       "      <td>False</td>\n",
       "    </tr>\n",
       "    <tr>\n",
       "      <th>2</th>\n",
       "      <td>False</td>\n",
       "      <td>False</td>\n",
       "      <td>False</td>\n",
       "      <td>False</td>\n",
       "      <td>False</td>\n",
       "      <td>False</td>\n",
       "    </tr>\n",
       "    <tr>\n",
       "      <th>3</th>\n",
       "      <td>False</td>\n",
       "      <td>False</td>\n",
       "      <td>False</td>\n",
       "      <td>False</td>\n",
       "      <td>False</td>\n",
       "      <td>False</td>\n",
       "    </tr>\n",
       "    <tr>\n",
       "      <th>4</th>\n",
       "      <td>False</td>\n",
       "      <td>False</td>\n",
       "      <td>False</td>\n",
       "      <td>False</td>\n",
       "      <td>False</td>\n",
       "      <td>False</td>\n",
       "    </tr>\n",
       "    <tr>\n",
       "      <th>5</th>\n",
       "      <td>False</td>\n",
       "      <td>False</td>\n",
       "      <td>False</td>\n",
       "      <td>False</td>\n",
       "      <td>False</td>\n",
       "      <td>False</td>\n",
       "    </tr>\n",
       "    <tr>\n",
       "      <th>6</th>\n",
       "      <td>False</td>\n",
       "      <td>False</td>\n",
       "      <td>False</td>\n",
       "      <td>False</td>\n",
       "      <td>False</td>\n",
       "      <td>False</td>\n",
       "    </tr>\n",
       "    <tr>\n",
       "      <th>7</th>\n",
       "      <td>False</td>\n",
       "      <td>False</td>\n",
       "      <td>False</td>\n",
       "      <td>False</td>\n",
       "      <td>False</td>\n",
       "      <td>False</td>\n",
       "    </tr>\n",
       "    <tr>\n",
       "      <th>8</th>\n",
       "      <td>False</td>\n",
       "      <td>False</td>\n",
       "      <td>False</td>\n",
       "      <td>False</td>\n",
       "      <td>False</td>\n",
       "      <td>False</td>\n",
       "    </tr>\n",
       "    <tr>\n",
       "      <th>9</th>\n",
       "      <td>False</td>\n",
       "      <td>False</td>\n",
       "      <td>False</td>\n",
       "      <td>False</td>\n",
       "      <td>False</td>\n",
       "      <td>False</td>\n",
       "    </tr>\n",
       "  </tbody>\n",
       "</table>\n",
       "</div>"
      ],
      "text/plain": [
       "     Age    Sex     BP  Cholesterol  Na_to_K   Drug\n",
       "0  False  False  False        False    False  False\n",
       "1  False  False  False        False    False  False\n",
       "2  False  False  False        False    False  False\n",
       "3  False  False  False        False    False  False\n",
       "4  False  False  False        False    False  False\n",
       "5  False  False  False        False    False  False\n",
       "6  False  False  False        False    False  False\n",
       "7  False  False  False        False    False  False\n",
       "8  False  False  False        False    False  False\n",
       "9  False  False  False        False    False  False"
      ]
     },
     "execution_count": 7,
     "metadata": {},
     "output_type": "execute_result"
    }
   ],
   "source": [
    "#Evaluating the missing data\n",
    "missing_data = patient_data.isnull()\n",
    "missing_data.head(10)"
   ]
  },
  {
   "cell_type": "markdown",
   "id": "db248042-450b-479e-971e-e04eda1b3f10",
   "metadata": {},
   "source": [
    "\"True\" measn the data is missing. From the first 10 rows, there seems no missing data. "
   ]
  },
  {
   "cell_type": "code",
   "execution_count": 8,
   "id": "0e21072e-4313-4749-bfaf-68a9383256bb",
   "metadata": {},
   "outputs": [
    {
     "name": "stdout",
     "output_type": "stream",
     "text": [
      "<class 'pandas.core.frame.DataFrame'>\n",
      "RangeIndex: 200 entries, 0 to 199\n",
      "Data columns (total 6 columns):\n",
      " #   Column       Non-Null Count  Dtype  \n",
      "---  ------       --------------  -----  \n",
      " 0   Age          200 non-null    int64  \n",
      " 1   Sex          200 non-null    object \n",
      " 2   BP           200 non-null    object \n",
      " 3   Cholesterol  200 non-null    object \n",
      " 4   Na_to_K      200 non-null    float64\n",
      " 5   Drug         200 non-null    object \n",
      "dtypes: float64(1), int64(1), object(4)\n",
      "memory usage: 9.5+ KB\n"
     ]
    }
   ],
   "source": [
    "#Here use info() to count non-null values or missing values in each column\n",
    "patient_data.info()"
   ]
  },
  {
   "cell_type": "markdown",
   "id": "7265985d-20c2-4800-b826-ce260522bd2d",
   "metadata": {},
   "source": [
    "There are no missing values. "
   ]
  },
  {
   "cell_type": "markdown",
   "id": "e4fb34d8-3cbf-4197-b78b-f89de1b7222e",
   "metadata": {},
   "source": [
    "\"Sex\", \"BP\", \"Chholesterol\" are all categorical data. We need to convert them to numerical values to use Decision Trees. "
   ]
  },
  {
   "cell_type": "code",
   "execution_count": 9,
   "id": "6556ce8e-c4fb-4799-a9c4-5ab519d770d0",
   "metadata": {},
   "outputs": [],
   "source": [
    "X = patient_data[[\"Age\",\"Sex\",\"BP\",\"Cholesterol\",\"Na_to_K\"]].values"
   ]
  },
  {
   "cell_type": "code",
   "execution_count": 10,
   "id": "a213e82d-b362-4f98-a1dd-93f993f81c7b",
   "metadata": {},
   "outputs": [],
   "source": [
    "from sklearn import preprocessing\n",
    "le_sex = preprocessing.LabelEncoder()\n",
    "le_sex.fit(['F','M'])\n",
    "X[:,1] = le_sex.transform(X[:,1]) \n",
    "\n",
    "\n",
    "le_BP = preprocessing.LabelEncoder()\n",
    "le_BP.fit([ 'LOW', 'NORMAL', 'HIGH'])\n",
    "X[:,2] = le_BP.transform(X[:,2])\n",
    "\n",
    "\n",
    "le_Chol = preprocessing.LabelEncoder()\n",
    "le_Chol.fit([ 'NORMAL', 'HIGH'])\n",
    "X[:,3] = le_Chol.transform(X[:,3]) "
   ]
  },
  {
   "cell_type": "code",
   "execution_count": 11,
   "id": "7daf90ca-2a13-4aea-94eb-740079ccc61d",
   "metadata": {},
   "outputs": [
    {
     "data": {
      "text/plain": [
       "array([[23, 0, 0, 0, 25.355],\n",
       "       [47, 1, 1, 0, 13.093],\n",
       "       [47, 1, 1, 0, 10.114],\n",
       "       [28, 0, 2, 0, 7.798],\n",
       "       [61, 0, 1, 0, 18.043]], dtype=object)"
      ]
     },
     "execution_count": 11,
     "metadata": {},
     "output_type": "execute_result"
    }
   ],
   "source": [
    "X[0:5]"
   ]
  },
  {
   "cell_type": "code",
   "execution_count": 12,
   "id": "8aa012a1-4d23-4eca-bd61-e400d2d99e12",
   "metadata": {},
   "outputs": [],
   "source": [
    "#Let's fill the target variable\n",
    "Y = patient_data[\"Drug\"]"
   ]
  },
  {
   "cell_type": "markdown",
   "id": "cb8ba7b7-d515-4424-a0de-039c7f1980bc",
   "metadata": {},
   "source": [
    "## 3. Exploratory Data Analysis"
   ]
  },
  {
   "cell_type": "markdown",
   "id": "0572956f-2606-4f55-bb61-0bdab36f2d4f",
   "metadata": {},
   "source": [
    "Data Exploratory or data analysis is requried to find the features or characteristics of the data. "
   ]
  },
  {
   "cell_type": "code",
   "execution_count": 13,
   "id": "c8471b50-c19b-4b67-9bee-d0b35ead5336",
   "metadata": {},
   "outputs": [
    {
     "data": {
      "text/html": [
       "<div>\n",
       "<style scoped>\n",
       "    .dataframe tbody tr th:only-of-type {\n",
       "        vertical-align: middle;\n",
       "    }\n",
       "\n",
       "    .dataframe tbody tr th {\n",
       "        vertical-align: top;\n",
       "    }\n",
       "\n",
       "    .dataframe thead th {\n",
       "        text-align: right;\n",
       "    }\n",
       "</style>\n",
       "<table border=\"1\" class=\"dataframe\">\n",
       "  <thead>\n",
       "    <tr style=\"text-align: right;\">\n",
       "      <th></th>\n",
       "      <th>Age</th>\n",
       "      <th>Na_to_K</th>\n",
       "    </tr>\n",
       "  </thead>\n",
       "  <tbody>\n",
       "    <tr>\n",
       "      <th>count</th>\n",
       "      <td>200.000000</td>\n",
       "      <td>200.000000</td>\n",
       "    </tr>\n",
       "    <tr>\n",
       "      <th>mean</th>\n",
       "      <td>44.315000</td>\n",
       "      <td>16.084485</td>\n",
       "    </tr>\n",
       "    <tr>\n",
       "      <th>std</th>\n",
       "      <td>16.544315</td>\n",
       "      <td>7.223956</td>\n",
       "    </tr>\n",
       "    <tr>\n",
       "      <th>min</th>\n",
       "      <td>15.000000</td>\n",
       "      <td>6.269000</td>\n",
       "    </tr>\n",
       "    <tr>\n",
       "      <th>25%</th>\n",
       "      <td>31.000000</td>\n",
       "      <td>10.445500</td>\n",
       "    </tr>\n",
       "    <tr>\n",
       "      <th>50%</th>\n",
       "      <td>45.000000</td>\n",
       "      <td>13.936500</td>\n",
       "    </tr>\n",
       "    <tr>\n",
       "      <th>75%</th>\n",
       "      <td>58.000000</td>\n",
       "      <td>19.380000</td>\n",
       "    </tr>\n",
       "    <tr>\n",
       "      <th>max</th>\n",
       "      <td>74.000000</td>\n",
       "      <td>38.247000</td>\n",
       "    </tr>\n",
       "  </tbody>\n",
       "</table>\n",
       "</div>"
      ],
      "text/plain": [
       "              Age     Na_to_K\n",
       "count  200.000000  200.000000\n",
       "mean    44.315000   16.084485\n",
       "std     16.544315    7.223956\n",
       "min     15.000000    6.269000\n",
       "25%     31.000000   10.445500\n",
       "50%     45.000000   13.936500\n",
       "75%     58.000000   19.380000\n",
       "max     74.000000   38.247000"
      ]
     },
     "execution_count": 13,
     "metadata": {},
     "output_type": "execute_result"
    }
   ],
   "source": [
    "patient_data.describe()"
   ]
  },
  {
   "cell_type": "code",
   "execution_count": 14,
   "id": "3aa8f7fc-3fcf-4164-b79b-0565a2dfd298",
   "metadata": {},
   "outputs": [
    {
     "data": {
      "text/html": [
       "<div>\n",
       "<style scoped>\n",
       "    .dataframe tbody tr th:only-of-type {\n",
       "        vertical-align: middle;\n",
       "    }\n",
       "\n",
       "    .dataframe tbody tr th {\n",
       "        vertical-align: top;\n",
       "    }\n",
       "\n",
       "    .dataframe thead th {\n",
       "        text-align: right;\n",
       "    }\n",
       "</style>\n",
       "<table border=\"1\" class=\"dataframe\">\n",
       "  <thead>\n",
       "    <tr style=\"text-align: right;\">\n",
       "      <th></th>\n",
       "      <th>Drug</th>\n",
       "      <th>Age</th>\n",
       "    </tr>\n",
       "  </thead>\n",
       "  <tbody>\n",
       "    <tr>\n",
       "      <th>0</th>\n",
       "      <td>drugA</td>\n",
       "      <td>35.869565</td>\n",
       "    </tr>\n",
       "    <tr>\n",
       "      <th>1</th>\n",
       "      <td>drugB</td>\n",
       "      <td>62.500000</td>\n",
       "    </tr>\n",
       "    <tr>\n",
       "      <th>2</th>\n",
       "      <td>drugC</td>\n",
       "      <td>42.500000</td>\n",
       "    </tr>\n",
       "    <tr>\n",
       "      <th>3</th>\n",
       "      <td>drugX</td>\n",
       "      <td>44.018519</td>\n",
       "    </tr>\n",
       "    <tr>\n",
       "      <th>4</th>\n",
       "      <td>drugY</td>\n",
       "      <td>43.747253</td>\n",
       "    </tr>\n",
       "  </tbody>\n",
       "</table>\n",
       "</div>"
      ],
      "text/plain": [
       "    Drug        Age\n",
       "0  drugA  35.869565\n",
       "1  drugB  62.500000\n",
       "2  drugC  42.500000\n",
       "3  drugX  44.018519\n",
       "4  drugY  43.747253"
      ]
     },
     "execution_count": 14,
     "metadata": {},
     "output_type": "execute_result"
    }
   ],
   "source": [
    "group_one = patient_data[['Age','Drug']]\n",
    "\n",
    "group_one = group_one.groupby(['Drug'],as_index=False).mean()\n",
    "group_one"
   ]
  },
  {
   "cell_type": "code",
   "execution_count": 15,
   "id": "c75b6a13-773e-43f3-a0ac-42eae02a17be",
   "metadata": {},
   "outputs": [
    {
     "data": {
      "text/plain": [
       "Drug\n",
       "drugY    91\n",
       "drugX    54\n",
       "drugA    23\n",
       "drugC    16\n",
       "drugB    16\n",
       "Name: count, dtype: int64"
      ]
     },
     "execution_count": 15,
     "metadata": {},
     "output_type": "execute_result"
    }
   ],
   "source": [
    "patient_data['Drug'].value_counts()"
   ]
  },
  {
   "cell_type": "code",
   "execution_count": 16,
   "id": "655e3d03-23ba-426d-96b3-dc4a803e0edc",
   "metadata": {},
   "outputs": [
    {
     "data": {
      "image/png": "[encoded data removed]",
      "text/plain": [
       "<Figure size 1600x800 with 6 Axes>"
      ]
     },
     "metadata": {},
     "output_type": "display_data"
    }
   ],
   "source": [
    "fig = plt.figure(figsize=(16,8))\n",
    "ax = fig.add_subplot(241)\n",
    "patient_data[patient_data['Drug'] == 'drugA'].plot.scatter(x='Age', y='Sex', color='Blue', label='drugA', ax=ax)\n",
    "patient_data[patient_data['Drug'] == 'drugB'].plot.scatter(x='Age', y='Sex', color='Yellow', label='drugB', ax=ax)\n",
    "patient_data[patient_data['Drug'] == 'drugC'].plot.scatter(x='Age', y='Sex', color='Red', label='drugC', ax=ax)\n",
    "patient_data[patient_data['Drug'] == 'drugX'].plot.scatter(x='Age', y='Sex', color='Green', label='drugX', ax=ax)\n",
    "patient_data[patient_data['Drug'] == 'drugY'].plot.scatter(x='Age', y='Sex', color='Black', label='drugY', ax=ax)\n",
    "plt.tight_layout()\n",
    "\n",
    "ax = fig.add_subplot(242)\n",
    "patient_data[patient_data['Drug'] == 'drugA'].plot.scatter(x='Age', y='BP', color='Blue', label='drugA', ax=ax)\n",
    "patient_data[patient_data['Drug'] == 'drugB'].plot.scatter(x='Age', y='BP', color='Yellow', label='drugB', ax=ax)\n",
    "patient_data[patient_data['Drug'] == 'drugC'].plot.scatter(x='Age', y='BP', color='Red', label='drugC', ax=ax)\n",
    "patient_data[patient_data['Drug'] == 'drugX'].plot.scatter(x='Age', y='BP', color='Green', label='drugX', ax=ax)\n",
    "patient_data[patient_data['Drug'] == 'drugY'].plot.scatter(x='Age', y='BP', color='Black', label='drugY', ax=ax)\n",
    "plt.tight_layout()\n",
    "\n",
    "ax = fig.add_subplot(243)\n",
    "patient_data[patient_data['Drug'] == 'drugA'].plot.scatter(x='Age', y='Cholesterol', color='Blue', label='drugA', ax=ax)\n",
    "patient_data[patient_data['Drug'] == 'drugB'].plot.scatter(x='Age', y='Cholesterol', color='Yellow', label='drugB', ax=ax)\n",
    "patient_data[patient_data['Drug'] == 'drugC'].plot.scatter(x='Age', y='Cholesterol', color='Red', label='drugC', ax=ax)\n",
    "patient_data[patient_data['Drug'] == 'drugX'].plot.scatter(x='Age', y='Cholesterol', color='Green', label='drugX', ax=ax)\n",
    "patient_data[patient_data['Drug'] == 'drugY'].plot.scatter(x='Age', y='Cholesterol', color='Black', label='drugY', ax=ax)\n",
    "plt.tight_layout()\n",
    "\n",
    "ax = fig.add_subplot(244)\n",
    "patient_data[patient_data['Drug'] == 'drugA'].plot.scatter(x='Age', y='Na_to_K', color='Blue', label='drugA', ax=ax)\n",
    "patient_data[patient_data['Drug'] == 'drugB'].plot.scatter(x='Age', y='Na_to_K', color='Yellow', label='drugB', ax=ax)\n",
    "patient_data[patient_data['Drug'] == 'drugC'].plot.scatter(x='Age', y='Na_to_K', color='Red', label='drugC', ax=ax)\n",
    "patient_data[patient_data['Drug'] == 'drugX'].plot.scatter(x='Age', y='Na_to_K', color='Green', label='drugX', ax=ax)\n",
    "patient_data[patient_data['Drug'] == 'drugY'].plot.scatter(x='Age', y='Na_to_K', color='Black', label='drugY', ax=ax)\n",
    "plt.tight_layout()\n",
    "\n",
    "ax = fig.add_subplot(245)\n",
    "patient_data[patient_data['Drug'] == 'drugA'].plot.scatter(x='BP', y='Na_to_K', color='Blue', label='drugA', ax=ax)\n",
    "patient_data[patient_data['Drug'] == 'drugB'].plot.scatter(x='BP', y='Na_to_K', color='Yellow', label='drugB', ax=ax)\n",
    "patient_data[patient_data['Drug'] == 'drugC'].plot.scatter(x='BP', y='Na_to_K', color='Red', label='drugC', ax=ax)\n",
    "patient_data[patient_data['Drug'] == 'drugX'].plot.scatter(x='BP', y='Na_to_K', color='Green', label='drugX', ax=ax)\n",
    "patient_data[patient_data['Drug'] == 'drugY'].plot.scatter(x='BP', y='Na_to_K', color='Black', label='drugY', ax=ax)\n",
    "plt.tight_layout()\n",
    "\n",
    "ax = fig.add_subplot(246)\n",
    "patient_data[patient_data['Drug'] == 'drugA'].plot.scatter(x='Na_to_K', y='Cholesterol', color='Blue', label='drugA', ax=ax)\n",
    "patient_data[patient_data['Drug'] == 'drugB'].plot.scatter(x='Na_to_K', y='Cholesterol', color='Yellow', label='drugB', ax=ax)\n",
    "patient_data[patient_data['Drug'] == 'drugC'].plot.scatter(x='Na_to_K', y='Cholesterol', color='Red', label='drugC', ax=ax)\n",
    "patient_data[patient_data['Drug'] == 'drugX'].plot.scatter(x='Na_to_K', y='Cholesterol', color='Green', label='drugX', ax=ax)\n",
    "patient_data[patient_data['Drug'] == 'drugY'].plot.scatter(x='Na_to_K', y='Cholesterol', color='Black', label='drugY', ax=ax)\n",
    "plt.tight_layout()\n"
   ]
  },
  {
   "cell_type": "markdown",
   "id": "668e019e-a620-4787-9f1e-17535669ae37",
   "metadata": {},
   "source": [
    "### 4. Model Development"
   ]
  },
  {
   "cell_type": "markdown",
   "id": "81d1345c-ade5-4728-9de2-863ebad3445b",
   "metadata": {},
   "source": [
    "In this section, I will develop a Decision Tree model to predict drug. "
   ]
  },
  {
   "cell_type": "markdown",
   "id": "9f5afd55-2fd6-4070-8b87-1d621a2c74da",
   "metadata": {},
   "source": [
    "#### 4.0 Decistion Tree"
   ]
  },
  {
   "cell_type": "markdown",
   "id": "33a0f0f8-fe8d-4df0-9fb3-db3aa1f8f79d",
   "metadata": {},
   "source": [
    "Data preprocessing such as scaling/normalization is typically useful for linear models to accelerate the training convergence"
   ]
  },
  {
   "cell_type": "code",
   "execution_count": 17,
   "id": "e1232d0e-7794-4f34-b2fc-ec832189f535",
   "metadata": {},
   "outputs": [],
   "source": [
    "from sklearn.model_selection import train_test_split"
   ]
  },
  {
   "cell_type": "code",
   "execution_count": 18,
   "id": "2a3f01ce-68f5-459b-b711-e583d312fb6d",
   "metadata": {},
   "outputs": [],
   "source": [
    "x_train, x_test, y_train, y_test = train_test_split(X, Y, test_size=0.30, random_state=3)"
   ]
  },
  {
   "cell_type": "code",
   "execution_count": 19,
   "id": "a6577b67-bd29-4c69-b733-b54010db3e4c",
   "metadata": {},
   "outputs": [],
   "source": [
    "drugTree = DecisionTreeClassifier(criterion=\"entropy\", max_depth = 4)"
   ]
  },
  {
   "cell_type": "code",
   "execution_count": 20,
   "id": "9e7a069f-a41c-4498-a670-a356f8291c2e",
   "metadata": {},
   "outputs": [
    {
     "data": {
      "text/html": [
       "<style>#sk-container-id-1 {color: black;}#sk-container-id-1 pre{padding: 0;}#sk-container-id-1 div.sk-toggleable {background-color: white;}#sk-container-id-1 label.sk-toggleable__label {cursor: pointer;display: block;width: 100%;margin-bottom: 0;padding: 0.3em;box-sizing: border-box;text-align: center;}#sk-container-id-1 label.sk-toggleable__label-arrow:before {content: \"▸\";float: left;margin-right: 0.25em;color: #696969;}#sk-container-id-1 label.sk-toggleable__label-arrow:hover:before {color: black;}#sk-container-id-1 div.sk-estimator:hover label.sk-toggleable__label-arrow:before {color: black;}#sk-container-id-1 div.sk-toggleable__content {max-height: 0;max-width: 0;overflow: hidden;text-align: left;background-color: #f0f8ff;}#sk-container-id-1 div.sk-toggleable__content pre {margin: 0.2em;color: black;border-radius: 0.25em;background-color: #f0f8ff;}#sk-container-id-1 input.sk-toggleable__control:checked~div.sk-toggleable__content {max-height: 200px;max-width: 100%;overflow: auto;}#sk-container-id-1 input.sk-toggleable__control:checked~label.sk-toggleable__label-arrow:before {content: \"▾\";}#sk-container-id-1 div.sk-estimator input.sk-toggleable__control:checked~label.sk-toggleable__label {background-color: #d4ebff;}#sk-container-id-1 div.sk-label input.sk-toggleable__control:checked~label.sk-toggleable__label {background-color: #d4ebff;}#sk-container-id-1 input.sk-hidden--visually {border: 0;clip: rect(1px 1px 1px 1px);clip: rect(1px, 1px, 1px, 1px);height: 1px;margin: -1px;overflow: hidden;padding: 0;position: absolute;width: 1px;}#sk-container-id-1 div.sk-estimator {font-family: monospace;background-color: #f0f8ff;border: 1px dotted black;border-radius: 0.25em;box-sizing: border-box;margin-bottom: 0.5em;}#sk-container-id-1 div.sk-estimator:hover {background-color: #d4ebff;}#sk-container-id-1 div.sk-parallel-item::after {content: \"\";width: 100%;border-bottom: 1px solid gray;flex-grow: 1;}#sk-container-id-1 div.sk-label:hover label.sk-toggleable__label {background-color: #d4ebff;}#sk-container-id-1 div.sk-serial::before {content: \"\";position: absolute;border-left: 1px solid gray;box-sizing: border-box;top: 0;bottom: 0;left: 50%;z-index: 0;}#sk-container-id-1 div.sk-serial {display: flex;flex-direction: column;align-items: center;background-color: white;padding-right: 0.2em;padding-left: 0.2em;position: relative;}#sk-container-id-1 div.sk-item {position: relative;z-index: 1;}#sk-container-id-1 div.sk-parallel {display: flex;align-items: stretch;justify-content: center;background-color: white;position: relative;}#sk-container-id-1 div.sk-item::before, #sk-container-id-1 div.sk-parallel-item::before {content: \"\";position: absolute;border-left: 1px solid gray;box-sizing: border-box;top: 0;bottom: 0;left: 50%;z-index: -1;}#sk-container-id-1 div.sk-parallel-item {display: flex;flex-direction: column;z-index: 1;position: relative;background-color: white;}#sk-container-id-1 div.sk-parallel-item:first-child::after {align-self: flex-end;width: 50%;}#sk-container-id-1 div.sk-parallel-item:last-child::after {align-self: flex-start;width: 50%;}#sk-container-id-1 div.sk-parallel-item:only-child::after {width: 0;}#sk-container-id-1 div.sk-dashed-wrapped {border: 1px dashed gray;margin: 0 0.4em 0.5em 0.4em;box-sizing: border-box;padding-bottom: 0.4em;background-color: white;}#sk-container-id-1 div.sk-label label {font-family: monospace;font-weight: bold;display: inline-block;line-height: 1.2em;}#sk-container-id-1 div.sk-label-container {text-align: center;}#sk-container-id-1 div.sk-container {/* jupyter's `normalize.less` sets `[hidden] { display: none; }` but bootstrap.min.css set `[hidden] { display: none !important; }` so we also need the `!important` here to be able to override the default hidden behavior on the sphinx rendered scikit-learn.org. See: https://github.com/scikit-learn/scikit-learn/issues/21755 */display: inline-block !important;position: relative;}#sk-container-id-1 div.sk-text-repr-fallback {display: none;}</style><div id=\"sk-container-id-1\" class=\"sk-top-container\"><div class=\"sk-text-repr-fallback\"><pre>DecisionTreeClassifier(criterion=&#x27;entropy&#x27;, max_depth=4)</pre><b>In a Jupyter environment, please rerun this cell to show the HTML representation or trust the notebook. <br />On GitHub, the HTML representation is unable to render, please try loading this page with nbviewer.org.</b></div><div class=\"sk-container\" hidden><div class=\"sk-item\"><div class=\"sk-estimator sk-toggleable\"><input class=\"sk-toggleable__control sk-hidden--visually\" id=\"sk-estimator-id-1\" type=\"checkbox\" checked><label for=\"sk-estimator-id-1\" class=\"sk-toggleable__label sk-toggleable__label-arrow\">DecisionTreeClassifier</label><div class=\"sk-toggleable__content\"><pre>DecisionTreeClassifier(criterion=&#x27;entropy&#x27;, max_depth=4)</pre></div></div></div></div></div>"
      ],
      "text/plain": [
       "DecisionTreeClassifier(criterion='entropy', max_depth=4)"
      ]
     },
     "execution_count": 20,
     "metadata": {},
     "output_type": "execute_result"
    }
   ],
   "source": [
    "drugTree.fit(x_train,y_train)"
   ]
  },
  {
   "cell_type": "code",
   "execution_count": 21,
   "id": "4ce10b66-0b56-4495-8f17-a7fabeab4796",
   "metadata": {},
   "outputs": [],
   "source": [
    "pred = drugTree.predict(x_test)"
   ]
  },
  {
   "cell_type": "code",
   "execution_count": 22,
   "id": "d0df8b36-3220-4d0f-8c31-1e54527bdac3",
   "metadata": {},
   "outputs": [
    {
     "name": "stdout",
     "output_type": "stream",
     "text": [
      "['drugY' 'drugX' 'drugX' 'drugX' 'drugX']\n",
      "40     drugY\n",
      "51     drugX\n",
      "139    drugX\n",
      "197    drugX\n",
      "170    drugX\n",
      "Name: Drug, dtype: object\n"
     ]
    }
   ],
   "source": [
    "print (pred [0:5])\n",
    "print (y_test [0:5])"
   ]
  },
  {
   "cell_type": "markdown",
   "id": "b6f1f60b-9986-41d4-abab-70321c9e054b",
   "metadata": {},
   "source": [
    "#### 4.1 Evaluation"
   ]
  },
  {
   "cell_type": "code",
   "execution_count": 23,
   "id": "ca43acfb-1e11-4832-8f32-e5dc87888a02",
   "metadata": {},
   "outputs": [
    {
     "name": "stdout",
     "output_type": "stream",
     "text": [
      "DecisionTrees's Accuracy:  0.9833333333333333\n"
     ]
    }
   ],
   "source": [
    "from sklearn import metrics\n",
    "import matplotlib.pyplot as plt\n",
    "print(\"DecisionTrees's Accuracy: \", metrics.accuracy_score(y_test, pred))"
   ]
  },
  {
   "cell_type": "code",
   "execution_count": 24,
   "id": "be383614-c1fb-4df3-8087-f9e162447799",
   "metadata": {},
   "outputs": [
    {
     "data": {
      "image/png": "[encoded data removed]",
      "text/plain": [
       "<Figure size 640x480 with 1 Axes>"
      ]
     },
     "metadata": {},
     "output_type": "display_data"
    }
   ],
   "source": [
    "tree.plot_tree(drugTree)\n",
    "plt.show()"
   ]
  },
  {
   "cell_type": "markdown",
   "id": "10b541aa-d4a4-4d69-ae92-7c6db397f107",
   "metadata": {},
   "source": [
    "It looks like Decision Tree did a pretty good job. "
   ]
  }
 ],
 "metadata": {
  "kernelspec": {
   "display_name": "Python 3 (ipykernel)",
   "language": "python",
   "name": "python3"
  },
  "language_info": {
   "codemirror_mode": {
    "name": "ipython",
    "version": 3
   },
   "file_extension": ".py",
   "mimetype": "text/x-python",
   "name": "python",
   "nbconvert_exporter": "python",
   "pygments_lexer": "ipython3",
   "version": "3.8.17"
  }
 },
 "nbformat": 4,
 "nbformat_minor": 5
}
