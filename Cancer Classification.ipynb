{
 "cells": [
  {
   "cell_type": "markdown",
   "id": "a30c6840-a28c-4a7f-b0b3-fc2af21bc073",
   "metadata": {},
   "source": [
    "<h1><center> Cancer Classification </center></h1>"
   ]
  },
  {
   "cell_type": "markdown",
   "id": "f4385d03-7e94-48fa-839f-5b21b11e51ce",
   "metadata": {},
   "source": [
    "## Objectives"
   ]
  },
  {
   "cell_type": "markdown",
   "id": "fab3cafb-62ee-4a63-abf7-8af58fa0c37b",
   "metadata": {},
   "source": [
    "__This project is a course project from IBM Data Science. The dataset is copied from that course.__ \n",
    "\n",
    "In this project, human cell records are used to rain a model and to classify cells to wethter the samples are benign or malignant. An organization of this project is:"
   ]
  },
  {
   "cell_type": "markdown",
   "id": "574f10c9-5f11-49c7-b627-102ede5d0b68",
   "metadata": {},
   "source": [
    "<h2>Table of Contents</h2>\n",
    "<div class=\"alert alert-block alert-info\" style=\"margin-top: 20px\">\n",
    "    <ul>\n",
    "        <li>\n",
    "            <a>Download Data</a>\n",
    "        </li>\n",
    "     </ul>\n",
    "    <ul>\n",
    "        <li>\n",
    "            <a>Data Wrangling</a>\n",
    "            <ul>\n",
    "                <li>Deal wiht Missing Data</li>\n",
    "                <li>Correct Data Format</li>\n",
    "            </ul>\n",
    "        </li>\n",
    "     </ul>\n",
    "     <ul>\n",
    "        <li>\n",
    "            <a>Data Exploratory</a>\n",
    "            <ul>\n",
    "                <li>Visualization</li>\n",
    "            </ul>\n",
    "        </li>\n",
    "    </ul>\n",
    "    <ul>\n",
    "        <li>\n",
    "            <a>SVM Model Development</a>\n",
    "            <ul>\n",
    "                <li>Linear</li>\n",
    "                <li>Polynomial</li>\n",
    "                <li>RBF</li>\n",
    "                <li>Sigmoid</li>\n",
    "            </ul>\n",
    "        </li>\n",
    "    </ul>\n",
    "</div>\n",
    "\n",
    "<hr>"
   ]
  },
  {
   "cell_type": "markdown",
   "id": "2d91081f-43fe-4306-ace9-b098f99526ea",
   "metadata": {},
   "source": [
    "This dataset is publicly available from the UCI Machine Learning Repository (Asunciion and Newman, 2007). The dataset consists of several hundred human cell sample records, each of which contains the values of a set of cell characteristics. The fields in each record are:"
   ]
  },
  {
   "cell_type": "markdown",
   "id": "a1e8bf57-7a41-465e-848b-86b86b55a17a",
   "metadata": {},
   "source": [
    "|Field name|Description|\n",
    "|--- |--- |\n",
    "|ID|Patient ID|\n",
    "|Clump|Clump thickness|\n",
    "|UnifSize|Uniformity of cell size|\n",
    "|UnifShape|Uniformity of cell shape|\n",
    "|MargAdh|Marginal adhesion|\n",
    "|SingEpiSize|Single epithelial cell size|\n",
    "|BareNuc|Bare nuclei|\n",
    "|BlandChrom|Bland chromatin|\n",
    "|NormNucl|Normal nucleoli|\n",
    "|Mit|Mitoses|\n",
    "|Class|Benign or malignant|"
   ]
  },
  {
   "cell_type": "code",
   "execution_count": 1,
   "id": "50ade2a0-2b58-4bab-8ee0-e1f395d66fce",
   "metadata": {},
   "outputs": [],
   "source": [
    " # Surpress warnings:\n",
    "def warn(*args, **kwargs):\n",
    "    pass\n",
    "import warnings\n",
    "warnings.warn = warn"
   ]
  },
  {
   "cell_type": "code",
   "execution_count": 2,
   "id": "a1ebeb58-5c35-43cc-a5be-bda206075f47",
   "metadata": {},
   "outputs": [],
   "source": [
    "import pandas as pd\n",
    "import matplotlib.pyplot as plt\n",
    "import numpy as np\n",
    "import seaborn as sns\n",
    "import scipy.optimize as opt\n",
    "from sklearn import preprocessing\n",
    "from sklearn.model_selection import train_test_split\n",
    "%matplotlib inline"
   ]
  },
  {
   "cell_type": "markdown",
   "id": "cc18c5fd-0ea5-4b51-b8b3-7d518b4cbe01",
   "metadata": {},
   "source": [
    "## 1. Download Data"
   ]
  },
  {
   "cell_type": "code",
   "execution_count": 3,
   "id": "60217d2b-3210-4351-89f4-cf86ce4fb9f6",
   "metadata": {},
   "outputs": [],
   "source": [
    "file_name='https://cf-courses-data.s3.us.cloud-object-storage.appdomain.cloud/IBMDeveloperSkillsNetwork-ML0101EN-SkillsNetwork/labs/Module%203/data/cell_samples.csv'"
   ]
  },
  {
   "cell_type": "code",
   "execution_count": 4,
   "id": "fc807396-089e-4ec3-abfd-137e06f3b24e",
   "metadata": {},
   "outputs": [],
   "source": [
    "#download the data\n",
    "cell_data = pd.read_csv(file_name)"
   ]
  },
  {
   "cell_type": "code",
   "execution_count": 5,
   "id": "f2546995-7c01-4446-aca8-1569994795ba",
   "metadata": {},
   "outputs": [
    {
     "data": {
      "text/html": [
       "<div>\n",
       "<style scoped>\n",
       "    .dataframe tbody tr th:only-of-type {\n",
       "        vertical-align: middle;\n",
       "    }\n",
       "\n",
       "    .dataframe tbody tr th {\n",
       "        vertical-align: top;\n",
       "    }\n",
       "\n",
       "    .dataframe thead th {\n",
       "        text-align: right;\n",
       "    }\n",
       "</style>\n",
       "<table border=\"1\" class=\"dataframe\">\n",
       "  <thead>\n",
       "    <tr style=\"text-align: right;\">\n",
       "      <th></th>\n",
       "      <th>ID</th>\n",
       "      <th>Clump</th>\n",
       "      <th>UnifSize</th>\n",
       "      <th>UnifShape</th>\n",
       "      <th>MargAdh</th>\n",
       "      <th>SingEpiSize</th>\n",
       "      <th>BareNuc</th>\n",
       "      <th>BlandChrom</th>\n",
       "      <th>NormNucl</th>\n",
       "      <th>Mit</th>\n",
       "      <th>Class</th>\n",
       "    </tr>\n",
       "  </thead>\n",
       "  <tbody>\n",
       "    <tr>\n",
       "      <th>0</th>\n",
       "      <td>1000025</td>\n",
       "      <td>5</td>\n",
       "      <td>1</td>\n",
       "      <td>1</td>\n",
       "      <td>1</td>\n",
       "      <td>2</td>\n",
       "      <td>1</td>\n",
       "      <td>3</td>\n",
       "      <td>1</td>\n",
       "      <td>1</td>\n",
       "      <td>2</td>\n",
       "    </tr>\n",
       "    <tr>\n",
       "      <th>1</th>\n",
       "      <td>1002945</td>\n",
       "      <td>5</td>\n",
       "      <td>4</td>\n",
       "      <td>4</td>\n",
       "      <td>5</td>\n",
       "      <td>7</td>\n",
       "      <td>10</td>\n",
       "      <td>3</td>\n",
       "      <td>2</td>\n",
       "      <td>1</td>\n",
       "      <td>2</td>\n",
       "    </tr>\n",
       "    <tr>\n",
       "      <th>2</th>\n",
       "      <td>1015425</td>\n",
       "      <td>3</td>\n",
       "      <td>1</td>\n",
       "      <td>1</td>\n",
       "      <td>1</td>\n",
       "      <td>2</td>\n",
       "      <td>2</td>\n",
       "      <td>3</td>\n",
       "      <td>1</td>\n",
       "      <td>1</td>\n",
       "      <td>2</td>\n",
       "    </tr>\n",
       "    <tr>\n",
       "      <th>3</th>\n",
       "      <td>1016277</td>\n",
       "      <td>6</td>\n",
       "      <td>8</td>\n",
       "      <td>8</td>\n",
       "      <td>1</td>\n",
       "      <td>3</td>\n",
       "      <td>4</td>\n",
       "      <td>3</td>\n",
       "      <td>7</td>\n",
       "      <td>1</td>\n",
       "      <td>2</td>\n",
       "    </tr>\n",
       "    <tr>\n",
       "      <th>4</th>\n",
       "      <td>1017023</td>\n",
       "      <td>4</td>\n",
       "      <td>1</td>\n",
       "      <td>1</td>\n",
       "      <td>3</td>\n",
       "      <td>2</td>\n",
       "      <td>1</td>\n",
       "      <td>3</td>\n",
       "      <td>1</td>\n",
       "      <td>1</td>\n",
       "      <td>2</td>\n",
       "    </tr>\n",
       "    <tr>\n",
       "      <th>5</th>\n",
       "      <td>1017122</td>\n",
       "      <td>8</td>\n",
       "      <td>10</td>\n",
       "      <td>10</td>\n",
       "      <td>8</td>\n",
       "      <td>7</td>\n",
       "      <td>10</td>\n",
       "      <td>9</td>\n",
       "      <td>7</td>\n",
       "      <td>1</td>\n",
       "      <td>4</td>\n",
       "    </tr>\n",
       "    <tr>\n",
       "      <th>6</th>\n",
       "      <td>1018099</td>\n",
       "      <td>1</td>\n",
       "      <td>1</td>\n",
       "      <td>1</td>\n",
       "      <td>1</td>\n",
       "      <td>2</td>\n",
       "      <td>10</td>\n",
       "      <td>3</td>\n",
       "      <td>1</td>\n",
       "      <td>1</td>\n",
       "      <td>2</td>\n",
       "    </tr>\n",
       "    <tr>\n",
       "      <th>7</th>\n",
       "      <td>1018561</td>\n",
       "      <td>2</td>\n",
       "      <td>1</td>\n",
       "      <td>2</td>\n",
       "      <td>1</td>\n",
       "      <td>2</td>\n",
       "      <td>1</td>\n",
       "      <td>3</td>\n",
       "      <td>1</td>\n",
       "      <td>1</td>\n",
       "      <td>2</td>\n",
       "    </tr>\n",
       "    <tr>\n",
       "      <th>8</th>\n",
       "      <td>1033078</td>\n",
       "      <td>2</td>\n",
       "      <td>1</td>\n",
       "      <td>1</td>\n",
       "      <td>1</td>\n",
       "      <td>2</td>\n",
       "      <td>1</td>\n",
       "      <td>1</td>\n",
       "      <td>1</td>\n",
       "      <td>5</td>\n",
       "      <td>2</td>\n",
       "    </tr>\n",
       "    <tr>\n",
       "      <th>9</th>\n",
       "      <td>1033078</td>\n",
       "      <td>4</td>\n",
       "      <td>2</td>\n",
       "      <td>1</td>\n",
       "      <td>1</td>\n",
       "      <td>2</td>\n",
       "      <td>1</td>\n",
       "      <td>2</td>\n",
       "      <td>1</td>\n",
       "      <td>1</td>\n",
       "      <td>2</td>\n",
       "    </tr>\n",
       "  </tbody>\n",
       "</table>\n",
       "</div>"
      ],
      "text/plain": [
       "        ID  Clump  UnifSize  UnifShape  MargAdh  SingEpiSize BareNuc  \\\n",
       "0  1000025      5         1          1        1            2       1   \n",
       "1  1002945      5         4          4        5            7      10   \n",
       "2  1015425      3         1          1        1            2       2   \n",
       "3  1016277      6         8          8        1            3       4   \n",
       "4  1017023      4         1          1        3            2       1   \n",
       "5  1017122      8        10         10        8            7      10   \n",
       "6  1018099      1         1          1        1            2      10   \n",
       "7  1018561      2         1          2        1            2       1   \n",
       "8  1033078      2         1          1        1            2       1   \n",
       "9  1033078      4         2          1        1            2       1   \n",
       "\n",
       "   BlandChrom  NormNucl  Mit  Class  \n",
       "0           3         1    1      2  \n",
       "1           3         2    1      2  \n",
       "2           3         1    1      2  \n",
       "3           3         7    1      2  \n",
       "4           3         1    1      2  \n",
       "5           9         7    1      4  \n",
       "6           3         1    1      2  \n",
       "7           3         1    1      2  \n",
       "8           1         1    5      2  \n",
       "9           2         1    1      2  "
      ]
     },
     "execution_count": 5,
     "metadata": {},
     "output_type": "execute_result"
    }
   ],
   "source": [
    "#display the first 10 rows of data\n",
    "cell_data.head(10)"
   ]
  },
  {
   "cell_type": "markdown",
   "id": "c1502a23-d2e5-43b8-8650-6bdebd194e6d",
   "metadata": {},
   "source": [
    "The characteristics of the cell samples from each patient are contained in fields __Clump__ to __Mit__. The values are graded form 1 to 10, with 1 being the closest to benign.\n",
    "\n",
    "The __Class__ field consists the diagonosis, as connfirmed by separate medical procedures, as to whether the samples are benign (value = 2) or malignant (value = 4)."
   ]
  },
  {
   "cell_type": "markdown",
   "id": "382cf974-a9ec-4aeb-bbd1-0b416cf4c534",
   "metadata": {},
   "source": [
    "## 2. Data Wrangling"
   ]
  },
  {
   "cell_type": "code",
   "execution_count": 6,
   "id": "abaa0a04-856c-4022-801d-db6bfedbab7d",
   "metadata": {},
   "outputs": [
    {
     "data": {
      "text/html": [
       "<div>\n",
       "<style scoped>\n",
       "    .dataframe tbody tr th:only-of-type {\n",
       "        vertical-align: middle;\n",
       "    }\n",
       "\n",
       "    .dataframe tbody tr th {\n",
       "        vertical-align: top;\n",
       "    }\n",
       "\n",
       "    .dataframe thead th {\n",
       "        text-align: right;\n",
       "    }\n",
       "</style>\n",
       "<table border=\"1\" class=\"dataframe\">\n",
       "  <thead>\n",
       "    <tr style=\"text-align: right;\">\n",
       "      <th></th>\n",
       "      <th>ID</th>\n",
       "      <th>Clump</th>\n",
       "      <th>UnifSize</th>\n",
       "      <th>UnifShape</th>\n",
       "      <th>MargAdh</th>\n",
       "      <th>SingEpiSize</th>\n",
       "      <th>BareNuc</th>\n",
       "      <th>BlandChrom</th>\n",
       "      <th>NormNucl</th>\n",
       "      <th>Mit</th>\n",
       "      <th>Class</th>\n",
       "    </tr>\n",
       "  </thead>\n",
       "  <tbody>\n",
       "    <tr>\n",
       "      <th>0</th>\n",
       "      <td>False</td>\n",
       "      <td>False</td>\n",
       "      <td>False</td>\n",
       "      <td>False</td>\n",
       "      <td>False</td>\n",
       "      <td>False</td>\n",
       "      <td>False</td>\n",
       "      <td>False</td>\n",
       "      <td>False</td>\n",
       "      <td>False</td>\n",
       "      <td>False</td>\n",
       "    </tr>\n",
       "    <tr>\n",
       "      <th>1</th>\n",
       "      <td>False</td>\n",
       "      <td>False</td>\n",
       "      <td>False</td>\n",
       "      <td>False</td>\n",
       "      <td>False</td>\n",
       "      <td>False</td>\n",
       "      <td>False</td>\n",
       "      <td>False</td>\n",
       "      <td>False</td>\n",
       "      <td>False</td>\n",
       "      <td>False</td>\n",
       "    </tr>\n",
       "    <tr>\n",
       "      <th>2</th>\n",
       "      <td>False</td>\n",
       "      <td>False</td>\n",
       "      <td>False</td>\n",
       "      <td>False</td>\n",
       "      <td>False</td>\n",
       "      <td>False</td>\n",
       "      <td>False</td>\n",
       "      <td>False</td>\n",
       "      <td>False</td>\n",
       "      <td>False</td>\n",
       "      <td>False</td>\n",
       "    </tr>\n",
       "    <tr>\n",
       "      <th>3</th>\n",
       "      <td>False</td>\n",
       "      <td>False</td>\n",
       "      <td>False</td>\n",
       "      <td>False</td>\n",
       "      <td>False</td>\n",
       "      <td>False</td>\n",
       "      <td>False</td>\n",
       "      <td>False</td>\n",
       "      <td>False</td>\n",
       "      <td>False</td>\n",
       "      <td>False</td>\n",
       "    </tr>\n",
       "    <tr>\n",
       "      <th>4</th>\n",
       "      <td>False</td>\n",
       "      <td>False</td>\n",
       "      <td>False</td>\n",
       "      <td>False</td>\n",
       "      <td>False</td>\n",
       "      <td>False</td>\n",
       "      <td>False</td>\n",
       "      <td>False</td>\n",
       "      <td>False</td>\n",
       "      <td>False</td>\n",
       "      <td>False</td>\n",
       "    </tr>\n",
       "  </tbody>\n",
       "</table>\n",
       "</div>"
      ],
      "text/plain": [
       "      ID  Clump  UnifSize  UnifShape  MargAdh  SingEpiSize  BareNuc  \\\n",
       "0  False  False     False      False    False        False    False   \n",
       "1  False  False     False      False    False        False    False   \n",
       "2  False  False     False      False    False        False    False   \n",
       "3  False  False     False      False    False        False    False   \n",
       "4  False  False     False      False    False        False    False   \n",
       "\n",
       "   BlandChrom  NormNucl    Mit  Class  \n",
       "0       False     False  False  False  \n",
       "1       False     False  False  False  \n",
       "2       False     False  False  False  \n",
       "3       False     False  False  False  \n",
       "4       False     False  False  False  "
      ]
     },
     "execution_count": 6,
     "metadata": {},
     "output_type": "execute_result"
    }
   ],
   "source": [
    "#Evaluating the missing data\n",
    "missing_data = cell_data.isnull()\n",
    "missing_data.head()"
   ]
  },
  {
   "cell_type": "markdown",
   "id": "db248042-450b-479e-971e-e04eda1b3f10",
   "metadata": {},
   "source": [
    "\"True\" measn the data is missing. From the first 5 rows, there seem no missing data. "
   ]
  },
  {
   "cell_type": "code",
   "execution_count": 7,
   "id": "0e21072e-4313-4749-bfaf-68a9383256bb",
   "metadata": {},
   "outputs": [
    {
     "name": "stdout",
     "output_type": "stream",
     "text": [
      "<class 'pandas.core.frame.DataFrame'>\n",
      "RangeIndex: 699 entries, 0 to 698\n",
      "Data columns (total 11 columns):\n",
      " #   Column       Non-Null Count  Dtype \n",
      "---  ------       --------------  ----- \n",
      " 0   ID           699 non-null    int64 \n",
      " 1   Clump        699 non-null    int64 \n",
      " 2   UnifSize     699 non-null    int64 \n",
      " 3   UnifShape    699 non-null    int64 \n",
      " 4   MargAdh      699 non-null    int64 \n",
      " 5   SingEpiSize  699 non-null    int64 \n",
      " 6   BareNuc      699 non-null    object\n",
      " 7   BlandChrom   699 non-null    int64 \n",
      " 8   NormNucl     699 non-null    int64 \n",
      " 9   Mit          699 non-null    int64 \n",
      " 10  Class        699 non-null    int64 \n",
      "dtypes: int64(10), object(1)\n",
      "memory usage: 60.2+ KB\n"
     ]
    }
   ],
   "source": [
    "#Here use info() to count non-null values or missing values in each column\n",
    "cell_data.info()"
   ]
  },
  {
   "cell_type": "markdown",
   "id": "7265985d-20c2-4800-b826-ce260522bd2d",
   "metadata": {},
   "source": [
    "Nice. There is no missing data in this dataset."
   ]
  },
  {
   "cell_type": "markdown",
   "id": "9bed7c2c-f8ef-49e2-974b-0f424de324c6",
   "metadata": {},
   "source": [
    "#### Correct data format"
   ]
  },
  {
   "cell_type": "code",
   "execution_count": 8,
   "id": "fc2c83bb-c601-45cc-8297-10624e3d048b",
   "metadata": {},
   "outputs": [
    {
     "data": {
      "text/plain": [
       "ID              int64\n",
       "Clump           int64\n",
       "UnifSize        int64\n",
       "UnifShape       int64\n",
       "MargAdh         int64\n",
       "SingEpiSize     int64\n",
       "BareNuc        object\n",
       "BlandChrom      int64\n",
       "NormNucl        int64\n",
       "Mit             int64\n",
       "Class           int64\n",
       "dtype: object"
      ]
     },
     "execution_count": 8,
     "metadata": {},
     "output_type": "execute_result"
    }
   ],
   "source": [
    "# check the data type\n",
    "cell_data.dtypes"
   ]
  },
  {
   "cell_type": "markdown",
   "id": "60ccd8b3-629a-4672-9993-2aadeb2afbf9",
   "metadata": {},
   "source": [
    "It looks like __BareNuc__ column has some values that are not numerical. Let's have a check. "
   ]
  },
  {
   "cell_type": "code",
   "execution_count": 9,
   "id": "69b9e182-0ff2-429e-8411-979f55df67f0",
   "metadata": {},
   "outputs": [
    {
     "data": {
      "text/plain": [
       "BareNuc\n",
       "1     402\n",
       "10    132\n",
       "2      30\n",
       "5      30\n",
       "3      28\n",
       "8      21\n",
       "4      19\n",
       "?      16\n",
       "9       9\n",
       "7       8\n",
       "6       4\n",
       "Name: count, dtype: int64"
      ]
     },
     "execution_count": 9,
     "metadata": {},
     "output_type": "execute_result"
    }
   ],
   "source": [
    "cell_data['BareNuc'].value_counts()"
   ]
  },
  {
   "cell_type": "markdown",
   "id": "6e4828a8-bdf9-4f6d-819c-4c8755fce792",
   "metadata": {},
   "source": [
    "There are __?__, which should be removed from the data."
   ]
  },
  {
   "cell_type": "code",
   "execution_count": 10,
   "id": "ddd56f17-ff34-4997-8cb9-b8801490ea8a",
   "metadata": {},
   "outputs": [],
   "source": [
    "# replacing ? with np.nan\n",
    "cell_data.replace('?', np.NaN, inplace = True)"
   ]
  },
  {
   "cell_type": "code",
   "execution_count": 11,
   "id": "258eb602-3428-411a-8547-21be650da755",
   "metadata": {},
   "outputs": [],
   "source": [
    "#Since patient information is unique, we just remomve those misssing data. \n",
    "cell_data = cell_data.dropna(subset=['BareNuc'],axis=0)"
   ]
  },
  {
   "cell_type": "code",
   "execution_count": 12,
   "id": "5c442a6c-2cc3-4f86-963a-1b3f5b94bf81",
   "metadata": {},
   "outputs": [],
   "source": [
    "#change data format using astype()\n",
    "cell_data[['BareNuc']] = cell_data[['BareNuc']].astype('int')"
   ]
  },
  {
   "cell_type": "code",
   "execution_count": 13,
   "id": "8077a6ab-564d-444d-9bcd-4f85eb92a012",
   "metadata": {},
   "outputs": [
    {
     "name": "stdout",
     "output_type": "stream",
     "text": [
      "<class 'pandas.core.frame.DataFrame'>\n",
      "Index: 683 entries, 0 to 698\n",
      "Data columns (total 11 columns):\n",
      " #   Column       Non-Null Count  Dtype\n",
      "---  ------       --------------  -----\n",
      " 0   ID           683 non-null    int64\n",
      " 1   Clump        683 non-null    int64\n",
      " 2   UnifSize     683 non-null    int64\n",
      " 3   UnifShape    683 non-null    int64\n",
      " 4   MargAdh      683 non-null    int64\n",
      " 5   SingEpiSize  683 non-null    int64\n",
      " 6   BareNuc      683 non-null    int32\n",
      " 7   BlandChrom   683 non-null    int64\n",
      " 8   NormNucl     683 non-null    int64\n",
      " 9   Mit          683 non-null    int64\n",
      " 10  Class        683 non-null    int64\n",
      "dtypes: int32(1), int64(10)\n",
      "memory usage: 61.4 KB\n"
     ]
    }
   ],
   "source": [
    "cell_data.info()"
   ]
  },
  {
   "cell_type": "markdown",
   "id": "cb8ba7b7-d515-4424-a0de-039c7f1980bc",
   "metadata": {},
   "source": [
    "## 3. Exploratory Data Analysis"
   ]
  },
  {
   "cell_type": "markdown",
   "id": "0572956f-2606-4f55-bb61-0bdab36f2d4f",
   "metadata": {},
   "source": [
    "Data Exploratory or data analysis is requried to find the features or characteristics of the data. Here, we just use visulization to see the distribution of __Class__."
   ]
  },
  {
   "cell_type": "markdown",
   "id": "823a4f82-f034-4fe8-8b2e-4613428ff3d8",
   "metadata": {},
   "source": [
    "Let's first calculate the correlation between variabels. "
   ]
  },
  {
   "cell_type": "code",
   "execution_count": 14,
   "id": "d0f97652-5f02-492d-8be0-777ceb3cd99f",
   "metadata": {},
   "outputs": [
    {
     "data": {
      "text/html": [
       "<div>\n",
       "<style scoped>\n",
       "    .dataframe tbody tr th:only-of-type {\n",
       "        vertical-align: middle;\n",
       "    }\n",
       "\n",
       "    .dataframe tbody tr th {\n",
       "        vertical-align: top;\n",
       "    }\n",
       "\n",
       "    .dataframe thead th {\n",
       "        text-align: right;\n",
       "    }\n",
       "</style>\n",
       "<table border=\"1\" class=\"dataframe\">\n",
       "  <thead>\n",
       "    <tr style=\"text-align: right;\">\n",
       "      <th></th>\n",
       "      <th>ID</th>\n",
       "      <th>Clump</th>\n",
       "      <th>UnifSize</th>\n",
       "      <th>UnifShape</th>\n",
       "      <th>MargAdh</th>\n",
       "      <th>SingEpiSize</th>\n",
       "      <th>BareNuc</th>\n",
       "      <th>BlandChrom</th>\n",
       "      <th>NormNucl</th>\n",
       "      <th>Mit</th>\n",
       "      <th>Class</th>\n",
       "    </tr>\n",
       "  </thead>\n",
       "  <tbody>\n",
       "    <tr>\n",
       "      <th>ID</th>\n",
       "      <td>1.000000</td>\n",
       "      <td>-0.056350</td>\n",
       "      <td>-0.041396</td>\n",
       "      <td>-0.042221</td>\n",
       "      <td>-0.069630</td>\n",
       "      <td>-0.048644</td>\n",
       "      <td>-0.099248</td>\n",
       "      <td>-0.061966</td>\n",
       "      <td>-0.050699</td>\n",
       "      <td>-0.037972</td>\n",
       "      <td>-0.084701</td>\n",
       "    </tr>\n",
       "    <tr>\n",
       "      <th>Clump</th>\n",
       "      <td>-0.056350</td>\n",
       "      <td>1.000000</td>\n",
       "      <td>0.642481</td>\n",
       "      <td>0.653470</td>\n",
       "      <td>0.487829</td>\n",
       "      <td>0.523596</td>\n",
       "      <td>0.593091</td>\n",
       "      <td>0.553742</td>\n",
       "      <td>0.534066</td>\n",
       "      <td>0.350957</td>\n",
       "      <td>0.714790</td>\n",
       "    </tr>\n",
       "    <tr>\n",
       "      <th>UnifSize</th>\n",
       "      <td>-0.041396</td>\n",
       "      <td>0.642481</td>\n",
       "      <td>1.000000</td>\n",
       "      <td>0.907228</td>\n",
       "      <td>0.706977</td>\n",
       "      <td>0.753544</td>\n",
       "      <td>0.691709</td>\n",
       "      <td>0.755559</td>\n",
       "      <td>0.719346</td>\n",
       "      <td>0.460755</td>\n",
       "      <td>0.820801</td>\n",
       "    </tr>\n",
       "    <tr>\n",
       "      <th>UnifShape</th>\n",
       "      <td>-0.042221</td>\n",
       "      <td>0.653470</td>\n",
       "      <td>0.907228</td>\n",
       "      <td>1.000000</td>\n",
       "      <td>0.685948</td>\n",
       "      <td>0.722462</td>\n",
       "      <td>0.713878</td>\n",
       "      <td>0.735344</td>\n",
       "      <td>0.717963</td>\n",
       "      <td>0.441258</td>\n",
       "      <td>0.821891</td>\n",
       "    </tr>\n",
       "    <tr>\n",
       "      <th>MargAdh</th>\n",
       "      <td>-0.069630</td>\n",
       "      <td>0.487829</td>\n",
       "      <td>0.706977</td>\n",
       "      <td>0.685948</td>\n",
       "      <td>1.000000</td>\n",
       "      <td>0.594548</td>\n",
       "      <td>0.670648</td>\n",
       "      <td>0.668567</td>\n",
       "      <td>0.603121</td>\n",
       "      <td>0.418898</td>\n",
       "      <td>0.706294</td>\n",
       "    </tr>\n",
       "    <tr>\n",
       "      <th>SingEpiSize</th>\n",
       "      <td>-0.048644</td>\n",
       "      <td>0.523596</td>\n",
       "      <td>0.753544</td>\n",
       "      <td>0.722462</td>\n",
       "      <td>0.594548</td>\n",
       "      <td>1.000000</td>\n",
       "      <td>0.585716</td>\n",
       "      <td>0.618128</td>\n",
       "      <td>0.628926</td>\n",
       "      <td>0.480583</td>\n",
       "      <td>0.690958</td>\n",
       "    </tr>\n",
       "    <tr>\n",
       "      <th>BareNuc</th>\n",
       "      <td>-0.099248</td>\n",
       "      <td>0.593091</td>\n",
       "      <td>0.691709</td>\n",
       "      <td>0.713878</td>\n",
       "      <td>0.670648</td>\n",
       "      <td>0.585716</td>\n",
       "      <td>1.000000</td>\n",
       "      <td>0.680615</td>\n",
       "      <td>0.584280</td>\n",
       "      <td>0.339210</td>\n",
       "      <td>0.822696</td>\n",
       "    </tr>\n",
       "    <tr>\n",
       "      <th>BlandChrom</th>\n",
       "      <td>-0.061966</td>\n",
       "      <td>0.553742</td>\n",
       "      <td>0.755559</td>\n",
       "      <td>0.735344</td>\n",
       "      <td>0.668567</td>\n",
       "      <td>0.618128</td>\n",
       "      <td>0.680615</td>\n",
       "      <td>1.000000</td>\n",
       "      <td>0.665602</td>\n",
       "      <td>0.346011</td>\n",
       "      <td>0.758228</td>\n",
       "    </tr>\n",
       "    <tr>\n",
       "      <th>NormNucl</th>\n",
       "      <td>-0.050699</td>\n",
       "      <td>0.534066</td>\n",
       "      <td>0.719346</td>\n",
       "      <td>0.717963</td>\n",
       "      <td>0.603121</td>\n",
       "      <td>0.628926</td>\n",
       "      <td>0.584280</td>\n",
       "      <td>0.665602</td>\n",
       "      <td>1.000000</td>\n",
       "      <td>0.433757</td>\n",
       "      <td>0.718677</td>\n",
       "    </tr>\n",
       "    <tr>\n",
       "      <th>Mit</th>\n",
       "      <td>-0.037972</td>\n",
       "      <td>0.350957</td>\n",
       "      <td>0.460755</td>\n",
       "      <td>0.441258</td>\n",
       "      <td>0.418898</td>\n",
       "      <td>0.480583</td>\n",
       "      <td>0.339210</td>\n",
       "      <td>0.346011</td>\n",
       "      <td>0.433757</td>\n",
       "      <td>1.000000</td>\n",
       "      <td>0.423448</td>\n",
       "    </tr>\n",
       "    <tr>\n",
       "      <th>Class</th>\n",
       "      <td>-0.084701</td>\n",
       "      <td>0.714790</td>\n",
       "      <td>0.820801</td>\n",
       "      <td>0.821891</td>\n",
       "      <td>0.706294</td>\n",
       "      <td>0.690958</td>\n",
       "      <td>0.822696</td>\n",
       "      <td>0.758228</td>\n",
       "      <td>0.718677</td>\n",
       "      <td>0.423448</td>\n",
       "      <td>1.000000</td>\n",
       "    </tr>\n",
       "  </tbody>\n",
       "</table>\n",
       "</div>"
      ],
      "text/plain": [
       "                   ID     Clump  UnifSize  UnifShape   MargAdh  SingEpiSize  \\\n",
       "ID           1.000000 -0.056350 -0.041396  -0.042221 -0.069630    -0.048644   \n",
       "Clump       -0.056350  1.000000  0.642481   0.653470  0.487829     0.523596   \n",
       "UnifSize    -0.041396  0.642481  1.000000   0.907228  0.706977     0.753544   \n",
       "UnifShape   -0.042221  0.653470  0.907228   1.000000  0.685948     0.722462   \n",
       "MargAdh     -0.069630  0.487829  0.706977   0.685948  1.000000     0.594548   \n",
       "SingEpiSize -0.048644  0.523596  0.753544   0.722462  0.594548     1.000000   \n",
       "BareNuc     -0.099248  0.593091  0.691709   0.713878  0.670648     0.585716   \n",
       "BlandChrom  -0.061966  0.553742  0.755559   0.735344  0.668567     0.618128   \n",
       "NormNucl    -0.050699  0.534066  0.719346   0.717963  0.603121     0.628926   \n",
       "Mit         -0.037972  0.350957  0.460755   0.441258  0.418898     0.480583   \n",
       "Class       -0.084701  0.714790  0.820801   0.821891  0.706294     0.690958   \n",
       "\n",
       "              BareNuc  BlandChrom  NormNucl       Mit     Class  \n",
       "ID          -0.099248   -0.061966 -0.050699 -0.037972 -0.084701  \n",
       "Clump        0.593091    0.553742  0.534066  0.350957  0.714790  \n",
       "UnifSize     0.691709    0.755559  0.719346  0.460755  0.820801  \n",
       "UnifShape    0.713878    0.735344  0.717963  0.441258  0.821891  \n",
       "MargAdh      0.670648    0.668567  0.603121  0.418898  0.706294  \n",
       "SingEpiSize  0.585716    0.618128  0.628926  0.480583  0.690958  \n",
       "BareNuc      1.000000    0.680615  0.584280  0.339210  0.822696  \n",
       "BlandChrom   0.680615    1.000000  0.665602  0.346011  0.758228  \n",
       "NormNucl     0.584280    0.665602  1.000000  0.433757  0.718677  \n",
       "Mit          0.339210    0.346011  0.433757  1.000000  0.423448  \n",
       "Class        0.822696    0.758228  0.718677  0.423448  1.000000  "
      ]
     },
     "execution_count": 14,
     "metadata": {},
     "output_type": "execute_result"
    }
   ],
   "source": [
    "cell_data.corr()"
   ]
  },
  {
   "cell_type": "code",
   "execution_count": 15,
   "id": "3aa8f7fc-3fcf-4164-b79b-0565a2dfd298",
   "metadata": {},
   "outputs": [
    {
     "data": {
      "text/plain": [
       "Clump\n",
       "1     139\n",
       "5     128\n",
       "3     104\n",
       "4      79\n",
       "10     69\n",
       "2      50\n",
       "8      44\n",
       "6      33\n",
       "7      23\n",
       "9      14\n",
       "Name: count, dtype: int64"
      ]
     },
     "execution_count": 15,
     "metadata": {},
     "output_type": "execute_result"
    }
   ],
   "source": [
    "cell_data['Clump'].value_counts()"
   ]
  },
  {
   "cell_type": "code",
   "execution_count": 16,
   "id": "390bb495-bdd1-4f87-8f93-bc1c1bcf7e8c",
   "metadata": {},
   "outputs": [
    {
     "data": {
      "text/plain": [
       "UnifSize\n",
       "1     373\n",
       "10     67\n",
       "3      52\n",
       "2      45\n",
       "4      38\n",
       "5      30\n",
       "8      28\n",
       "6      25\n",
       "7      19\n",
       "9       6\n",
       "Name: count, dtype: int64"
      ]
     },
     "execution_count": 16,
     "metadata": {},
     "output_type": "execute_result"
    }
   ],
   "source": [
    "cell_data['UnifSize'].value_counts()"
   ]
  },
  {
   "cell_type": "code",
   "execution_count": 17,
   "id": "749f6458-30e7-4634-a613-7946ea573f71",
   "metadata": {},
   "outputs": [
    {
     "data": {
      "text/plain": [
       "UnifShape\n",
       "1     346\n",
       "10     58\n",
       "2      58\n",
       "3      53\n",
       "4      43\n",
       "5      32\n",
       "7      30\n",
       "6      29\n",
       "8      27\n",
       "9       7\n",
       "Name: count, dtype: int64"
      ]
     },
     "execution_count": 17,
     "metadata": {},
     "output_type": "execute_result"
    }
   ],
   "source": [
    "cell_data['UnifShape'].value_counts()"
   ]
  },
  {
   "cell_type": "code",
   "execution_count": 18,
   "id": "4d63f37e-ab68-4e3c-a9f6-f17454cefdf1",
   "metadata": {},
   "outputs": [
    {
     "data": {
      "text/plain": [
       "MargAdh\n",
       "1     393\n",
       "3      58\n",
       "2      58\n",
       "10     55\n",
       "4      33\n",
       "8      25\n",
       "5      23\n",
       "6      21\n",
       "7      13\n",
       "9       4\n",
       "Name: count, dtype: int64"
      ]
     },
     "execution_count": 18,
     "metadata": {},
     "output_type": "execute_result"
    }
   ],
   "source": [
    "cell_data['MargAdh'].value_counts()"
   ]
  },
  {
   "cell_type": "code",
   "execution_count": 19,
   "id": "80602ae5-65bc-48c4-b1cb-c882fd3c2597",
   "metadata": {},
   "outputs": [
    {
     "data": {
      "text/plain": [
       "SingEpiSize\n",
       "2     376\n",
       "3      71\n",
       "4      48\n",
       "1      44\n",
       "6      40\n",
       "5      39\n",
       "10     31\n",
       "8      21\n",
       "7      11\n",
       "9       2\n",
       "Name: count, dtype: int64"
      ]
     },
     "execution_count": 19,
     "metadata": {},
     "output_type": "execute_result"
    }
   ],
   "source": [
    "cell_data['SingEpiSize'].value_counts()"
   ]
  },
  {
   "cell_type": "code",
   "execution_count": 20,
   "id": "457da907-8402-4eaa-aef3-9fef41af058e",
   "metadata": {},
   "outputs": [
    {
     "data": {
      "text/plain": [
       "BareNuc\n",
       "1     402\n",
       "10    132\n",
       "2      30\n",
       "5      30\n",
       "3      28\n",
       "8      21\n",
       "4      19\n",
       "9       9\n",
       "7       8\n",
       "6       4\n",
       "Name: count, dtype: int64"
      ]
     },
     "execution_count": 20,
     "metadata": {},
     "output_type": "execute_result"
    }
   ],
   "source": [
    "cell_data['BareNuc'].value_counts()"
   ]
  },
  {
   "cell_type": "code",
   "execution_count": 21,
   "id": "0d5b9732-a96e-4c51-9a21-e6af3eaf30fd",
   "metadata": {},
   "outputs": [
    {
     "data": {
      "text/plain": [
       "BlandChrom\n",
       "3     161\n",
       "2     160\n",
       "1     150\n",
       "7      71\n",
       "4      39\n",
       "5      34\n",
       "8      28\n",
       "10     20\n",
       "9      11\n",
       "6       9\n",
       "Name: count, dtype: int64"
      ]
     },
     "execution_count": 21,
     "metadata": {},
     "output_type": "execute_result"
    }
   ],
   "source": [
    "cell_data['BlandChrom'].value_counts()"
   ]
  },
  {
   "cell_type": "code",
   "execution_count": 22,
   "id": "9d71e03a-6340-4df6-9b9f-82979c5df022",
   "metadata": {},
   "outputs": [
    {
     "data": {
      "text/plain": [
       "NormNucl\n",
       "1     432\n",
       "10     60\n",
       "3      42\n",
       "2      36\n",
       "8      23\n",
       "6      22\n",
       "5      19\n",
       "4      18\n",
       "7      16\n",
       "9      15\n",
       "Name: count, dtype: int64"
      ]
     },
     "execution_count": 22,
     "metadata": {},
     "output_type": "execute_result"
    }
   ],
   "source": [
    "cell_data['NormNucl'].value_counts()"
   ]
  },
  {
   "cell_type": "code",
   "execution_count": 23,
   "id": "29a73304-efbe-428c-80d7-4afaa9f0f6b5",
   "metadata": {},
   "outputs": [
    {
     "data": {
      "text/plain": [
       "Mit\n",
       "1     563\n",
       "2      35\n",
       "3      33\n",
       "10     14\n",
       "4      12\n",
       "7       9\n",
       "8       8\n",
       "5       6\n",
       "6       3\n",
       "Name: count, dtype: int64"
      ]
     },
     "execution_count": 23,
     "metadata": {},
     "output_type": "execute_result"
    }
   ],
   "source": [
    "cell_data['Mit'].value_counts()"
   ]
  },
  {
   "cell_type": "code",
   "execution_count": 24,
   "id": "30a117b0-432c-494d-8cd8-63c903690e29",
   "metadata": {},
   "outputs": [
    {
     "data": {
      "text/plain": [
       "Class\n",
       "2    444\n",
       "4    239\n",
       "Name: count, dtype: int64"
      ]
     },
     "execution_count": 24,
     "metadata": {},
     "output_type": "execute_result"
    }
   ],
   "source": [
    "cell_data['Class'].value_counts()"
   ]
  },
  {
   "cell_type": "markdown",
   "id": "692c8ece-42b6-43fd-8274-2c4be09e4a8e",
   "metadata": {},
   "source": [
    "From above tables, we can see the correlations between two variables. If the correlation is close to 1, it means two variabels are positively correlated. Otherwise, if the correlation is close to -1, it means two variables are negatively correlated. If the correlation is close to 0, it means two variabels are not correlated."
   ]
  },
  {
   "cell_type": "markdown",
   "id": "b0d2bbcb-612a-4661-a377-d63b656bc566",
   "metadata": {},
   "source": [
    "Next, we visualize the distribution of __Class__."
   ]
  },
  {
   "cell_type": "code",
   "execution_count": 25,
   "id": "102f3b43-ec4c-46ef-b168-0baf49f9353b",
   "metadata": {},
   "outputs": [
    {
     "data": {
      "image/png": "[encoded data removed]",
      "text/plain": [
       "<Figure size 1600x800 with 5 Axes>"
      ]
     },
     "metadata": {},
     "output_type": "display_data"
    }
   ],
   "source": [
    "# use scatter\n",
    "\n",
    "fig = plt.figure(figsize=(16,8))\n",
    "ax = fig.add_subplot(241)\n",
    "cell_data[cell_data['Class'] == 4].plot.scatter(x='Clump', y='UnifSize', color='DarkBlue', label='malignant', ax=ax)\n",
    "cell_data[cell_data['Class'] == 2].plot.scatter(x='Clump', y='UnifSize', color='Yellow', label='benign', ax=ax)\n",
    "plt.tight_layout()\n",
    "\n",
    "ax = fig.add_subplot(242)\n",
    "cell_data[cell_data['Class'] == 4].plot.scatter(x='UnifShape', y='MargAdh', color='DarkBlue', label='malignant', ax=ax)\n",
    "cell_data[cell_data['Class'] == 2].plot.scatter(x='UnifShape', y='MargAdh', color='Yellow', label='benign', ax=ax)\n",
    "plt.tight_layout()\n",
    "\n",
    "ax = fig.add_subplot(243)\n",
    "cell_data[cell_data['Class'] == 4].plot.scatter(x='SingEpiSize', y='BareNuc', color='DarkBlue', label='malignant', ax=ax)\n",
    "cell_data[cell_data['Class'] == 2].plot.scatter(x='SingEpiSize', y='BareNuc', color='Yellow', label='benign', ax=ax)\n",
    "plt.tight_layout()\n",
    "\n",
    "ax = fig.add_subplot(244)\n",
    "cell_data[cell_data['Class'] == 4].plot.scatter(x='BlandChrom', y='NormNucl', color='DarkBlue', label='malignant', ax=ax)\n",
    "cell_data[cell_data['Class'] == 2].plot.scatter(x='BlandChrom', y='NormNucl', color='Yellow', label='benign', ax=ax)\n",
    "plt.tight_layout()\n",
    "\n",
    "ax = fig.add_subplot(245)\n",
    "cell_data[cell_data['Class'] == 4].plot.scatter(x='Clump', y='Mit', color='DarkBlue', label='malignant', ax=ax)\n",
    "cell_data[cell_data['Class'] == 2].plot.scatter(x='Clump', y='Mit', color='Yellow', label='benign', ax=ax)\n",
    "plt.tight_layout()"
   ]
  },
  {
   "cell_type": "markdown",
   "id": "40426fe1-7f24-4db0-a64b-811d9ae6dda7",
   "metadata": {},
   "source": [
    "The distribution of Class doesn't seem having any clear pattern. "
   ]
  },
  {
   "cell_type": "markdown",
   "id": "668e019e-a620-4787-9f1e-17535669ae37",
   "metadata": {},
   "source": [
    "### 4. Model Development"
   ]
  },
  {
   "cell_type": "markdown",
   "id": "81d1345c-ade5-4728-9de2-863ebad3445b",
   "metadata": {},
   "source": [
    "In this section, a SVM ( Support Vector Machines) is developed to classify the cells.  The SVM algorithm offers a choice of kernel functions for performing its processing. Basically, mapping data into a higher dimensional space is called kernelling. The mathematical function used for the transformation is known as the kernel function, and can be of different types, such as:\n",
    "- 1.Linear\n",
    "- 2.Polynomial\n",
    "- 3.Radial basis function (RBF)\n",
    "- 4.Precomputed\n",
    "- 5.Sigmoid\n",
    "\n",
    "Each of these functions has its characteristic, its pros and cons, and its equation, but as there is no easy way of knowing which function preforms best with any given dataset. Usually we choose different functions in turn and compare the results. Since \"precomputed\" kernal requires square matrix as input, it is not evaluated on this data set. "
   ]
  },
  {
   "cell_type": "markdown",
   "id": "2e7823f5-7269-418f-81c8-20940c0fb34a",
   "metadata": {},
   "source": [
    "#### 4.1 Linear"
   ]
  },
  {
   "cell_type": "code",
   "execution_count": 26,
   "id": "a6577b67-bd29-4c69-b733-b54010db3e4c",
   "metadata": {},
   "outputs": [],
   "source": [
    "#import libraries\n",
    "from sklearn import svm\n",
    "from sklearn.metrics import mean_squared_error"
   ]
  },
  {
   "cell_type": "code",
   "execution_count": 27,
   "id": "9e7a069f-a41c-4498-a670-a356f8291c2e",
   "metadata": {},
   "outputs": [],
   "source": [
    "#save the variabels and class to new variables\n",
    "Variables = cell_data[[\"Clump\", \"UnifSize\", \"UnifShape\", \"MargAdh\", \"SingEpiSize\", \"BareNuc\",\"BlandChrom\",\"NormNucl\",\"Mit\"]]\n",
    "Price = cell_data['Class']"
   ]
  },
  {
   "cell_type": "code",
   "execution_count": 28,
   "id": "22eeca08-8b17-46c0-9ef1-0a374091e26e",
   "metadata": {},
   "outputs": [],
   "source": [
    "#split the data\n",
    "x_train, x_test, y_train, y_test = train_test_split(Variables, Price, test_size=0.20, random_state=1)"
   ]
  },
  {
   "cell_type": "code",
   "execution_count": 29,
   "id": "e20d9e38-6ec5-4cda-9588-cb4ce8a794ef",
   "metadata": {},
   "outputs": [],
   "source": [
    "#create svm object\n",
    "clf = svm.SVC(kernel='linear')"
   ]
  },
  {
   "cell_type": "code",
   "execution_count": 30,
   "id": "d4bb2ee1-0a1a-4cf5-90db-660f3bca61d3",
   "metadata": {},
   "outputs": [
    {
     "data": {
      "text/html": [
       "<style>#sk-container-id-1 {color: black;}#sk-container-id-1 pre{padding: 0;}#sk-container-id-1 div.sk-toggleable {background-color: white;}#sk-container-id-1 label.sk-toggleable__label {cursor: pointer;display: block;width: 100%;margin-bottom: 0;padding: 0.3em;box-sizing: border-box;text-align: center;}#sk-container-id-1 label.sk-toggleable__label-arrow:before {content: \"▸\";float: left;margin-right: 0.25em;color: #696969;}#sk-container-id-1 label.sk-toggleable__label-arrow:hover:before {color: black;}#sk-container-id-1 div.sk-estimator:hover label.sk-toggleable__label-arrow:before {color: black;}#sk-container-id-1 div.sk-toggleable__content {max-height: 0;max-width: 0;overflow: hidden;text-align: left;background-color: #f0f8ff;}#sk-container-id-1 div.sk-toggleable__content pre {margin: 0.2em;color: black;border-radius: 0.25em;background-color: #f0f8ff;}#sk-container-id-1 input.sk-toggleable__control:checked~div.sk-toggleable__content {max-height: 200px;max-width: 100%;overflow: auto;}#sk-container-id-1 input.sk-toggleable__control:checked~label.sk-toggleable__label-arrow:before {content: \"▾\";}#sk-container-id-1 div.sk-estimator input.sk-toggleable__control:checked~label.sk-toggleable__label {background-color: #d4ebff;}#sk-container-id-1 div.sk-label input.sk-toggleable__control:checked~label.sk-toggleable__label {background-color: #d4ebff;}#sk-container-id-1 input.sk-hidden--visually {border: 0;clip: rect(1px 1px 1px 1px);clip: rect(1px, 1px, 1px, 1px);height: 1px;margin: -1px;overflow: hidden;padding: 0;position: absolute;width: 1px;}#sk-container-id-1 div.sk-estimator {font-family: monospace;background-color: #f0f8ff;border: 1px dotted black;border-radius: 0.25em;box-sizing: border-box;margin-bottom: 0.5em;}#sk-container-id-1 div.sk-estimator:hover {background-color: #d4ebff;}#sk-container-id-1 div.sk-parallel-item::after {content: \"\";width: 100%;border-bottom: 1px solid gray;flex-grow: 1;}#sk-container-id-1 div.sk-label:hover label.sk-toggleable__label {background-color: #d4ebff;}#sk-container-id-1 div.sk-serial::before {content: \"\";position: absolute;border-left: 1px solid gray;box-sizing: border-box;top: 0;bottom: 0;left: 50%;z-index: 0;}#sk-container-id-1 div.sk-serial {display: flex;flex-direction: column;align-items: center;background-color: white;padding-right: 0.2em;padding-left: 0.2em;position: relative;}#sk-container-id-1 div.sk-item {position: relative;z-index: 1;}#sk-container-id-1 div.sk-parallel {display: flex;align-items: stretch;justify-content: center;background-color: white;position: relative;}#sk-container-id-1 div.sk-item::before, #sk-container-id-1 div.sk-parallel-item::before {content: \"\";position: absolute;border-left: 1px solid gray;box-sizing: border-box;top: 0;bottom: 0;left: 50%;z-index: -1;}#sk-container-id-1 div.sk-parallel-item {display: flex;flex-direction: column;z-index: 1;position: relative;background-color: white;}#sk-container-id-1 div.sk-parallel-item:first-child::after {align-self: flex-end;width: 50%;}#sk-container-id-1 div.sk-parallel-item:last-child::after {align-self: flex-start;width: 50%;}#sk-container-id-1 div.sk-parallel-item:only-child::after {width: 0;}#sk-container-id-1 div.sk-dashed-wrapped {border: 1px dashed gray;margin: 0 0.4em 0.5em 0.4em;box-sizing: border-box;padding-bottom: 0.4em;background-color: white;}#sk-container-id-1 div.sk-label label {font-family: monospace;font-weight: bold;display: inline-block;line-height: 1.2em;}#sk-container-id-1 div.sk-label-container {text-align: center;}#sk-container-id-1 div.sk-container {/* jupyter's `normalize.less` sets `[hidden] { display: none; }` but bootstrap.min.css set `[hidden] { display: none !important; }` so we also need the `!important` here to be able to override the default hidden behavior on the sphinx rendered scikit-learn.org. See: https://github.com/scikit-learn/scikit-learn/issues/21755 */display: inline-block !important;position: relative;}#sk-container-id-1 div.sk-text-repr-fallback {display: none;}</style><div id=\"sk-container-id-1\" class=\"sk-top-container\"><div class=\"sk-text-repr-fallback\"><pre>SVC(kernel=&#x27;linear&#x27;)</pre><b>In a Jupyter environment, please rerun this cell to show the HTML representation or trust the notebook. <br />On GitHub, the HTML representation is unable to render, please try loading this page with nbviewer.org.</b></div><div class=\"sk-container\" hidden><div class=\"sk-item\"><div class=\"sk-estimator sk-toggleable\"><input class=\"sk-toggleable__control sk-hidden--visually\" id=\"sk-estimator-id-1\" type=\"checkbox\" checked><label for=\"sk-estimator-id-1\" class=\"sk-toggleable__label sk-toggleable__label-arrow\">SVC</label><div class=\"sk-toggleable__content\"><pre>SVC(kernel=&#x27;linear&#x27;)</pre></div></div></div></div></div>"
      ],
      "text/plain": [
       "SVC(kernel='linear')"
      ]
     },
     "execution_count": 30,
     "metadata": {},
     "output_type": "execute_result"
    }
   ],
   "source": [
    "#fit the svm\n",
    "clf.fit(x_train, y_train)"
   ]
  },
  {
   "cell_type": "code",
   "execution_count": 31,
   "id": "6f305954-f0f0-46f4-b057-c6aa7920f8a8",
   "metadata": {},
   "outputs": [],
   "source": [
    "#Let's create a dataframe to record all scores\n",
    "scores = pd.DataFrame(columns=['Kernel', 'R^2', 'MSE', 'F1 Score',' Jaccard score'], index=[0, 1, 2, 3])"
   ]
  },
  {
   "cell_type": "code",
   "execution_count": 32,
   "id": "2dfc0b94-0e7b-4751-a5c3-6ee0f0489401",
   "metadata": {},
   "outputs": [
    {
     "name": "stdout",
     "output_type": "stream",
     "text": [
      "The R-square of SVM with linear kernel is:  0.9707\n"
     ]
    }
   ],
   "source": [
    "#Let's calcualte the R^2 on the train data\n",
    "r2 = clf.score(x_train, y_train)\n",
    "print('The R-square of SVM with linear kernel is: ', round(r2,4))"
   ]
  },
  {
   "cell_type": "code",
   "execution_count": 33,
   "id": "94748969-b5a4-4459-ab88-a7e534c7d88d",
   "metadata": {},
   "outputs": [
    {
     "name": "stdout",
     "output_type": "stream",
     "text": [
      "The R-square of SVM with linear kernel is:  0.9854\n"
     ]
    }
   ],
   "source": [
    "#Let's calcualte the R^2 on the test data\n",
    "r2t = clf.score(x_test, y_test)\n",
    "print('The R-square of SVM with linear kernel is: ', round(r2t,4))"
   ]
  },
  {
   "cell_type": "markdown",
   "id": "702e3672-e712-4e11-9c5b-ba69676ab3b8",
   "metadata": {},
   "source": [
    "It looks like SVM fit the data pretty well. "
   ]
  },
  {
   "cell_type": "code",
   "execution_count": 34,
   "id": "1cb137cf-f2b8-466a-91b4-604853a59eb7",
   "metadata": {},
   "outputs": [],
   "source": [
    "#predict price using test data\n",
    "clf_predict = clf.predict(x_test)"
   ]
  },
  {
   "cell_type": "code",
   "execution_count": 35,
   "id": "be0986c9-620b-4830-afb4-546b04406ee6",
   "metadata": {},
   "outputs": [
    {
     "name": "stdout",
     "output_type": "stream",
     "text": [
      "The mean square error of price and predicted value is:  0.06\n"
     ]
    }
   ],
   "source": [
    "mse = mean_squared_error(y_test, clf_predict)\n",
    "print('The mean square error of price and predicted value is: ', round(mse,2))"
   ]
  },
  {
   "cell_type": "code",
   "execution_count": 36,
   "id": "7be1abca-d8f4-46af-81d5-d7feb7d17f72",
   "metadata": {},
   "outputs": [],
   "source": [
    "# Visualize the results\n",
    "# import the visualization package: seaborn\n",
    "from sklearn.metrics import classification_report, confusion_matrix\n",
    "import itertools"
   ]
  },
  {
   "cell_type": "code",
   "execution_count": 37,
   "id": "f6c8285b-47d2-42bd-89a8-00e9a01b25d0",
   "metadata": {},
   "outputs": [],
   "source": [
    "def plot_confusion_matrix(cm, classes,\n",
    "                          normalize=False,\n",
    "                          title='Confusion matrix',\n",
    "                          cmap=plt.cm.Blues):\n",
    "    \"\"\"\n",
    "    This function prints and plots the confusion matrix.\n",
    "    Normalization can be applied by setting `normalize=True`.\n",
    "    \"\"\"\n",
    "    if normalize:\n",
    "        cm = cm.astype('float') / cm.sum(axis=1)[:, np.newaxis]\n",
    "        print(\"Normalized confusion matrix\")\n",
    "    else:\n",
    "        print('Confusion matrix, without normalization')\n",
    "\n",
    "    print(cm)\n",
    "\n",
    "    plt.imshow(cm, interpolation='nearest', cmap=cmap)\n",
    "    plt.title(title)\n",
    "    plt.colorbar()\n",
    "    tick_marks = np.arange(len(classes))\n",
    "    plt.xticks(tick_marks, classes, rotation=45)\n",
    "    plt.yticks(tick_marks, classes)\n",
    "\n",
    "    fmt = '.2f' if normalize else 'd'\n",
    "    thresh = cm.max() / 2.\n",
    "    for i, j in itertools.product(range(cm.shape[0]), range(cm.shape[1])):\n",
    "        plt.text(j, i, format(cm[i, j], fmt),\n",
    "                 horizontalalignment=\"center\",\n",
    "                 color=\"white\" if cm[i, j] > thresh else \"black\")\n",
    "\n",
    "    plt.tight_layout()\n",
    "    plt.ylabel('True label')\n",
    "    plt.xlabel('Predicted label')"
   ]
  },
  {
   "cell_type": "code",
   "execution_count": 38,
   "id": "9555ef97-a040-4b94-9eea-291848090e8b",
   "metadata": {},
   "outputs": [
    {
     "name": "stdout",
     "output_type": "stream",
     "text": [
      "              precision    recall  f1-score   support\n",
      "\n",
      "           2       0.98      1.00      0.99        90\n",
      "           4       1.00      0.96      0.98        47\n",
      "\n",
      "    accuracy                           0.99       137\n",
      "   macro avg       0.99      0.98      0.98       137\n",
      "weighted avg       0.99      0.99      0.99       137\n",
      "\n",
      "Confusion matrix, without normalization\n",
      "[[90  0]\n",
      " [ 2 45]]\n"
     ]
    },
    {
     "data": {
      "image/png": "[encoded data removed]",
      "text/plain": [
       "<Figure size 640x480 with 2 Axes>"
      ]
     },
     "metadata": {},
     "output_type": "display_data"
    }
   ],
   "source": [
    "# Compute confusion matrix\n",
    "cnf_matrix = confusion_matrix(y_test, clf_predict, labels=[2,4])\n",
    "np.set_printoptions(precision=2)\n",
    "\n",
    "print (classification_report(y_test, clf_predict))\n",
    "\n",
    "# Plot non-normalized confusion matrix\n",
    "plt.figure()\n",
    "plot_confusion_matrix(cnf_matrix, classes=['Benign(2)','Malignant(4)'],normalize= False,  title='Confusion matrix')"
   ]
  },
  {
   "cell_type": "markdown",
   "id": "72ffb852-0900-4410-a555-ff8e6c1edaf3",
   "metadata": {},
   "source": [
    "Other metrics to check the model is __f1_score__ and __jaccard index__."
   ]
  },
  {
   "cell_type": "code",
   "execution_count": 39,
   "id": "dda5ec94-21af-4945-8e6a-d0ec5d1dcb62",
   "metadata": {},
   "outputs": [
    {
     "name": "stdout",
     "output_type": "stream",
     "text": [
      "The f1_score of SVM with linear kernel is:  0.9853\n"
     ]
    }
   ],
   "source": [
    "from sklearn.metrics import f1_score\n",
    "f1s = f1_score(y_test, clf_predict, average='weighted') \n",
    "print('The f1_score of SVM with linear kernel is: ', round(f1s,4))"
   ]
  },
  {
   "cell_type": "code",
   "execution_count": 40,
   "id": "1a7f3d2d-0938-4fa1-ba11-0e7d7b3e49ba",
   "metadata": {},
   "outputs": [],
   "source": [
    "from sklearn.metrics import jaccard_score"
   ]
  },
  {
   "cell_type": "code",
   "execution_count": 41,
   "id": "35d87c02-6de4-4a5d-8a54-31b43a994214",
   "metadata": {},
   "outputs": [
    {
     "name": "stdout",
     "output_type": "stream",
     "text": [
      "The jaccard score of SVM with linear kernel is:  0.9783\n"
     ]
    }
   ],
   "source": [
    "jsc = jaccard_score(y_test, clf_predict, pos_label=2) \n",
    "print('The jaccard score of SVM with linear kernel is: ', round(jsc,4))"
   ]
  },
  {
   "cell_type": "code",
   "execution_count": 42,
   "id": "acff7bd0-58ea-4341-83dc-86fe860c6923",
   "metadata": {},
   "outputs": [],
   "source": [
    "scores.loc[0] = ['Linear', r2t, mse, f1s, jsc]                   "
   ]
  },
  {
   "cell_type": "markdown",
   "id": "b41353f0-d28d-4b44-998a-75868e194ba8",
   "metadata": {},
   "source": [
    "#### 4.2 Polynomial"
   ]
  },
  {
   "cell_type": "markdown",
   "id": "ae7018fc-2bef-461a-b97c-f60b9a9dd520",
   "metadata": {},
   "source": [
    "Let's try polynomial kernel. "
   ]
  },
  {
   "cell_type": "code",
   "execution_count": 43,
   "id": "17c666b1-c817-4e77-94e5-f0112eba13f8",
   "metadata": {},
   "outputs": [],
   "source": [
    "#create svm object\n",
    "clf = svm.SVC(kernel='poly')\n",
    "#fit the svm\n",
    "clf.fit(x_train, y_train)\n",
    "#predict price using test data\n",
    "clf_predict = clf.predict(x_test)"
   ]
  },
  {
   "cell_type": "code",
   "execution_count": 44,
   "id": "86672536-681c-4c11-abb1-fbf4997b55b6",
   "metadata": {},
   "outputs": [
    {
     "name": "stdout",
     "output_type": "stream",
     "text": [
      "The R-square of SVM with poly kernel on train data is:  0.9762\n",
      "The R-square of SVM with poly kernel on test data is:  0.9635\n",
      "The mean square error of price and predicted value is:  0.15\n",
      "The f1_score of SVM with poly kernel is:  0.963\n",
      "The jaccard score of SVM with poly kernel is:  0.9474\n"
     ]
    }
   ],
   "source": [
    "#Let's calcualte the R^2 on the train data\n",
    "print('The R-square of SVM with poly kernel on train data is: ', round(clf.score(x_train, y_train),4))\n",
    "#Let's calcualte the R^2 on the test data\n",
    "r2t = clf.score(x_test, y_test)\n",
    "print('The R-square of SVM with poly kernel on test data is: ', round(r2t,4))\n",
    "#mean square error\n",
    "mse = mean_squared_error(y_test, clf_predict)\n",
    "print('The mean square error of price and predicted value is: ', round(mse,2))\n",
    "#f1 score\n",
    "f1s = f1_score(y_test, clf_predict, average='weighted') \n",
    "print('The f1_score of SVM with poly kernel is: ', round(f1s,4))\n",
    "#jaccard score\n",
    "jsc = jaccard_score(y_test, clf_predict, pos_label=2) \n",
    "print('The jaccard score of SVM with poly kernel is: ', round(jsc,4))\n",
    "scores.loc[1] = ['Poly', r2t, mse, f1s, jsc]   "
   ]
  },
  {
   "cell_type": "code",
   "execution_count": 45,
   "id": "7f62a787-fbdb-41c4-af76-4062126894c5",
   "metadata": {},
   "outputs": [
    {
     "name": "stdout",
     "output_type": "stream",
     "text": [
      "              precision    recall  f1-score   support\n",
      "\n",
      "           2       0.95      1.00      0.97        90\n",
      "           4       1.00      0.89      0.94        47\n",
      "\n",
      "    accuracy                           0.96       137\n",
      "   macro avg       0.97      0.95      0.96       137\n",
      "weighted avg       0.97      0.96      0.96       137\n",
      "\n",
      "Confusion matrix, without normalization\n",
      "[[90  0]\n",
      " [ 5 42]]\n"
     ]
    },
    {
     "data": {
      "image/png": "[encoded data removed]",
      "text/plain": [
       "<Figure size 640x480 with 2 Axes>"
      ]
     },
     "metadata": {},
     "output_type": "display_data"
    }
   ],
   "source": [
    "cnf_matrix = confusion_matrix(y_test, clf_predict, labels=[2,4])\n",
    "np.set_printoptions(precision=2)\n",
    "\n",
    "print (classification_report(y_test, clf_predict))\n",
    "\n",
    "# Plot non-normalized confusion matrix\n",
    "plt.figure()\n",
    "plot_confusion_matrix(cnf_matrix, classes=['Benign(2)','Malignant(4)'],normalize= False,  title='Confusion matrix')"
   ]
  },
  {
   "cell_type": "markdown",
   "id": "e8f4685d-3306-4324-94ed-b07261b05711",
   "metadata": {},
   "source": [
    "#### 4.3 RBF"
   ]
  },
  {
   "cell_type": "code",
   "execution_count": 46,
   "id": "433d8404-2988-4f3e-af79-ccb804fc2c0d",
   "metadata": {},
   "outputs": [],
   "source": [
    "#create svm object\n",
    "clf = svm.SVC(kernel='rbf')\n",
    "#fit the svm\n",
    "clf.fit(x_train, y_train)\n",
    "#predict price using test data\n",
    "clf_predict = clf.predict(x_test)"
   ]
  },
  {
   "cell_type": "code",
   "execution_count": 47,
   "id": "4ff9bf8b-4114-469e-9519-0cc55d89611a",
   "metadata": {},
   "outputs": [
    {
     "name": "stdout",
     "output_type": "stream",
     "text": [
      "The R-square of SVM with RBF kernel on train data is:  0.9744\n",
      "The R-square of SVM with RBF kernel on test data is:  1.0\n",
      "The mean square error of price and predicted value is:  0.0\n",
      "The f1_score of SVM with RBF kernel is:  1.0\n",
      "The jaccard score of SVM with RBF kernel is:  1.0\n"
     ]
    }
   ],
   "source": [
    "#Let's calcualte the R^2 on the train data\n",
    "print('The R-square of SVM with RBF kernel on train data is: ', round(clf.score(x_train, y_train),4))\n",
    "#Let's calcualte the R^2 on the test data\n",
    "r2t = clf.score(x_test, y_test)\n",
    "print('The R-square of SVM with RBF kernel on test data is: ', round(r2t,4))\n",
    "#mean square error\n",
    "mse = mean_squared_error(y_test, clf_predict)\n",
    "print('The mean square error of price and predicted value is: ', round(mse,2))\n",
    "#f1 score\n",
    "f1s = f1_score(y_test, clf_predict, average='weighted') \n",
    "print('The f1_score of SVM with RBF kernel is: ', round(f1s,4))\n",
    "#jaccard score\n",
    "jsc = jaccard_score(y_test, clf_predict, pos_label=2) \n",
    "print('The jaccard score of SVM with RBF kernel is: ', round(jsc,4))\n",
    "scores.loc[2] = ['RBF', r2t, mse, f1s, jsc] "
   ]
  },
  {
   "cell_type": "code",
   "execution_count": 48,
   "id": "01c373f8-3a66-4165-a8dd-97836283c592",
   "metadata": {},
   "outputs": [
    {
     "name": "stdout",
     "output_type": "stream",
     "text": [
      "              precision    recall  f1-score   support\n",
      "\n",
      "           2       1.00      1.00      1.00        90\n",
      "           4       1.00      1.00      1.00        47\n",
      "\n",
      "    accuracy                           1.00       137\n",
      "   macro avg       1.00      1.00      1.00       137\n",
      "weighted avg       1.00      1.00      1.00       137\n",
      "\n",
      "Confusion matrix, without normalization\n",
      "[[90  0]\n",
      " [ 0 47]]\n"
     ]
    },
    {
     "data": {
      "image/png": "[encoded data removed]",
      "text/plain": [
       "<Figure size 640x480 with 2 Axes>"
      ]
     },
     "metadata": {},
     "output_type": "display_data"
    }
   ],
   "source": [
    "cnf_matrix = confusion_matrix(y_test, clf_predict, labels=[2,4])\n",
    "np.set_printoptions(precision=2)\n",
    "\n",
    "print (classification_report(y_test, clf_predict))\n",
    "\n",
    "# Plot non-normalized confusion matrix\n",
    "plt.figure()\n",
    "plot_confusion_matrix(cnf_matrix, classes=['Benign(2)','Malignant(4)'],normalize= False,  title='Confusion matrix')"
   ]
  },
  {
   "cell_type": "markdown",
   "id": "ba1a334c-32b1-4e45-adf5-cd13fd0b5213",
   "metadata": {},
   "source": [
    "#### 4.4 Sigmoid"
   ]
  },
  {
   "cell_type": "code",
   "execution_count": 49,
   "id": "e4bf02b7-ea19-4a74-855d-32c6460962f2",
   "metadata": {},
   "outputs": [],
   "source": [
    "#create svm object\n",
    "clf = svm.SVC(kernel='sigmoid')\n",
    "#fit the svm\n",
    "clf.fit(x_train, y_train)\n",
    "#predict price using test data\n",
    "clf_predict = clf.predict(x_test)"
   ]
  },
  {
   "cell_type": "code",
   "execution_count": 50,
   "id": "e4467e9c-b28f-41f7-a650-34eed6672594",
   "metadata": {},
   "outputs": [
    {
     "name": "stdout",
     "output_type": "stream",
     "text": [
      "The R-square of SVM with sigmoid kernel on train data is:  0.4121\n",
      "The R-square of SVM with sigmoid kernel on test data is:  0.4234\n",
      "The mean square error of price and predicted value is:  2.31\n",
      "The f1_score of SVM with sigmoid kernel is:  0.3908\n",
      "The jaccard score of SVM with sigmoid kernel is:  0.4234\n"
     ]
    }
   ],
   "source": [
    "#Let's calcualte the R^2 on the train data\n",
    "print('The R-square of SVM with sigmoid kernel on train data is: ', round(clf.score(x_train, y_train),4))\n",
    "#Let's calcualte the R^2 on the test data\n",
    "r2t = clf.score(x_test, y_test)\n",
    "print('The R-square of SVM with sigmoid kernel on test data is: ', round(r2t,4))\n",
    "#mean square error\n",
    "mse = mean_squared_error(y_test, clf_predict)\n",
    "print('The mean square error of price and predicted value is: ', round(mse,2))\n",
    "#f1 score\n",
    "f1s = f1_score(y_test, clf_predict, average='weighted') \n",
    "print('The f1_score of SVM with sigmoid kernel is: ', round(f1s,4))\n",
    "#jaccard score\n",
    "jsc = jaccard_score(y_test, clf_predict, pos_label=2) \n",
    "print('The jaccard score of SVM with sigmoid kernel is: ', round(jsc,4))\n",
    "scores.loc[3] = ['Sigmoid', r2t, mse, f1s, jsc] "
   ]
  },
  {
   "cell_type": "code",
   "execution_count": 51,
   "id": "910c422e-682a-41f4-b096-11b511b1bd8a",
   "metadata": {},
   "outputs": [
    {
     "name": "stdout",
     "output_type": "stream",
     "text": [
      "              precision    recall  f1-score   support\n",
      "\n",
      "           2       0.55      0.64      0.59        90\n",
      "           4       0.00      0.00      0.00        47\n",
      "\n",
      "    accuracy                           0.42       137\n",
      "   macro avg       0.28      0.32      0.30       137\n",
      "weighted avg       0.36      0.42      0.39       137\n",
      "\n",
      "Confusion matrix, without normalization\n",
      "[[58 32]\n",
      " [47  0]]\n"
     ]
    },
    {
     "data": {
      "image/png": "[encoded data removed]",
      "text/plain": [
       "<Figure size 640x480 with 2 Axes>"
      ]
     },
     "metadata": {},
     "output_type": "display_data"
    }
   ],
   "source": [
    "cnf_matrix = confusion_matrix(y_test, clf_predict, labels=[2,4])\n",
    "np.set_printoptions(precision=2)\n",
    "\n",
    "print (classification_report(y_test, clf_predict))\n",
    "\n",
    "# Plot non-normalized confusion matrix\n",
    "plt.figure()\n",
    "plot_confusion_matrix(cnf_matrix, classes=['Benign(2)','Malignant(4)'],normalize= False,  title='Confusion matrix')"
   ]
  },
  {
   "cell_type": "code",
   "execution_count": 52,
   "id": "9fe1773c-5402-494c-9e01-6b55db3c0fc5",
   "metadata": {},
   "outputs": [
    {
     "data": {
      "text/html": [
       "<div>\n",
       "<style scoped>\n",
       "    .dataframe tbody tr th:only-of-type {\n",
       "        vertical-align: middle;\n",
       "    }\n",
       "\n",
       "    .dataframe tbody tr th {\n",
       "        vertical-align: top;\n",
       "    }\n",
       "\n",
       "    .dataframe thead th {\n",
       "        text-align: right;\n",
       "    }\n",
       "</style>\n",
       "<table border=\"1\" class=\"dataframe\">\n",
       "  <thead>\n",
       "    <tr style=\"text-align: right;\">\n",
       "      <th></th>\n",
       "      <th>Kernel</th>\n",
       "      <th>R^2</th>\n",
       "      <th>MSE</th>\n",
       "      <th>F1 Score</th>\n",
       "      <th>Jaccard score</th>\n",
       "    </tr>\n",
       "  </thead>\n",
       "  <tbody>\n",
       "    <tr>\n",
       "      <th>0</th>\n",
       "      <td>Linear</td>\n",
       "      <td>0.985401</td>\n",
       "      <td>0.058394</td>\n",
       "      <td>0.985323</td>\n",
       "      <td>0.978261</td>\n",
       "    </tr>\n",
       "    <tr>\n",
       "      <th>1</th>\n",
       "      <td>Poly</td>\n",
       "      <td>0.963504</td>\n",
       "      <td>0.145985</td>\n",
       "      <td>0.962972</td>\n",
       "      <td>0.947368</td>\n",
       "    </tr>\n",
       "    <tr>\n",
       "      <th>2</th>\n",
       "      <td>RBF</td>\n",
       "      <td>1.0</td>\n",
       "      <td>0.0</td>\n",
       "      <td>1.0</td>\n",
       "      <td>1.0</td>\n",
       "    </tr>\n",
       "    <tr>\n",
       "      <th>3</th>\n",
       "      <td>Sigmoid</td>\n",
       "      <td>0.423358</td>\n",
       "      <td>2.306569</td>\n",
       "      <td>0.390792</td>\n",
       "      <td>0.423358</td>\n",
       "    </tr>\n",
       "  </tbody>\n",
       "</table>\n",
       "</div>"
      ],
      "text/plain": [
       "    Kernel       R^2       MSE  F1 Score  Jaccard score\n",
       "0   Linear  0.985401  0.058394  0.985323       0.978261\n",
       "1     Poly  0.963504  0.145985  0.962972       0.947368\n",
       "2      RBF       1.0       0.0       1.0            1.0\n",
       "3  Sigmoid  0.423358  2.306569  0.390792       0.423358"
      ]
     },
     "execution_count": 52,
     "metadata": {},
     "output_type": "execute_result"
    }
   ],
   "source": [
    "#print all scores and compare these 4 kernels.\n",
    "scores"
   ]
  },
  {
   "cell_type": "markdown",
   "id": "10b541aa-d4a4-4d69-ae92-7c6db397f107",
   "metadata": {},
   "source": [
    "For this typical data set, SVM wiht RBF kernel fitted the data best, which had the highest scores and best confusion matrix performance. "
   ]
  }
 ],
 "metadata": {
  "kernelspec": {
   "display_name": "Python 3 (ipykernel)",
   "language": "python",
   "name": "python3"
  },
  "language_info": {
   "codemirror_mode": {
    "name": "ipython",
    "version": 3
   },
   "file_extension": ".py",
   "mimetype": "text/x-python",
   "name": "python",
   "nbconvert_exporter": "python",
   "pygments_lexer": "ipython3",
   "version": "3.8.17"
  }
 },
 "nbformat": 4,
 "nbformat_minor": 5
}
