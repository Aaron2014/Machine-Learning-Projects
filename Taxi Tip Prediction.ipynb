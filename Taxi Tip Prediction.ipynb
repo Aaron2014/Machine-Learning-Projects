{
 "cells": [
  {
   "cell_type": "markdown",
   "id": "a30c6840-a28c-4a7f-b0b3-fc2af21bc073",
   "metadata": {},
   "source": [
    "<h1><center> Taxi Tip Prediction </center></h1>"
   ]
  },
  {
   "cell_type": "markdown",
   "id": "f4385d03-7e94-48fa-839f-5b21b11e51ce",
   "metadata": {},
   "source": [
    "## Objectives"
   ]
  },
  {
   "cell_type": "markdown",
   "id": "fab3cafb-62ee-4a63-abf7-8af58fa0c37b",
   "metadata": {},
   "source": [
    "__This project is a course project from IBM Data Science. The dataset is copied from that course.__ \n",
    "\n",
    "In this project, the data set includes information about taxi tip and was collected and provided to the NYC Taxi and Limousine Commision (TLC) by technology providers authorized under the Taxicab & Livery Passenger Enhancement Programs (TPEP/LPEP). Sevearl ML models would be used to predict the amount of tip paid. An organization of this project is:"
   ]
  },
  {
   "cell_type": "markdown",
   "id": "574f10c9-5f11-49c7-b627-102ede5d0b68",
   "metadata": {},
   "source": [
    "<h2>Table of Contents</h2>\n",
    "<div class=\"alert alert-block alert-info\" style=\"margin-top: 20px\">\n",
    "    <ul>\n",
    "        <li>\n",
    "            <a>Download Data</a>\n",
    "        </li>\n",
    "     </ul>\n",
    "    <ul>\n",
    "        <li>\n",
    "            <a>Data Wrangling</a>\n",
    "            <ul>\n",
    "                <li>Deal wiht Missing Data</li>\n",
    "                <li>Correct Data Format</li>\n",
    "                <li>Tranform Data</li>\n",
    "            </ul>\n",
    "        </li>\n",
    "     </ul>\n",
    "     <ul>\n",
    "        <li>\n",
    "            <a>Data Exploratory</a>\n",
    "            <ul>\n",
    "                <li>Describe</li>\n",
    "                <li>Visualization</li>\n",
    "            </ul>\n",
    "        </li>\n",
    "    </ul>\n",
    "    <ul>\n",
    "        <li>\n",
    "            <a>Model Development</a>\n",
    "            <ul>\n",
    "                <li>Decision Tree Regression</li>\n",
    "                <li>Linear Regression</li>\n",
    "                <li>Polynomial Regression</li>\n",
    "                <li>Ridge Regression</li>           \n",
    "            </ul>\n",
    "        </li>\n",
    "    </ul>\n",
    "</div>\n",
    "\n",
    "<hr>"
   ]
  },
  {
   "cell_type": "markdown",
   "id": "ab35a9e5-a228-44b5-b9cb-be49270faaaf",
   "metadata": {},
   "source": [
    "This dataset is publicly available here: https://www1.nyc.gov/site/tlc/about/tlc-trip-record-data.page.(all rights reserved by Taxi & Limousine Commission(TLC), City of New York). The TLC Yellow Taxi Trip Records of June, 2019 are used here. "
   ]
  },
  {
   "cell_type": "code",
   "execution_count": 1,
   "id": "a1ebeb58-5c35-43cc-a5be-bda206075f47",
   "metadata": {},
   "outputs": [],
   "source": [
    "import pandas as pd\n",
    "from sklearn.linear_model import LogisticRegression\n",
    "from sklearn.linear_model import LinearRegression\n",
    "from sklearn import preprocessing\n",
    "import numpy as np\n",
    "from sklearn.model_selection import train_test_split\n",
    "from sklearn.metrics import confusion_matrix, accuracy_score\n",
    "import sklearn.metrics as metrics\n",
    "import matplotlib.pyplot as plt\n",
    "%matplotlib inline\n",
    "from sklearn.preprocessing import normalize, StandardScaler, MinMaxScaler\n",
    "\n",
    "import warnings\n",
    "warnings.filterwarnings('ignore')"
   ]
  },
  {
   "cell_type": "markdown",
   "id": "cc18c5fd-0ea5-4b51-b8b3-7d518b4cbe01",
   "metadata": {},
   "source": [
    "## 1. Download Data"
   ]
  },
  {
   "cell_type": "code",
   "execution_count": 2,
   "id": "d0681679-c204-4d6c-88f0-1cffd664d596",
   "metadata": {},
   "outputs": [],
   "source": [
    "path='https://cf-courses-data.s3.us.cloud-object-storage.appdomain.cloud/IBMDeveloperSkillsNetwork-ML0101EN-SkillsNetwork/labs/Module%203/data/yellow_tripdata_2019-06.csv'"
   ]
  },
  {
   "cell_type": "code",
   "execution_count": 3,
   "id": "842d5bde-08ca-4f23-8855-4cfd66981e91",
   "metadata": {},
   "outputs": [],
   "source": [
    "#download the data\n",
    "taxi_data = pd.read_csv(path)"
   ]
  },
  {
   "cell_type": "code",
   "execution_count": 4,
   "id": "51890f65-1bf9-4340-aafd-dec314b080ec",
   "metadata": {},
   "outputs": [
    {
     "name": "stdout",
     "output_type": "stream",
     "text": [
      "There are  3936004  rows of data and  18  properties\n"
     ]
    }
   ],
   "source": [
    "NR = np.size(taxi_data, 0)\n",
    "NC = np.size(taxi_data, 1)\n",
    "print('There are ', NR, ' rows of data and ', NC, ' properties')"
   ]
  },
  {
   "cell_type": "code",
   "execution_count": 5,
   "id": "cb320b79-0d3f-4f97-afd9-94892d71ddc5",
   "metadata": {},
   "outputs": [
    {
     "data": {
      "text/html": [
       "<div>\n",
       "<style scoped>\n",
       "    .dataframe tbody tr th:only-of-type {\n",
       "        vertical-align: middle;\n",
       "    }\n",
       "\n",
       "    .dataframe tbody tr th {\n",
       "        vertical-align: top;\n",
       "    }\n",
       "\n",
       "    .dataframe thead th {\n",
       "        text-align: right;\n",
       "    }\n",
       "</style>\n",
       "<table border=\"1\" class=\"dataframe\">\n",
       "  <thead>\n",
       "    <tr style=\"text-align: right;\">\n",
       "      <th></th>\n",
       "      <th>VendorID</th>\n",
       "      <th>tpep_pickup_datetime</th>\n",
       "      <th>tpep_dropoff_datetime</th>\n",
       "      <th>passenger_count</th>\n",
       "      <th>trip_distance</th>\n",
       "      <th>RatecodeID</th>\n",
       "      <th>store_and_fwd_flag</th>\n",
       "      <th>PULocationID</th>\n",
       "      <th>DOLocationID</th>\n",
       "      <th>payment_type</th>\n",
       "      <th>fare_amount</th>\n",
       "      <th>extra</th>\n",
       "      <th>mta_tax</th>\n",
       "      <th>tip_amount</th>\n",
       "      <th>tolls_amount</th>\n",
       "      <th>improvement_surcharge</th>\n",
       "      <th>total_amount</th>\n",
       "      <th>congestion_surcharge</th>\n",
       "    </tr>\n",
       "  </thead>\n",
       "  <tbody>\n",
       "    <tr>\n",
       "      <th>0</th>\n",
       "      <td>1</td>\n",
       "      <td>2019-06-01 00:55:13</td>\n",
       "      <td>2019-06-01 00:56:17</td>\n",
       "      <td>1.0</td>\n",
       "      <td>0.0</td>\n",
       "      <td>1.0</td>\n",
       "      <td>N</td>\n",
       "      <td>145.0</td>\n",
       "      <td>145.0</td>\n",
       "      <td>2.0</td>\n",
       "      <td>3.0</td>\n",
       "      <td>0.5</td>\n",
       "      <td>0.5</td>\n",
       "      <td>0.00</td>\n",
       "      <td>0.0</td>\n",
       "      <td>0.3</td>\n",
       "      <td>4.30</td>\n",
       "      <td>0.0</td>\n",
       "    </tr>\n",
       "    <tr>\n",
       "      <th>1</th>\n",
       "      <td>1</td>\n",
       "      <td>2019-06-01 00:06:31</td>\n",
       "      <td>2019-06-01 00:06:52</td>\n",
       "      <td>1.0</td>\n",
       "      <td>0.0</td>\n",
       "      <td>1.0</td>\n",
       "      <td>N</td>\n",
       "      <td>262.0</td>\n",
       "      <td>263.0</td>\n",
       "      <td>2.0</td>\n",
       "      <td>2.5</td>\n",
       "      <td>3.0</td>\n",
       "      <td>0.5</td>\n",
       "      <td>0.00</td>\n",
       "      <td>0.0</td>\n",
       "      <td>0.3</td>\n",
       "      <td>6.30</td>\n",
       "      <td>2.5</td>\n",
       "    </tr>\n",
       "    <tr>\n",
       "      <th>2</th>\n",
       "      <td>1</td>\n",
       "      <td>2019-06-01 00:17:05</td>\n",
       "      <td>2019-06-01 00:36:38</td>\n",
       "      <td>1.0</td>\n",
       "      <td>4.4</td>\n",
       "      <td>1.0</td>\n",
       "      <td>N</td>\n",
       "      <td>74.0</td>\n",
       "      <td>7.0</td>\n",
       "      <td>2.0</td>\n",
       "      <td>17.5</td>\n",
       "      <td>0.5</td>\n",
       "      <td>0.5</td>\n",
       "      <td>0.00</td>\n",
       "      <td>0.0</td>\n",
       "      <td>0.3</td>\n",
       "      <td>18.80</td>\n",
       "      <td>0.0</td>\n",
       "    </tr>\n",
       "    <tr>\n",
       "      <th>3</th>\n",
       "      <td>1</td>\n",
       "      <td>2019-06-01 00:59:02</td>\n",
       "      <td>2019-06-01 00:59:12</td>\n",
       "      <td>0.0</td>\n",
       "      <td>0.8</td>\n",
       "      <td>1.0</td>\n",
       "      <td>N</td>\n",
       "      <td>145.0</td>\n",
       "      <td>145.0</td>\n",
       "      <td>2.0</td>\n",
       "      <td>2.5</td>\n",
       "      <td>1.0</td>\n",
       "      <td>0.5</td>\n",
       "      <td>0.00</td>\n",
       "      <td>0.0</td>\n",
       "      <td>0.3</td>\n",
       "      <td>4.30</td>\n",
       "      <td>0.0</td>\n",
       "    </tr>\n",
       "    <tr>\n",
       "      <th>4</th>\n",
       "      <td>1</td>\n",
       "      <td>2019-06-01 00:03:25</td>\n",
       "      <td>2019-06-01 00:15:42</td>\n",
       "      <td>1.0</td>\n",
       "      <td>1.7</td>\n",
       "      <td>1.0</td>\n",
       "      <td>N</td>\n",
       "      <td>113.0</td>\n",
       "      <td>148.0</td>\n",
       "      <td>1.0</td>\n",
       "      <td>9.5</td>\n",
       "      <td>3.0</td>\n",
       "      <td>0.5</td>\n",
       "      <td>2.65</td>\n",
       "      <td>0.0</td>\n",
       "      <td>0.3</td>\n",
       "      <td>15.95</td>\n",
       "      <td>2.5</td>\n",
       "    </tr>\n",
       "  </tbody>\n",
       "</table>\n",
       "</div>"
      ],
      "text/plain": [
       "   VendorID tpep_pickup_datetime tpep_dropoff_datetime  passenger_count  \\\n",
       "0         1  2019-06-01 00:55:13   2019-06-01 00:56:17              1.0   \n",
       "1         1  2019-06-01 00:06:31   2019-06-01 00:06:52              1.0   \n",
       "2         1  2019-06-01 00:17:05   2019-06-01 00:36:38              1.0   \n",
       "3         1  2019-06-01 00:59:02   2019-06-01 00:59:12              0.0   \n",
       "4         1  2019-06-01 00:03:25   2019-06-01 00:15:42              1.0   \n",
       "\n",
       "   trip_distance  RatecodeID store_and_fwd_flag  PULocationID  DOLocationID  \\\n",
       "0            0.0         1.0                  N         145.0         145.0   \n",
       "1            0.0         1.0                  N         262.0         263.0   \n",
       "2            4.4         1.0                  N          74.0           7.0   \n",
       "3            0.8         1.0                  N         145.0         145.0   \n",
       "4            1.7         1.0                  N         113.0         148.0   \n",
       "\n",
       "   payment_type  fare_amount  extra  mta_tax  tip_amount  tolls_amount  \\\n",
       "0           2.0          3.0    0.5      0.5        0.00           0.0   \n",
       "1           2.0          2.5    3.0      0.5        0.00           0.0   \n",
       "2           2.0         17.5    0.5      0.5        0.00           0.0   \n",
       "3           2.0          2.5    1.0      0.5        0.00           0.0   \n",
       "4           1.0          9.5    3.0      0.5        2.65           0.0   \n",
       "\n",
       "   improvement_surcharge  total_amount  congestion_surcharge  \n",
       "0                    0.3          4.30                   0.0  \n",
       "1                    0.3          6.30                   2.5  \n",
       "2                    0.3         18.80                   0.0  \n",
       "3                    0.3          4.30                   0.0  \n",
       "4                    0.3         15.95                   2.5  "
      ]
     },
     "execution_count": 5,
     "metadata": {},
     "output_type": "execute_result"
    }
   ],
   "source": [
    "taxi_data.head()"
   ]
  },
  {
   "cell_type": "markdown",
   "id": "257b370d-3ff8-4ccf-839f-85d36e6d79a4",
   "metadata": {},
   "source": [
    "Each row in the dataset represents a taxi trip. As shown above, each row has 18 variables. The variable \"tip_amount\" represents the target variable. "
   ]
  },
  {
   "cell_type": "markdown",
   "id": "382cf974-a9ec-4aeb-bbd1-0b416cf4c534",
   "metadata": {},
   "source": [
    "## 2. Data Wrangling"
   ]
  },
  {
   "cell_type": "code",
   "execution_count": 6,
   "id": "1cdccc79-be68-436d-825a-f9c6d851b0b7",
   "metadata": {},
   "outputs": [],
   "source": [
    "#reducint the data size to 100000 records\n",
    "taxi_data = taxi_data.head(100000)"
   ]
  },
  {
   "cell_type": "code",
   "execution_count": 7,
   "id": "8d4c97b7-5566-46b0-abd5-6f3fb3dddc4f",
   "metadata": {},
   "outputs": [
    {
     "data": {
      "text/html": [
       "<div>\n",
       "<style scoped>\n",
       "    .dataframe tbody tr th:only-of-type {\n",
       "        vertical-align: middle;\n",
       "    }\n",
       "\n",
       "    .dataframe tbody tr th {\n",
       "        vertical-align: top;\n",
       "    }\n",
       "\n",
       "    .dataframe thead th {\n",
       "        text-align: right;\n",
       "    }\n",
       "</style>\n",
       "<table border=\"1\" class=\"dataframe\">\n",
       "  <thead>\n",
       "    <tr style=\"text-align: right;\">\n",
       "      <th></th>\n",
       "      <th>VendorID</th>\n",
       "      <th>tpep_pickup_datetime</th>\n",
       "      <th>tpep_dropoff_datetime</th>\n",
       "      <th>passenger_count</th>\n",
       "      <th>trip_distance</th>\n",
       "      <th>RatecodeID</th>\n",
       "      <th>store_and_fwd_flag</th>\n",
       "      <th>PULocationID</th>\n",
       "      <th>DOLocationID</th>\n",
       "      <th>payment_type</th>\n",
       "      <th>fare_amount</th>\n",
       "      <th>extra</th>\n",
       "      <th>mta_tax</th>\n",
       "      <th>tip_amount</th>\n",
       "      <th>tolls_amount</th>\n",
       "      <th>improvement_surcharge</th>\n",
       "      <th>total_amount</th>\n",
       "      <th>congestion_surcharge</th>\n",
       "    </tr>\n",
       "  </thead>\n",
       "  <tbody>\n",
       "    <tr>\n",
       "      <th>0</th>\n",
       "      <td>False</td>\n",
       "      <td>False</td>\n",
       "      <td>False</td>\n",
       "      <td>False</td>\n",
       "      <td>False</td>\n",
       "      <td>False</td>\n",
       "      <td>False</td>\n",
       "      <td>False</td>\n",
       "      <td>False</td>\n",
       "      <td>False</td>\n",
       "      <td>False</td>\n",
       "      <td>False</td>\n",
       "      <td>False</td>\n",
       "      <td>False</td>\n",
       "      <td>False</td>\n",
       "      <td>False</td>\n",
       "      <td>False</td>\n",
       "      <td>False</td>\n",
       "    </tr>\n",
       "    <tr>\n",
       "      <th>1</th>\n",
       "      <td>False</td>\n",
       "      <td>False</td>\n",
       "      <td>False</td>\n",
       "      <td>False</td>\n",
       "      <td>False</td>\n",
       "      <td>False</td>\n",
       "      <td>False</td>\n",
       "      <td>False</td>\n",
       "      <td>False</td>\n",
       "      <td>False</td>\n",
       "      <td>False</td>\n",
       "      <td>False</td>\n",
       "      <td>False</td>\n",
       "      <td>False</td>\n",
       "      <td>False</td>\n",
       "      <td>False</td>\n",
       "      <td>False</td>\n",
       "      <td>False</td>\n",
       "    </tr>\n",
       "    <tr>\n",
       "      <th>2</th>\n",
       "      <td>False</td>\n",
       "      <td>False</td>\n",
       "      <td>False</td>\n",
       "      <td>False</td>\n",
       "      <td>False</td>\n",
       "      <td>False</td>\n",
       "      <td>False</td>\n",
       "      <td>False</td>\n",
       "      <td>False</td>\n",
       "      <td>False</td>\n",
       "      <td>False</td>\n",
       "      <td>False</td>\n",
       "      <td>False</td>\n",
       "      <td>False</td>\n",
       "      <td>False</td>\n",
       "      <td>False</td>\n",
       "      <td>False</td>\n",
       "      <td>False</td>\n",
       "    </tr>\n",
       "    <tr>\n",
       "      <th>3</th>\n",
       "      <td>False</td>\n",
       "      <td>False</td>\n",
       "      <td>False</td>\n",
       "      <td>False</td>\n",
       "      <td>False</td>\n",
       "      <td>False</td>\n",
       "      <td>False</td>\n",
       "      <td>False</td>\n",
       "      <td>False</td>\n",
       "      <td>False</td>\n",
       "      <td>False</td>\n",
       "      <td>False</td>\n",
       "      <td>False</td>\n",
       "      <td>False</td>\n",
       "      <td>False</td>\n",
       "      <td>False</td>\n",
       "      <td>False</td>\n",
       "      <td>False</td>\n",
       "    </tr>\n",
       "    <tr>\n",
       "      <th>4</th>\n",
       "      <td>False</td>\n",
       "      <td>False</td>\n",
       "      <td>False</td>\n",
       "      <td>False</td>\n",
       "      <td>False</td>\n",
       "      <td>False</td>\n",
       "      <td>False</td>\n",
       "      <td>False</td>\n",
       "      <td>False</td>\n",
       "      <td>False</td>\n",
       "      <td>False</td>\n",
       "      <td>False</td>\n",
       "      <td>False</td>\n",
       "      <td>False</td>\n",
       "      <td>False</td>\n",
       "      <td>False</td>\n",
       "      <td>False</td>\n",
       "      <td>False</td>\n",
       "    </tr>\n",
       "  </tbody>\n",
       "</table>\n",
       "</div>"
      ],
      "text/plain": [
       "   VendorID  tpep_pickup_datetime  tpep_dropoff_datetime  passenger_count  \\\n",
       "0     False                 False                  False            False   \n",
       "1     False                 False                  False            False   \n",
       "2     False                 False                  False            False   \n",
       "3     False                 False                  False            False   \n",
       "4     False                 False                  False            False   \n",
       "\n",
       "   trip_distance  RatecodeID  store_and_fwd_flag  PULocationID  DOLocationID  \\\n",
       "0          False       False               False         False         False   \n",
       "1          False       False               False         False         False   \n",
       "2          False       False               False         False         False   \n",
       "3          False       False               False         False         False   \n",
       "4          False       False               False         False         False   \n",
       "\n",
       "   payment_type  fare_amount  extra  mta_tax  tip_amount  tolls_amount  \\\n",
       "0         False        False  False    False       False         False   \n",
       "1         False        False  False    False       False         False   \n",
       "2         False        False  False    False       False         False   \n",
       "3         False        False  False    False       False         False   \n",
       "4         False        False  False    False       False         False   \n",
       "\n",
       "   improvement_surcharge  total_amount  congestion_surcharge  \n",
       "0                  False         False                 False  \n",
       "1                  False         False                 False  \n",
       "2                  False         False                 False  \n",
       "3                  False         False                 False  \n",
       "4                  False         False                 False  "
      ]
     },
     "execution_count": 7,
     "metadata": {},
     "output_type": "execute_result"
    }
   ],
   "source": [
    "#Evaluating the missing data\n",
    "missing_data = taxi_data.isnull()\n",
    "missing_data.head()"
   ]
  },
  {
   "cell_type": "markdown",
   "id": "6042dc07-9b96-4426-8c3f-b13cc5f74b68",
   "metadata": {},
   "source": [
    "It looks like there is no missing data."
   ]
  },
  {
   "cell_type": "code",
   "execution_count": 8,
   "id": "0c64ece7-ff3c-4db4-b778-5b422490fbe7",
   "metadata": {},
   "outputs": [
    {
     "name": "stdout",
     "output_type": "stream",
     "text": [
      "<class 'pandas.core.frame.DataFrame'>\n",
      "RangeIndex: 100000 entries, 0 to 99999\n",
      "Data columns (total 18 columns):\n",
      " #   Column                 Non-Null Count   Dtype  \n",
      "---  ------                 --------------   -----  \n",
      " 0   VendorID               100000 non-null  int64  \n",
      " 1   tpep_pickup_datetime   100000 non-null  object \n",
      " 2   tpep_dropoff_datetime  100000 non-null  object \n",
      " 3   passenger_count        100000 non-null  float64\n",
      " 4   trip_distance          100000 non-null  float64\n",
      " 5   RatecodeID             100000 non-null  float64\n",
      " 6   store_and_fwd_flag     100000 non-null  object \n",
      " 7   PULocationID           100000 non-null  float64\n",
      " 8   DOLocationID           100000 non-null  float64\n",
      " 9   payment_type           100000 non-null  float64\n",
      " 10  fare_amount            100000 non-null  float64\n",
      " 11  extra                  100000 non-null  float64\n",
      " 12  mta_tax                100000 non-null  float64\n",
      " 13  tip_amount             100000 non-null  float64\n",
      " 14  tolls_amount           100000 non-null  float64\n",
      " 15  improvement_surcharge  100000 non-null  float64\n",
      " 16  total_amount           100000 non-null  float64\n",
      " 17  congestion_surcharge   100000 non-null  float64\n",
      "dtypes: float64(14), int64(1), object(3)\n",
      "memory usage: 13.7+ MB\n"
     ]
    }
   ],
   "source": [
    "taxi_data.info()"
   ]
  },
  {
   "cell_type": "code",
   "execution_count": 9,
   "id": "ceaa3ccc-42f0-4955-a89f-3f11488110ff",
   "metadata": {},
   "outputs": [
    {
     "data": {
      "text/plain": [
       "tip_amount\n",
       "0.00     34537\n",
       "1.00      6059\n",
       "2.00      3652\n",
       "1.96      1295\n",
       "2.06      1272\n",
       "         ...  \n",
       "6.57         1\n",
       "10.76        1\n",
       "81.92        1\n",
       "13.50        1\n",
       "8.02         1\n",
       "Name: count, Length: 1128, dtype: int64"
      ]
     },
     "execution_count": 9,
     "metadata": {},
     "output_type": "execute_result"
    }
   ],
   "source": [
    "taxi_data['tip_amount'].value_counts()"
   ]
  },
  {
   "cell_type": "markdown",
   "id": "44b15705-4e0c-4330-b55d-0ab5475a61aa",
   "metadata": {},
   "source": [
    "There are 34537 tip amounts at 0, which is assumed that there tips were paid in cash. So here drops all those rows. "
   ]
  },
  {
   "cell_type": "code",
   "execution_count": 10,
   "id": "5313e9ee-f495-4f41-a665-767bcce0fafa",
   "metadata": {},
   "outputs": [],
   "source": [
    "taxi_data = taxi_data[taxi_data['tip_amount']>0]"
   ]
  },
  {
   "cell_type": "code",
   "execution_count": 11,
   "id": "2b24db7c-fe77-44a5-8add-fbe4181b455a",
   "metadata": {},
   "outputs": [
    {
     "data": {
      "text/plain": [
       "tip_amount\n",
       "1.00     6059\n",
       "2.00     3652\n",
       "1.96     1295\n",
       "2.06     1272\n",
       "1.86     1263\n",
       "         ... \n",
       "12.66       1\n",
       "14.86       1\n",
       "15.30       1\n",
       "13.88       1\n",
       "8.02        1\n",
       "Name: count, Length: 1125, dtype: int64"
      ]
     },
     "execution_count": 11,
     "metadata": {},
     "output_type": "execute_result"
    }
   ],
   "source": [
    "taxi_data['tip_amount'].value_counts()"
   ]
  },
  {
   "cell_type": "code",
   "execution_count": 12,
   "id": "f6783059-e057-48df-bffd-c96e233247da",
   "metadata": {},
   "outputs": [
    {
     "name": "stdout",
     "output_type": "stream",
     "text": [
      "There are  65460  rows of data and  18  properties\n"
     ]
    }
   ],
   "source": [
    "NR = np.size(taxi_data, 0)\n",
    "NC = np.size(taxi_data, 1)\n",
    "print('There are ', NR, ' rows of data and ', NC, ' properties')"
   ]
  },
  {
   "cell_type": "markdown",
   "id": "6bce1766-91f1-4a93-8ed8-d68063b39a86",
   "metadata": {},
   "source": [
    "We also need to remove outliers, namely where those tip were larger than the fare cost."
   ]
  },
  {
   "cell_type": "code",
   "execution_count": 13,
   "id": "2c5490db-ebfb-4455-94ea-f9c3db57e282",
   "metadata": {},
   "outputs": [],
   "source": [
    "taxi_data = taxi_data[taxi_data['tip_amount'] <= taxi_data['fare_amount']]"
   ]
  },
  {
   "cell_type": "markdown",
   "id": "faf88e32-af39-40cc-a6d5-c7b8261e6b3f",
   "metadata": {},
   "source": [
    "Next, we remove trips with very large fare cost."
   ]
  },
  {
   "cell_type": "code",
   "execution_count": 14,
   "id": "0ccb2382-00b2-443f-8103-d54be816042b",
   "metadata": {},
   "outputs": [],
   "source": [
    "taxi_data = taxi_data[(taxi_data['fare_amount'] >=2) & (taxi_data['fare_amount'] < 200)]"
   ]
  },
  {
   "cell_type": "markdown",
   "id": "f0ca14ba-e20a-40dd-a03d-71ca7b6361e8",
   "metadata": {},
   "source": [
    "Here drop the 'total amount' column."
   ]
  },
  {
   "cell_type": "code",
   "execution_count": 15,
   "id": "c5d7adc5-df50-4b03-b0f8-92d398ba8e01",
   "metadata": {},
   "outputs": [],
   "source": [
    "taxi_data.drop(['total_amount'], axis=1, inplace=True)"
   ]
  },
  {
   "cell_type": "markdown",
   "id": "dfdc170b-b18a-4db3-b0e5-8af876342a2e",
   "metadata": {},
   "source": [
    "We need to convert the \"tpep_dropoff_datetime\" and \"tpep_pickup_datetime\" to trip time. "
   ]
  },
  {
   "cell_type": "code",
   "execution_count": 16,
   "id": "7a05b590-8543-415f-88d2-018920d2f4e5",
   "metadata": {},
   "outputs": [],
   "source": [
    "taxi_data['tpep_dropoff_datetime'] = pd.to_datetime(taxi_data['tpep_dropoff_datetime'])\n",
    "taxi_data['tpep_pickup_datetime'] = pd.to_datetime(taxi_data['tpep_pickup_datetime'])"
   ]
  },
  {
   "cell_type": "code",
   "execution_count": 17,
   "id": "5c85ea6e-ec68-4555-bd64-e9c830934116",
   "metadata": {},
   "outputs": [],
   "source": [
    "# extract pickup and dropoff hour\n",
    "taxi_data['pickup_hour'] = taxi_data['tpep_pickup_datetime'].dt.hour\n",
    "taxi_data['dropoff_hour'] = taxi_data['tpep_dropoff_datetime'].dt.hour\n",
    "\n",
    "# extract pickup and dropoff day of week\n",
    "taxi_data['pickup_day'] = taxi_data['tpep_pickup_datetime'].dt.weekday\n",
    "taxi_data['dropoff_day'] = taxi_data['tpep_dropoff_datetime'].dt.weekday"
   ]
  },
  {
   "cell_type": "code",
   "execution_count": 18,
   "id": "e239dcec-0f7f-42ac-a676-de7bf2dae1e7",
   "metadata": {},
   "outputs": [],
   "source": [
    "# compute trip time in minutes\n",
    "taxi_data['trip_time'] = (taxi_data['tpep_dropoff_datetime'] - taxi_data['tpep_pickup_datetime']).astype('timedelta64[s]').dt.total_seconds()"
   ]
  },
  {
   "cell_type": "code",
   "execution_count": 19,
   "id": "18ffdc21-710c-4c5c-b601-85668d10dc6d",
   "metadata": {},
   "outputs": [],
   "source": [
    "# drop the pickup and dropoff datetimes\n",
    "taxi_data.drop(['tpep_pickup_datetime', 'tpep_dropoff_datetime'], axis=1, inplace=True)"
   ]
  },
  {
   "cell_type": "code",
   "execution_count": 20,
   "id": "4921aa6a-9741-4131-8ffe-39a1a7ad7c81",
   "metadata": {},
   "outputs": [
    {
     "name": "stdout",
     "output_type": "stream",
     "text": [
      "There are  65349  rows of data and  20  properties\n"
     ]
    }
   ],
   "source": [
    "NR = np.size(taxi_data, 0)\n",
    "NC = np.size(taxi_data, 1)\n",
    "print('There are ', NR, ' rows of data and ', NC, ' properties')"
   ]
  },
  {
   "cell_type": "code",
   "execution_count": 21,
   "id": "3b0425a9-e153-46a9-8574-a4e43364124d",
   "metadata": {},
   "outputs": [],
   "source": [
    "# some features are categorical, we need to encode them\n",
    "# to encode them we use one-hot encoding from the Pandas package\n",
    "get_dummy_col = [\"VendorID\",\"RatecodeID\",\"store_and_fwd_flag\",\"PULocationID\", \"DOLocationID\",\"payment_type\", \"pickup_hour\", \"dropoff_hour\", \"pickup_day\", \"dropoff_day\"]\n",
    "taxi_data = pd.get_dummies(taxi_data, columns = get_dummy_col)"
   ]
  },
  {
   "cell_type": "code",
   "execution_count": 22,
   "id": "6f4b5fc1-08cf-4d20-af5c-827322602a55",
   "metadata": {},
   "outputs": [
    {
     "data": {
      "text/html": [
       "<div>\n",
       "<style scoped>\n",
       "    .dataframe tbody tr th:only-of-type {\n",
       "        vertical-align: middle;\n",
       "    }\n",
       "\n",
       "    .dataframe tbody tr th {\n",
       "        vertical-align: top;\n",
       "    }\n",
       "\n",
       "    .dataframe thead th {\n",
       "        text-align: right;\n",
       "    }\n",
       "</style>\n",
       "<table border=\"1\" class=\"dataframe\">\n",
       "  <thead>\n",
       "    <tr style=\"text-align: right;\">\n",
       "      <th></th>\n",
       "      <th>passenger_count</th>\n",
       "      <th>trip_distance</th>\n",
       "      <th>fare_amount</th>\n",
       "      <th>extra</th>\n",
       "      <th>mta_tax</th>\n",
       "      <th>tip_amount</th>\n",
       "      <th>tolls_amount</th>\n",
       "      <th>improvement_surcharge</th>\n",
       "      <th>congestion_surcharge</th>\n",
       "      <th>trip_time</th>\n",
       "      <th>...</th>\n",
       "      <th>pickup_day_0</th>\n",
       "      <th>pickup_day_3</th>\n",
       "      <th>pickup_day_4</th>\n",
       "      <th>pickup_day_5</th>\n",
       "      <th>pickup_day_6</th>\n",
       "      <th>dropoff_day_0</th>\n",
       "      <th>dropoff_day_3</th>\n",
       "      <th>dropoff_day_4</th>\n",
       "      <th>dropoff_day_5</th>\n",
       "      <th>dropoff_day_6</th>\n",
       "    </tr>\n",
       "  </thead>\n",
       "  <tbody>\n",
       "    <tr>\n",
       "      <th>4</th>\n",
       "      <td>1.0</td>\n",
       "      <td>1.70</td>\n",
       "      <td>9.5</td>\n",
       "      <td>3.0</td>\n",
       "      <td>0.5</td>\n",
       "      <td>2.65</td>\n",
       "      <td>0.0</td>\n",
       "      <td>0.3</td>\n",
       "      <td>2.5</td>\n",
       "      <td>737.0</td>\n",
       "      <td>...</td>\n",
       "      <td>False</td>\n",
       "      <td>False</td>\n",
       "      <td>False</td>\n",
       "      <td>True</td>\n",
       "      <td>False</td>\n",
       "      <td>False</td>\n",
       "      <td>False</td>\n",
       "      <td>False</td>\n",
       "      <td>True</td>\n",
       "      <td>False</td>\n",
       "    </tr>\n",
       "    <tr>\n",
       "      <th>5</th>\n",
       "      <td>2.0</td>\n",
       "      <td>1.60</td>\n",
       "      <td>9.5</td>\n",
       "      <td>3.0</td>\n",
       "      <td>0.5</td>\n",
       "      <td>1.00</td>\n",
       "      <td>0.0</td>\n",
       "      <td>0.3</td>\n",
       "      <td>2.5</td>\n",
       "      <td>652.0</td>\n",
       "      <td>...</td>\n",
       "      <td>False</td>\n",
       "      <td>False</td>\n",
       "      <td>False</td>\n",
       "      <td>True</td>\n",
       "      <td>False</td>\n",
       "      <td>False</td>\n",
       "      <td>False</td>\n",
       "      <td>False</td>\n",
       "      <td>True</td>\n",
       "      <td>False</td>\n",
       "    </tr>\n",
       "    <tr>\n",
       "      <th>7</th>\n",
       "      <td>2.0</td>\n",
       "      <td>1.20</td>\n",
       "      <td>7.5</td>\n",
       "      <td>3.0</td>\n",
       "      <td>0.5</td>\n",
       "      <td>1.00</td>\n",
       "      <td>0.0</td>\n",
       "      <td>0.3</td>\n",
       "      <td>2.5</td>\n",
       "      <td>488.0</td>\n",
       "      <td>...</td>\n",
       "      <td>False</td>\n",
       "      <td>False</td>\n",
       "      <td>False</td>\n",
       "      <td>True</td>\n",
       "      <td>False</td>\n",
       "      <td>False</td>\n",
       "      <td>False</td>\n",
       "      <td>False</td>\n",
       "      <td>True</td>\n",
       "      <td>False</td>\n",
       "    </tr>\n",
       "    <tr>\n",
       "      <th>9</th>\n",
       "      <td>1.0</td>\n",
       "      <td>8.60</td>\n",
       "      <td>31.5</td>\n",
       "      <td>3.0</td>\n",
       "      <td>0.5</td>\n",
       "      <td>7.05</td>\n",
       "      <td>0.0</td>\n",
       "      <td>0.3</td>\n",
       "      <td>2.5</td>\n",
       "      <td>2041.0</td>\n",
       "      <td>...</td>\n",
       "      <td>False</td>\n",
       "      <td>False</td>\n",
       "      <td>False</td>\n",
       "      <td>True</td>\n",
       "      <td>False</td>\n",
       "      <td>False</td>\n",
       "      <td>False</td>\n",
       "      <td>False</td>\n",
       "      <td>True</td>\n",
       "      <td>False</td>\n",
       "    </tr>\n",
       "    <tr>\n",
       "      <th>10</th>\n",
       "      <td>1.0</td>\n",
       "      <td>1.74</td>\n",
       "      <td>11.0</td>\n",
       "      <td>0.5</td>\n",
       "      <td>0.5</td>\n",
       "      <td>2.96</td>\n",
       "      <td>0.0</td>\n",
       "      <td>0.3</td>\n",
       "      <td>2.5</td>\n",
       "      <td>858.0</td>\n",
       "      <td>...</td>\n",
       "      <td>False</td>\n",
       "      <td>False</td>\n",
       "      <td>False</td>\n",
       "      <td>True</td>\n",
       "      <td>False</td>\n",
       "      <td>False</td>\n",
       "      <td>False</td>\n",
       "      <td>False</td>\n",
       "      <td>True</td>\n",
       "      <td>False</td>\n",
       "    </tr>\n",
       "  </tbody>\n",
       "</table>\n",
       "<p>5 rows × 461 columns</p>\n",
       "</div>"
      ],
      "text/plain": [
       "    passenger_count  trip_distance  fare_amount  extra  mta_tax  tip_amount  \\\n",
       "4               1.0           1.70          9.5    3.0      0.5        2.65   \n",
       "5               2.0           1.60          9.5    3.0      0.5        1.00   \n",
       "7               2.0           1.20          7.5    3.0      0.5        1.00   \n",
       "9               1.0           8.60         31.5    3.0      0.5        7.05   \n",
       "10              1.0           1.74         11.0    0.5      0.5        2.96   \n",
       "\n",
       "    tolls_amount  improvement_surcharge  congestion_surcharge  trip_time  ...  \\\n",
       "4            0.0                    0.3                   2.5      737.0  ...   \n",
       "5            0.0                    0.3                   2.5      652.0  ...   \n",
       "7            0.0                    0.3                   2.5      488.0  ...   \n",
       "9            0.0                    0.3                   2.5     2041.0  ...   \n",
       "10           0.0                    0.3                   2.5      858.0  ...   \n",
       "\n",
       "    pickup_day_0  pickup_day_3  pickup_day_4  pickup_day_5  pickup_day_6  \\\n",
       "4          False         False         False          True         False   \n",
       "5          False         False         False          True         False   \n",
       "7          False         False         False          True         False   \n",
       "9          False         False         False          True         False   \n",
       "10         False         False         False          True         False   \n",
       "\n",
       "    dropoff_day_0  dropoff_day_3  dropoff_day_4  dropoff_day_5  dropoff_day_6  \n",
       "4           False          False          False           True          False  \n",
       "5           False          False          False           True          False  \n",
       "7           False          False          False           True          False  \n",
       "9           False          False          False           True          False  \n",
       "10          False          False          False           True          False  \n",
       "\n",
       "[5 rows x 461 columns]"
      ]
     },
     "execution_count": 22,
     "metadata": {},
     "output_type": "execute_result"
    }
   ],
   "source": [
    "taxi_data.head()"
   ]
  },
  {
   "cell_type": "markdown",
   "id": "cb8ba7b7-d515-4424-a0de-039c7f1980bc",
   "metadata": {},
   "source": [
    "## 3. Exploratory Data Analysis"
   ]
  },
  {
   "cell_type": "markdown",
   "id": "0572956f-2606-4f55-bb61-0bdab36f2d4f",
   "metadata": {},
   "source": [
    "Data Exploratory or data analysis is requried to find the features or characteristics of the data. "
   ]
  },
  {
   "cell_type": "code",
   "execution_count": 60,
   "id": "4a331523-997b-4ed9-a350-25c5a36ed63f",
   "metadata": {},
   "outputs": [
    {
     "data": {
      "text/html": [
       "<div>\n",
       "<style scoped>\n",
       "    .dataframe tbody tr th:only-of-type {\n",
       "        vertical-align: middle;\n",
       "    }\n",
       "\n",
       "    .dataframe tbody tr th {\n",
       "        vertical-align: top;\n",
       "    }\n",
       "\n",
       "    .dataframe thead th {\n",
       "        text-align: right;\n",
       "    }\n",
       "</style>\n",
       "<table border=\"1\" class=\"dataframe\">\n",
       "  <thead>\n",
       "    <tr style=\"text-align: right;\">\n",
       "      <th></th>\n",
       "      <th>passenger_count</th>\n",
       "      <th>trip_distance</th>\n",
       "      <th>fare_amount</th>\n",
       "      <th>extra</th>\n",
       "      <th>mta_tax</th>\n",
       "      <th>tip_amount</th>\n",
       "      <th>tolls_amount</th>\n",
       "      <th>improvement_surcharge</th>\n",
       "      <th>congestion_surcharge</th>\n",
       "      <th>trip_time</th>\n",
       "      <th>...</th>\n",
       "      <th>pickup_day_0</th>\n",
       "      <th>pickup_day_3</th>\n",
       "      <th>pickup_day_4</th>\n",
       "      <th>pickup_day_5</th>\n",
       "      <th>pickup_day_6</th>\n",
       "      <th>dropoff_day_0</th>\n",
       "      <th>dropoff_day_3</th>\n",
       "      <th>dropoff_day_4</th>\n",
       "      <th>dropoff_day_5</th>\n",
       "      <th>dropoff_day_6</th>\n",
       "    </tr>\n",
       "  </thead>\n",
       "  <tbody>\n",
       "    <tr>\n",
       "      <th>passenger_count</th>\n",
       "      <td>1.000000</td>\n",
       "      <td>-0.000209</td>\n",
       "      <td>0.002202</td>\n",
       "      <td>-0.175310</td>\n",
       "      <td>0.001385</td>\n",
       "      <td>0.004420</td>\n",
       "      <td>-0.002707</td>\n",
       "      <td>0.001048</td>\n",
       "      <td>0.004190</td>\n",
       "      <td>0.009188</td>\n",
       "      <td>...</td>\n",
       "      <td>-0.003247</td>\n",
       "      <td>-0.004592</td>\n",
       "      <td>0.002695</td>\n",
       "      <td>-0.001389</td>\n",
       "      <td>-0.001874</td>\n",
       "      <td>-0.003247</td>\n",
       "      <td>-0.004592</td>\n",
       "      <td>-0.003423</td>\n",
       "      <td>-0.002695</td>\n",
       "      <td>0.007586</td>\n",
       "    </tr>\n",
       "    <tr>\n",
       "      <th>trip_distance</th>\n",
       "      <td>-0.000209</td>\n",
       "      <td>1.000000</td>\n",
       "      <td>0.913802</td>\n",
       "      <td>-0.042103</td>\n",
       "      <td>-0.160758</td>\n",
       "      <td>0.805547</td>\n",
       "      <td>0.598441</td>\n",
       "      <td>0.008575</td>\n",
       "      <td>-0.192397</td>\n",
       "      <td>0.131237</td>\n",
       "      <td>...</td>\n",
       "      <td>0.029662</td>\n",
       "      <td>-0.003556</td>\n",
       "      <td>-0.000230</td>\n",
       "      <td>-0.004055</td>\n",
       "      <td>0.021707</td>\n",
       "      <td>0.029662</td>\n",
       "      <td>-0.003556</td>\n",
       "      <td>-0.006354</td>\n",
       "      <td>-0.006856</td>\n",
       "      <td>0.009453</td>\n",
       "    </tr>\n",
       "    <tr>\n",
       "      <th>fare_amount</th>\n",
       "      <td>0.002202</td>\n",
       "      <td>0.913802</td>\n",
       "      <td>1.000000</td>\n",
       "      <td>-0.054693</td>\n",
       "      <td>-0.315826</td>\n",
       "      <td>0.858791</td>\n",
       "      <td>0.602940</td>\n",
       "      <td>-0.038420</td>\n",
       "      <td>-0.229164</td>\n",
       "      <td>0.131027</td>\n",
       "      <td>...</td>\n",
       "      <td>0.025905</td>\n",
       "      <td>-0.004074</td>\n",
       "      <td>0.002818</td>\n",
       "      <td>-0.007421</td>\n",
       "      <td>0.035285</td>\n",
       "      <td>0.025905</td>\n",
       "      <td>-0.004074</td>\n",
       "      <td>-0.006471</td>\n",
       "      <td>-0.008691</td>\n",
       "      <td>0.012621</td>\n",
       "    </tr>\n",
       "    <tr>\n",
       "      <th>extra</th>\n",
       "      <td>-0.175310</td>\n",
       "      <td>-0.042103</td>\n",
       "      <td>-0.054693</td>\n",
       "      <td>1.000000</td>\n",
       "      <td>0.046316</td>\n",
       "      <td>-0.054908</td>\n",
       "      <td>-0.052441</td>\n",
       "      <td>0.008393</td>\n",
       "      <td>0.171221</td>\n",
       "      <td>-0.031939</td>\n",
       "      <td>...</td>\n",
       "      <td>-0.005706</td>\n",
       "      <td>-0.005428</td>\n",
       "      <td>-0.025293</td>\n",
       "      <td>0.026492</td>\n",
       "      <td>-0.003294</td>\n",
       "      <td>-0.005706</td>\n",
       "      <td>-0.005428</td>\n",
       "      <td>-0.013827</td>\n",
       "      <td>0.033132</td>\n",
       "      <td>-0.029844</td>\n",
       "    </tr>\n",
       "    <tr>\n",
       "      <th>mta_tax</th>\n",
       "      <td>0.001385</td>\n",
       "      <td>-0.160758</td>\n",
       "      <td>-0.315826</td>\n",
       "      <td>0.046316</td>\n",
       "      <td>1.000000</td>\n",
       "      <td>-0.268547</td>\n",
       "      <td>-0.366291</td>\n",
       "      <td>0.033092</td>\n",
       "      <td>0.235998</td>\n",
       "      <td>-0.006971</td>\n",
       "      <td>...</td>\n",
       "      <td>0.000480</td>\n",
       "      <td>0.000679</td>\n",
       "      <td>0.004090</td>\n",
       "      <td>-0.004184</td>\n",
       "      <td>0.000277</td>\n",
       "      <td>0.000480</td>\n",
       "      <td>0.000679</td>\n",
       "      <td>0.002184</td>\n",
       "      <td>-0.003755</td>\n",
       "      <td>0.002936</td>\n",
       "    </tr>\n",
       "    <tr>\n",
       "      <th>...</th>\n",
       "      <td>...</td>\n",
       "      <td>...</td>\n",
       "      <td>...</td>\n",
       "      <td>...</td>\n",
       "      <td>...</td>\n",
       "      <td>...</td>\n",
       "      <td>...</td>\n",
       "      <td>...</td>\n",
       "      <td>...</td>\n",
       "      <td>...</td>\n",
       "      <td>...</td>\n",
       "      <td>...</td>\n",
       "      <td>...</td>\n",
       "      <td>...</td>\n",
       "      <td>...</td>\n",
       "      <td>...</td>\n",
       "      <td>...</td>\n",
       "      <td>...</td>\n",
       "      <td>...</td>\n",
       "      <td>...</td>\n",
       "      <td>...</td>\n",
       "    </tr>\n",
       "    <tr>\n",
       "      <th>dropoff_day_0</th>\n",
       "      <td>-0.003247</td>\n",
       "      <td>0.029662</td>\n",
       "      <td>0.025905</td>\n",
       "      <td>-0.005706</td>\n",
       "      <td>0.000480</td>\n",
       "      <td>0.022474</td>\n",
       "      <td>0.016687</td>\n",
       "      <td>0.000099</td>\n",
       "      <td>-0.017077</td>\n",
       "      <td>0.003651</td>\n",
       "      <td>...</td>\n",
       "      <td>1.000000</td>\n",
       "      <td>-0.000065</td>\n",
       "      <td>-0.000391</td>\n",
       "      <td>-0.114763</td>\n",
       "      <td>-0.000027</td>\n",
       "      <td>1.000000</td>\n",
       "      <td>-0.000065</td>\n",
       "      <td>-0.000209</td>\n",
       "      <td>-0.127860</td>\n",
       "      <td>-0.000281</td>\n",
       "    </tr>\n",
       "    <tr>\n",
       "      <th>dropoff_day_3</th>\n",
       "      <td>-0.004592</td>\n",
       "      <td>-0.003556</td>\n",
       "      <td>-0.004074</td>\n",
       "      <td>-0.005428</td>\n",
       "      <td>0.000679</td>\n",
       "      <td>-0.003713</td>\n",
       "      <td>-0.001989</td>\n",
       "      <td>0.000140</td>\n",
       "      <td>0.002453</td>\n",
       "      <td>-0.001121</td>\n",
       "      <td>...</td>\n",
       "      <td>-0.000065</td>\n",
       "      <td>1.000000</td>\n",
       "      <td>-0.000553</td>\n",
       "      <td>-0.162303</td>\n",
       "      <td>-0.000037</td>\n",
       "      <td>-0.000065</td>\n",
       "      <td>1.000000</td>\n",
       "      <td>-0.000295</td>\n",
       "      <td>-0.180826</td>\n",
       "      <td>-0.000397</td>\n",
       "    </tr>\n",
       "    <tr>\n",
       "      <th>dropoff_day_4</th>\n",
       "      <td>-0.003423</td>\n",
       "      <td>-0.006354</td>\n",
       "      <td>-0.006471</td>\n",
       "      <td>-0.013827</td>\n",
       "      <td>0.002184</td>\n",
       "      <td>-0.005612</td>\n",
       "      <td>-0.002980</td>\n",
       "      <td>0.000451</td>\n",
       "      <td>-0.000392</td>\n",
       "      <td>-0.002466</td>\n",
       "      <td>...</td>\n",
       "      <td>-0.000209</td>\n",
       "      <td>-0.000295</td>\n",
       "      <td>0.533888</td>\n",
       "      <td>-0.521955</td>\n",
       "      <td>-0.000121</td>\n",
       "      <td>-0.000209</td>\n",
       "      <td>-0.000295</td>\n",
       "      <td>1.000000</td>\n",
       "      <td>-0.581524</td>\n",
       "      <td>-0.001277</td>\n",
       "    </tr>\n",
       "    <tr>\n",
       "      <th>dropoff_day_5</th>\n",
       "      <td>-0.002695</td>\n",
       "      <td>-0.006856</td>\n",
       "      <td>-0.008691</td>\n",
       "      <td>0.033132</td>\n",
       "      <td>-0.003755</td>\n",
       "      <td>-0.001109</td>\n",
       "      <td>-0.003420</td>\n",
       "      <td>-0.000776</td>\n",
       "      <td>0.006937</td>\n",
       "      <td>-0.725867</td>\n",
       "      <td>...</td>\n",
       "      <td>-0.127860</td>\n",
       "      <td>-0.180826</td>\n",
       "      <td>-0.309022</td>\n",
       "      <td>0.351243</td>\n",
       "      <td>-0.073819</td>\n",
       "      <td>-0.127860</td>\n",
       "      <td>-0.180826</td>\n",
       "      <td>-0.581524</td>\n",
       "      <td>1.000000</td>\n",
       "      <td>-0.781892</td>\n",
       "    </tr>\n",
       "    <tr>\n",
       "      <th>dropoff_day_6</th>\n",
       "      <td>0.007586</td>\n",
       "      <td>0.009453</td>\n",
       "      <td>0.012621</td>\n",
       "      <td>-0.029844</td>\n",
       "      <td>0.002936</td>\n",
       "      <td>0.002773</td>\n",
       "      <td>0.004315</td>\n",
       "      <td>0.000607</td>\n",
       "      <td>-0.006341</td>\n",
       "      <td>0.928833</td>\n",
       "      <td>...</td>\n",
       "      <td>-0.000281</td>\n",
       "      <td>-0.000397</td>\n",
       "      <td>-0.002392</td>\n",
       "      <td>-0.003842</td>\n",
       "      <td>0.094411</td>\n",
       "      <td>-0.000281</td>\n",
       "      <td>-0.000397</td>\n",
       "      <td>-0.001277</td>\n",
       "      <td>-0.781892</td>\n",
       "      <td>1.000000</td>\n",
       "    </tr>\n",
       "  </tbody>\n",
       "</table>\n",
       "<p>461 rows × 461 columns</p>\n",
       "</div>"
      ],
      "text/plain": [
       "                 passenger_count  trip_distance  fare_amount     extra  \\\n",
       "passenger_count         1.000000      -0.000209     0.002202 -0.175310   \n",
       "trip_distance          -0.000209       1.000000     0.913802 -0.042103   \n",
       "fare_amount             0.002202       0.913802     1.000000 -0.054693   \n",
       "extra                  -0.175310      -0.042103    -0.054693  1.000000   \n",
       "mta_tax                 0.001385      -0.160758    -0.315826  0.046316   \n",
       "...                          ...            ...          ...       ...   \n",
       "dropoff_day_0          -0.003247       0.029662     0.025905 -0.005706   \n",
       "dropoff_day_3          -0.004592      -0.003556    -0.004074 -0.005428   \n",
       "dropoff_day_4          -0.003423      -0.006354    -0.006471 -0.013827   \n",
       "dropoff_day_5          -0.002695      -0.006856    -0.008691  0.033132   \n",
       "dropoff_day_6           0.007586       0.009453     0.012621 -0.029844   \n",
       "\n",
       "                  mta_tax  tip_amount  tolls_amount  improvement_surcharge  \\\n",
       "passenger_count  0.001385    0.004420     -0.002707               0.001048   \n",
       "trip_distance   -0.160758    0.805547      0.598441               0.008575   \n",
       "fare_amount     -0.315826    0.858791      0.602940              -0.038420   \n",
       "extra            0.046316   -0.054908     -0.052441               0.008393   \n",
       "mta_tax          1.000000   -0.268547     -0.366291               0.033092   \n",
       "...                   ...         ...           ...                    ...   \n",
       "dropoff_day_0    0.000480    0.022474      0.016687               0.000099   \n",
       "dropoff_day_3    0.000679   -0.003713     -0.001989               0.000140   \n",
       "dropoff_day_4    0.002184   -0.005612     -0.002980               0.000451   \n",
       "dropoff_day_5   -0.003755   -0.001109     -0.003420              -0.000776   \n",
       "dropoff_day_6    0.002936    0.002773      0.004315               0.000607   \n",
       "\n",
       "                 congestion_surcharge  trip_time  ...  pickup_day_0  \\\n",
       "passenger_count              0.004190   0.009188  ...     -0.003247   \n",
       "trip_distance               -0.192397   0.131237  ...      0.029662   \n",
       "fare_amount                 -0.229164   0.131027  ...      0.025905   \n",
       "extra                        0.171221  -0.031939  ...     -0.005706   \n",
       "mta_tax                      0.235998  -0.006971  ...      0.000480   \n",
       "...                               ...        ...  ...           ...   \n",
       "dropoff_day_0               -0.017077   0.003651  ...      1.000000   \n",
       "dropoff_day_3                0.002453  -0.001121  ...     -0.000065   \n",
       "dropoff_day_4               -0.000392  -0.002466  ...     -0.000209   \n",
       "dropoff_day_5                0.006937  -0.725867  ...     -0.127860   \n",
       "dropoff_day_6               -0.006341   0.928833  ...     -0.000281   \n",
       "\n",
       "                 pickup_day_3  pickup_day_4  pickup_day_5  pickup_day_6  \\\n",
       "passenger_count     -0.004592      0.002695     -0.001389     -0.001874   \n",
       "trip_distance       -0.003556     -0.000230     -0.004055      0.021707   \n",
       "fare_amount         -0.004074      0.002818     -0.007421      0.035285   \n",
       "extra               -0.005428     -0.025293      0.026492     -0.003294   \n",
       "mta_tax              0.000679      0.004090     -0.004184      0.000277   \n",
       "...                       ...           ...           ...           ...   \n",
       "dropoff_day_0       -0.000065     -0.000391     -0.114763     -0.000027   \n",
       "dropoff_day_3        1.000000     -0.000553     -0.162303     -0.000037   \n",
       "dropoff_day_4       -0.000295      0.533888     -0.521955     -0.000121   \n",
       "dropoff_day_5       -0.180826     -0.309022      0.351243     -0.073819   \n",
       "dropoff_day_6       -0.000397     -0.002392     -0.003842      0.094411   \n",
       "\n",
       "                 dropoff_day_0  dropoff_day_3  dropoff_day_4  dropoff_day_5  \\\n",
       "passenger_count      -0.003247      -0.004592      -0.003423      -0.002695   \n",
       "trip_distance         0.029662      -0.003556      -0.006354      -0.006856   \n",
       "fare_amount           0.025905      -0.004074      -0.006471      -0.008691   \n",
       "extra                -0.005706      -0.005428      -0.013827       0.033132   \n",
       "mta_tax               0.000480       0.000679       0.002184      -0.003755   \n",
       "...                        ...            ...            ...            ...   \n",
       "dropoff_day_0         1.000000      -0.000065      -0.000209      -0.127860   \n",
       "dropoff_day_3        -0.000065       1.000000      -0.000295      -0.180826   \n",
       "dropoff_day_4        -0.000209      -0.000295       1.000000      -0.581524   \n",
       "dropoff_day_5        -0.127860      -0.180826      -0.581524       1.000000   \n",
       "dropoff_day_6        -0.000281      -0.000397      -0.001277      -0.781892   \n",
       "\n",
       "                 dropoff_day_6  \n",
       "passenger_count       0.007586  \n",
       "trip_distance         0.009453  \n",
       "fare_amount           0.012621  \n",
       "extra                -0.029844  \n",
       "mta_tax               0.002936  \n",
       "...                        ...  \n",
       "dropoff_day_0        -0.000281  \n",
       "dropoff_day_3        -0.000397  \n",
       "dropoff_day_4        -0.001277  \n",
       "dropoff_day_5        -0.781892  \n",
       "dropoff_day_6         1.000000  \n",
       "\n",
       "[461 rows x 461 columns]"
      ]
     },
     "execution_count": 60,
     "metadata": {},
     "output_type": "execute_result"
    }
   ],
   "source": [
    "#calcualte correlation\n",
    "taxi_data.corr(numeric_only=True)"
   ]
  },
  {
   "cell_type": "code",
   "execution_count": 23,
   "id": "c8471b50-c19b-4b67-9bee-d0b35ead5336",
   "metadata": {},
   "outputs": [
    {
     "data": {
      "text/html": [
       "<div>\n",
       "<style scoped>\n",
       "    .dataframe tbody tr th:only-of-type {\n",
       "        vertical-align: middle;\n",
       "    }\n",
       "\n",
       "    .dataframe tbody tr th {\n",
       "        vertical-align: top;\n",
       "    }\n",
       "\n",
       "    .dataframe thead th {\n",
       "        text-align: right;\n",
       "    }\n",
       "</style>\n",
       "<table border=\"1\" class=\"dataframe\">\n",
       "  <thead>\n",
       "    <tr style=\"text-align: right;\">\n",
       "      <th></th>\n",
       "      <th>passenger_count</th>\n",
       "      <th>trip_distance</th>\n",
       "      <th>fare_amount</th>\n",
       "      <th>extra</th>\n",
       "      <th>mta_tax</th>\n",
       "      <th>tip_amount</th>\n",
       "      <th>tolls_amount</th>\n",
       "      <th>improvement_surcharge</th>\n",
       "      <th>congestion_surcharge</th>\n",
       "      <th>trip_time</th>\n",
       "    </tr>\n",
       "  </thead>\n",
       "  <tbody>\n",
       "    <tr>\n",
       "      <th>count</th>\n",
       "      <td>65349.000000</td>\n",
       "      <td>65349.000000</td>\n",
       "      <td>65349.000000</td>\n",
       "      <td>65349.000000</td>\n",
       "      <td>65349.000000</td>\n",
       "      <td>65349.000000</td>\n",
       "      <td>65349.000000</td>\n",
       "      <td>65349.000000</td>\n",
       "      <td>65349.000000</td>\n",
       "      <td>65349.000000</td>\n",
       "    </tr>\n",
       "    <tr>\n",
       "      <th>mean</th>\n",
       "      <td>1.587874</td>\n",
       "      <td>3.044421</td>\n",
       "      <td>12.511533</td>\n",
       "      <td>1.018459</td>\n",
       "      <td>0.497503</td>\n",
       "      <td>2.960050</td>\n",
       "      <td>0.317121</td>\n",
       "      <td>0.299936</td>\n",
       "      <td>2.346340</td>\n",
       "      <td>885.832652</td>\n",
       "    </tr>\n",
       "    <tr>\n",
       "      <th>std</th>\n",
       "      <td>1.226871</td>\n",
       "      <td>3.614311</td>\n",
       "      <td>10.808110</td>\n",
       "      <td>1.209451</td>\n",
       "      <td>0.035232</td>\n",
       "      <td>2.412929</td>\n",
       "      <td>1.527919</td>\n",
       "      <td>0.004391</td>\n",
       "      <td>0.600319</td>\n",
       "      <td>3629.273930</td>\n",
       "    </tr>\n",
       "    <tr>\n",
       "      <th>min</th>\n",
       "      <td>0.000000</td>\n",
       "      <td>0.000000</td>\n",
       "      <td>2.500000</td>\n",
       "      <td>0.000000</td>\n",
       "      <td>0.000000</td>\n",
       "      <td>0.010000</td>\n",
       "      <td>0.000000</td>\n",
       "      <td>0.000000</td>\n",
       "      <td>0.000000</td>\n",
       "      <td>0.000000</td>\n",
       "    </tr>\n",
       "    <tr>\n",
       "      <th>25%</th>\n",
       "      <td>1.000000</td>\n",
       "      <td>1.100000</td>\n",
       "      <td>6.500000</td>\n",
       "      <td>0.000000</td>\n",
       "      <td>0.500000</td>\n",
       "      <td>1.700000</td>\n",
       "      <td>0.000000</td>\n",
       "      <td>0.300000</td>\n",
       "      <td>2.500000</td>\n",
       "      <td>360.000000</td>\n",
       "    </tr>\n",
       "    <tr>\n",
       "      <th>50%</th>\n",
       "      <td>1.000000</td>\n",
       "      <td>1.840000</td>\n",
       "      <td>9.000000</td>\n",
       "      <td>0.500000</td>\n",
       "      <td>0.500000</td>\n",
       "      <td>2.260000</td>\n",
       "      <td>0.000000</td>\n",
       "      <td>0.300000</td>\n",
       "      <td>2.500000</td>\n",
       "      <td>589.000000</td>\n",
       "    </tr>\n",
       "    <tr>\n",
       "      <th>75%</th>\n",
       "      <td>2.000000</td>\n",
       "      <td>3.340000</td>\n",
       "      <td>14.000000</td>\n",
       "      <td>2.500000</td>\n",
       "      <td>0.500000</td>\n",
       "      <td>3.260000</td>\n",
       "      <td>0.000000</td>\n",
       "      <td>0.300000</td>\n",
       "      <td>2.500000</td>\n",
       "      <td>943.000000</td>\n",
       "    </tr>\n",
       "    <tr>\n",
       "      <th>max</th>\n",
       "      <td>7.000000</td>\n",
       "      <td>63.840000</td>\n",
       "      <td>194.000000</td>\n",
       "      <td>17.500000</td>\n",
       "      <td>0.500000</td>\n",
       "      <td>53.000000</td>\n",
       "      <td>40.170000</td>\n",
       "      <td>0.300000</td>\n",
       "      <td>2.500000</td>\n",
       "      <td>86373.000000</td>\n",
       "    </tr>\n",
       "  </tbody>\n",
       "</table>\n",
       "</div>"
      ],
      "text/plain": [
       "       passenger_count  trip_distance   fare_amount         extra  \\\n",
       "count     65349.000000   65349.000000  65349.000000  65349.000000   \n",
       "mean          1.587874       3.044421     12.511533      1.018459   \n",
       "std           1.226871       3.614311     10.808110      1.209451   \n",
       "min           0.000000       0.000000      2.500000      0.000000   \n",
       "25%           1.000000       1.100000      6.500000      0.000000   \n",
       "50%           1.000000       1.840000      9.000000      0.500000   \n",
       "75%           2.000000       3.340000     14.000000      2.500000   \n",
       "max           7.000000      63.840000    194.000000     17.500000   \n",
       "\n",
       "            mta_tax    tip_amount  tolls_amount  improvement_surcharge  \\\n",
       "count  65349.000000  65349.000000  65349.000000           65349.000000   \n",
       "mean       0.497503      2.960050      0.317121               0.299936   \n",
       "std        0.035232      2.412929      1.527919               0.004391   \n",
       "min        0.000000      0.010000      0.000000               0.000000   \n",
       "25%        0.500000      1.700000      0.000000               0.300000   \n",
       "50%        0.500000      2.260000      0.000000               0.300000   \n",
       "75%        0.500000      3.260000      0.000000               0.300000   \n",
       "max        0.500000     53.000000     40.170000               0.300000   \n",
       "\n",
       "       congestion_surcharge     trip_time  \n",
       "count          65349.000000  65349.000000  \n",
       "mean               2.346340    885.832652  \n",
       "std                0.600319   3629.273930  \n",
       "min                0.000000      0.000000  \n",
       "25%                2.500000    360.000000  \n",
       "50%                2.500000    589.000000  \n",
       "75%                2.500000    943.000000  \n",
       "max                2.500000  86373.000000  "
      ]
     },
     "execution_count": 23,
     "metadata": {},
     "output_type": "execute_result"
    }
   ],
   "source": [
    "taxi_data.describe()"
   ]
  },
  {
   "cell_type": "code",
   "execution_count": 24,
   "id": "c75b6a13-773e-43f3-a0ac-42eae02a17be",
   "metadata": {},
   "outputs": [
    {
     "data": {
      "image/png": "[encoded data removed]",
      "text/plain": [
       "<Figure size 640x480 with 1 Axes>"
      ]
     },
     "metadata": {},
     "output_type": "display_data"
    }
   ],
   "source": [
    "plt.hist(taxi_data.tip_amount.values, 16, histtype='bar', facecolor='g')\n",
    "plt.show()"
   ]
  },
  {
   "cell_type": "code",
   "execution_count": 25,
   "id": "984e3448-f749-4246-bcbb-929bde613309",
   "metadata": {},
   "outputs": [
    {
     "name": "stdout",
     "output_type": "stream",
     "text": [
      "Minimum amount value is  0.01\n",
      "Maximum amount value is  53.0\n",
      "90% of the trips have a tip amount less or equal than  5.15\n"
     ]
    }
   ],
   "source": [
    "print(\"Minimum amount value is \", np.min(taxi_data.tip_amount.values))\n",
    "print(\"Maximum amount value is \", np.max(taxi_data.tip_amount.values))\n",
    "print(\"90% of the trips have a tip amount less or equal than \", np.percentile(taxi_data.tip_amount.values, 90))"
   ]
  },
  {
   "cell_type": "code",
   "execution_count": 26,
   "id": "03b1eff3-d998-4e5d-95bc-7daf555e0136",
   "metadata": {},
   "outputs": [
    {
     "data": {
      "text/html": [
       "<div>\n",
       "<style scoped>\n",
       "    .dataframe tbody tr th:only-of-type {\n",
       "        vertical-align: middle;\n",
       "    }\n",
       "\n",
       "    .dataframe tbody tr th {\n",
       "        vertical-align: top;\n",
       "    }\n",
       "\n",
       "    .dataframe thead th {\n",
       "        text-align: right;\n",
       "    }\n",
       "</style>\n",
       "<table border=\"1\" class=\"dataframe\">\n",
       "  <thead>\n",
       "    <tr style=\"text-align: right;\">\n",
       "      <th></th>\n",
       "      <th>passenger_count</th>\n",
       "      <th>trip_distance</th>\n",
       "      <th>fare_amount</th>\n",
       "      <th>extra</th>\n",
       "      <th>mta_tax</th>\n",
       "      <th>tip_amount</th>\n",
       "      <th>tolls_amount</th>\n",
       "      <th>improvement_surcharge</th>\n",
       "      <th>congestion_surcharge</th>\n",
       "      <th>trip_time</th>\n",
       "      <th>...</th>\n",
       "      <th>pickup_day_0</th>\n",
       "      <th>pickup_day_3</th>\n",
       "      <th>pickup_day_4</th>\n",
       "      <th>pickup_day_5</th>\n",
       "      <th>pickup_day_6</th>\n",
       "      <th>dropoff_day_0</th>\n",
       "      <th>dropoff_day_3</th>\n",
       "      <th>dropoff_day_4</th>\n",
       "      <th>dropoff_day_5</th>\n",
       "      <th>dropoff_day_6</th>\n",
       "    </tr>\n",
       "  </thead>\n",
       "  <tbody>\n",
       "    <tr>\n",
       "      <th>4</th>\n",
       "      <td>1.0</td>\n",
       "      <td>1.70</td>\n",
       "      <td>9.5</td>\n",
       "      <td>3.0</td>\n",
       "      <td>0.5</td>\n",
       "      <td>2.65</td>\n",
       "      <td>0.0</td>\n",
       "      <td>0.3</td>\n",
       "      <td>2.5</td>\n",
       "      <td>737.0</td>\n",
       "      <td>...</td>\n",
       "      <td>False</td>\n",
       "      <td>False</td>\n",
       "      <td>False</td>\n",
       "      <td>True</td>\n",
       "      <td>False</td>\n",
       "      <td>False</td>\n",
       "      <td>False</td>\n",
       "      <td>False</td>\n",
       "      <td>True</td>\n",
       "      <td>False</td>\n",
       "    </tr>\n",
       "    <tr>\n",
       "      <th>5</th>\n",
       "      <td>2.0</td>\n",
       "      <td>1.60</td>\n",
       "      <td>9.5</td>\n",
       "      <td>3.0</td>\n",
       "      <td>0.5</td>\n",
       "      <td>1.00</td>\n",
       "      <td>0.0</td>\n",
       "      <td>0.3</td>\n",
       "      <td>2.5</td>\n",
       "      <td>652.0</td>\n",
       "      <td>...</td>\n",
       "      <td>False</td>\n",
       "      <td>False</td>\n",
       "      <td>False</td>\n",
       "      <td>True</td>\n",
       "      <td>False</td>\n",
       "      <td>False</td>\n",
       "      <td>False</td>\n",
       "      <td>False</td>\n",
       "      <td>True</td>\n",
       "      <td>False</td>\n",
       "    </tr>\n",
       "    <tr>\n",
       "      <th>7</th>\n",
       "      <td>2.0</td>\n",
       "      <td>1.20</td>\n",
       "      <td>7.5</td>\n",
       "      <td>3.0</td>\n",
       "      <td>0.5</td>\n",
       "      <td>1.00</td>\n",
       "      <td>0.0</td>\n",
       "      <td>0.3</td>\n",
       "      <td>2.5</td>\n",
       "      <td>488.0</td>\n",
       "      <td>...</td>\n",
       "      <td>False</td>\n",
       "      <td>False</td>\n",
       "      <td>False</td>\n",
       "      <td>True</td>\n",
       "      <td>False</td>\n",
       "      <td>False</td>\n",
       "      <td>False</td>\n",
       "      <td>False</td>\n",
       "      <td>True</td>\n",
       "      <td>False</td>\n",
       "    </tr>\n",
       "    <tr>\n",
       "      <th>9</th>\n",
       "      <td>1.0</td>\n",
       "      <td>8.60</td>\n",
       "      <td>31.5</td>\n",
       "      <td>3.0</td>\n",
       "      <td>0.5</td>\n",
       "      <td>7.05</td>\n",
       "      <td>0.0</td>\n",
       "      <td>0.3</td>\n",
       "      <td>2.5</td>\n",
       "      <td>2041.0</td>\n",
       "      <td>...</td>\n",
       "      <td>False</td>\n",
       "      <td>False</td>\n",
       "      <td>False</td>\n",
       "      <td>True</td>\n",
       "      <td>False</td>\n",
       "      <td>False</td>\n",
       "      <td>False</td>\n",
       "      <td>False</td>\n",
       "      <td>True</td>\n",
       "      <td>False</td>\n",
       "    </tr>\n",
       "    <tr>\n",
       "      <th>10</th>\n",
       "      <td>1.0</td>\n",
       "      <td>1.74</td>\n",
       "      <td>11.0</td>\n",
       "      <td>0.5</td>\n",
       "      <td>0.5</td>\n",
       "      <td>2.96</td>\n",
       "      <td>0.0</td>\n",
       "      <td>0.3</td>\n",
       "      <td>2.5</td>\n",
       "      <td>858.0</td>\n",
       "      <td>...</td>\n",
       "      <td>False</td>\n",
       "      <td>False</td>\n",
       "      <td>False</td>\n",
       "      <td>True</td>\n",
       "      <td>False</td>\n",
       "      <td>False</td>\n",
       "      <td>False</td>\n",
       "      <td>False</td>\n",
       "      <td>True</td>\n",
       "      <td>False</td>\n",
       "    </tr>\n",
       "  </tbody>\n",
       "</table>\n",
       "<p>5 rows × 461 columns</p>\n",
       "</div>"
      ],
      "text/plain": [
       "    passenger_count  trip_distance  fare_amount  extra  mta_tax  tip_amount  \\\n",
       "4               1.0           1.70          9.5    3.0      0.5        2.65   \n",
       "5               2.0           1.60          9.5    3.0      0.5        1.00   \n",
       "7               2.0           1.20          7.5    3.0      0.5        1.00   \n",
       "9               1.0           8.60         31.5    3.0      0.5        7.05   \n",
       "10              1.0           1.74         11.0    0.5      0.5        2.96   \n",
       "\n",
       "    tolls_amount  improvement_surcharge  congestion_surcharge  trip_time  ...  \\\n",
       "4            0.0                    0.3                   2.5      737.0  ...   \n",
       "5            0.0                    0.3                   2.5      652.0  ...   \n",
       "7            0.0                    0.3                   2.5      488.0  ...   \n",
       "9            0.0                    0.3                   2.5     2041.0  ...   \n",
       "10           0.0                    0.3                   2.5      858.0  ...   \n",
       "\n",
       "    pickup_day_0  pickup_day_3  pickup_day_4  pickup_day_5  pickup_day_6  \\\n",
       "4          False         False         False          True         False   \n",
       "5          False         False         False          True         False   \n",
       "7          False         False         False          True         False   \n",
       "9          False         False         False          True         False   \n",
       "10         False         False         False          True         False   \n",
       "\n",
       "    dropoff_day_0  dropoff_day_3  dropoff_day_4  dropoff_day_5  dropoff_day_6  \n",
       "4           False          False          False           True          False  \n",
       "5           False          False          False           True          False  \n",
       "7           False          False          False           True          False  \n",
       "9           False          False          False           True          False  \n",
       "10          False          False          False           True          False  \n",
       "\n",
       "[5 rows x 461 columns]"
      ]
     },
     "execution_count": 26,
     "metadata": {},
     "output_type": "execute_result"
    }
   ],
   "source": [
    "taxi_data.head()"
   ]
  },
  {
   "cell_type": "code",
   "execution_count": 27,
   "id": "3ffc3a81-24e1-47b7-89ec-473cc822e7b1",
   "metadata": {},
   "outputs": [
    {
     "data": {
      "image/png": "[encoded data removed]",
      "text/plain": [
       "<Figure size 1500x1500 with 9 Axes>"
      ]
     },
     "metadata": {},
     "output_type": "display_data"
    }
   ],
   "source": [
    "import matplotlib.pyplot as plt\n",
    "import seaborn as sns\n",
    "# use regplot\n",
    "#trip_time\n",
    "plt.figure(figsize=(15,15))\n",
    "plt.subplot(4,4,1)\n",
    "sns.regplot(x='trip_time',y='tip_amount',data=taxi_data)\n",
    "plt.ylim(0,)\n",
    "plt.tight_layout()\n",
    "\n",
    "#passenger_count\n",
    "plt.subplot(4,4,2)\n",
    "sns.regplot(x='passenger_count',y='tip_amount',data=taxi_data)\n",
    "plt.ylim(0,)\n",
    "plt.tight_layout()\n",
    "\n",
    "#trip_distance\n",
    "plt.subplot(4,4,3)\n",
    "sns.regplot(x='trip_distance',y='tip_amount',data=taxi_data)\n",
    "plt.ylim(0,)\n",
    "plt.tight_layout()\n",
    "\n",
    "#fare_amount\n",
    "plt.subplot(4,4,4)\n",
    "sns.regplot(x='fare_amount',y='tip_amount',data=taxi_data)\n",
    "plt.ylim(0,)\n",
    "plt.tight_layout()\n",
    "\n",
    "#extra\n",
    "plt.subplot(4,4,5)\n",
    "sns.regplot(x='extra',y='tip_amount',data=taxi_data)\n",
    "plt.ylim(0,)\n",
    "plt.tight_layout()\n",
    "\n",
    "#mta_tax\n",
    "plt.subplot(4,4,6)\n",
    "sns.regplot(x='mta_tax',y='tip_amount',data=taxi_data)\n",
    "plt.ylim(0,)\n",
    "plt.tight_layout()\n",
    "\n",
    "# tolls_amount\n",
    "plt.subplot(4,4,7)\n",
    "sns.regplot(x='tolls_amount',y='tip_amount',data=taxi_data)\n",
    "plt.ylim(0,)\n",
    "plt.tight_layout()\n",
    "\n",
    "# improvement_surcharge\n",
    "plt.subplot(4,4,8)\n",
    "sns.regplot(x='improvement_surcharge',y='tip_amount',data=taxi_data)\n",
    "plt.ylim(0,)\n",
    "plt.tight_layout()\n",
    "\n",
    "# congestion_surcharge\n",
    "plt.subplot(4,4,9)\n",
    "sns.regplot(x='congestion_surcharge',y='tip_amount',data=taxi_data)\n",
    "plt.ylim(0,)\n",
    "plt.tight_layout()\n"
   ]
  },
  {
   "cell_type": "markdown",
   "id": "a9df2d13-c8df-41f7-a9b2-f00e44e5b423",
   "metadata": {},
   "source": [
    "From above plots, \"trip_distance\", \"fare_amount\", \"tolls_amount\" are postiviely correlated with \"tip_amount\". Other variables don't have clear correlation. "
   ]
  },
  {
   "cell_type": "markdown",
   "id": "668e019e-a620-4787-9f1e-17535669ae37",
   "metadata": {},
   "source": [
    "### 4. Model Development"
   ]
  },
  {
   "cell_type": "markdown",
   "id": "81d1345c-ade5-4728-9de2-863ebad3445b",
   "metadata": {},
   "source": [
    "In this section, I will develop a Decision Tree model predict the tip."
   ]
  },
  {
   "cell_type": "code",
   "execution_count": 28,
   "id": "75ae53ef-3636-4197-9057-f86253f7de81",
   "metadata": {},
   "outputs": [],
   "source": [
    "tips = taxi_data['tip_amount'].values.astype('float32')\n",
    "variables = taxi_data.drop(['tip_amount'], axis=1)\n",
    "X = variables.values\n",
    "# normalize the feature matrix\n",
    "X = normalize(X, axis=1, norm='l1',copy=False)"
   ]
  },
  {
   "cell_type": "markdown",
   "id": "9f5afd55-2fd6-4070-8b87-1d621a2c74da",
   "metadata": {},
   "source": [
    "#### 4.0 Decision Tree Regression"
   ]
  },
  {
   "cell_type": "code",
   "execution_count": 29,
   "id": "209343cc-31e6-4236-a767-bcc38ef6b7c2",
   "metadata": {},
   "outputs": [],
   "source": [
    "from sklearn.model_selection import train_test_split\n",
    "x_train, x_test, y_train, y_test = train_test_split(X, tips, test_size=0.30, random_state=42)"
   ]
  },
  {
   "cell_type": "code",
   "execution_count": 30,
   "id": "e395a9e9-f820-4509-b179-cc6cf98d4ba5",
   "metadata": {},
   "outputs": [],
   "source": [
    "from sklearn.tree import DecisionTreeRegressor"
   ]
  },
  {
   "cell_type": "code",
   "execution_count": 31,
   "id": "e1232d0e-7794-4f34-b2fc-ec832189f535",
   "metadata": {},
   "outputs": [],
   "source": [
    "DT = DecisionTreeRegressor(max_depth=8, random_state=35)"
   ]
  },
  {
   "cell_type": "code",
   "execution_count": 32,
   "id": "d982dc66-d8ec-4e0a-9c18-e6ef1fde6684",
   "metadata": {},
   "outputs": [
    {
     "data": {
      "text/html": [
       "<style>#sk-container-id-1 {color: black;}#sk-container-id-1 pre{padding: 0;}#sk-container-id-1 div.sk-toggleable {background-color: white;}#sk-container-id-1 label.sk-toggleable__label {cursor: pointer;display: block;width: 100%;margin-bottom: 0;padding: 0.3em;box-sizing: border-box;text-align: center;}#sk-container-id-1 label.sk-toggleable__label-arrow:before {content: \"▸\";float: left;margin-right: 0.25em;color: #696969;}#sk-container-id-1 label.sk-toggleable__label-arrow:hover:before {color: black;}#sk-container-id-1 div.sk-estimator:hover label.sk-toggleable__label-arrow:before {color: black;}#sk-container-id-1 div.sk-toggleable__content {max-height: 0;max-width: 0;overflow: hidden;text-align: left;background-color: #f0f8ff;}#sk-container-id-1 div.sk-toggleable__content pre {margin: 0.2em;color: black;border-radius: 0.25em;background-color: #f0f8ff;}#sk-container-id-1 input.sk-toggleable__control:checked~div.sk-toggleable__content {max-height: 200px;max-width: 100%;overflow: auto;}#sk-container-id-1 input.sk-toggleable__control:checked~label.sk-toggleable__label-arrow:before {content: \"▾\";}#sk-container-id-1 div.sk-estimator input.sk-toggleable__control:checked~label.sk-toggleable__label {background-color: #d4ebff;}#sk-container-id-1 div.sk-label input.sk-toggleable__control:checked~label.sk-toggleable__label {background-color: #d4ebff;}#sk-container-id-1 input.sk-hidden--visually {border: 0;clip: rect(1px 1px 1px 1px);clip: rect(1px, 1px, 1px, 1px);height: 1px;margin: -1px;overflow: hidden;padding: 0;position: absolute;width: 1px;}#sk-container-id-1 div.sk-estimator {font-family: monospace;background-color: #f0f8ff;border: 1px dotted black;border-radius: 0.25em;box-sizing: border-box;margin-bottom: 0.5em;}#sk-container-id-1 div.sk-estimator:hover {background-color: #d4ebff;}#sk-container-id-1 div.sk-parallel-item::after {content: \"\";width: 100%;border-bottom: 1px solid gray;flex-grow: 1;}#sk-container-id-1 div.sk-label:hover label.sk-toggleable__label {background-color: #d4ebff;}#sk-container-id-1 div.sk-serial::before {content: \"\";position: absolute;border-left: 1px solid gray;box-sizing: border-box;top: 0;bottom: 0;left: 50%;z-index: 0;}#sk-container-id-1 div.sk-serial {display: flex;flex-direction: column;align-items: center;background-color: white;padding-right: 0.2em;padding-left: 0.2em;position: relative;}#sk-container-id-1 div.sk-item {position: relative;z-index: 1;}#sk-container-id-1 div.sk-parallel {display: flex;align-items: stretch;justify-content: center;background-color: white;position: relative;}#sk-container-id-1 div.sk-item::before, #sk-container-id-1 div.sk-parallel-item::before {content: \"\";position: absolute;border-left: 1px solid gray;box-sizing: border-box;top: 0;bottom: 0;left: 50%;z-index: -1;}#sk-container-id-1 div.sk-parallel-item {display: flex;flex-direction: column;z-index: 1;position: relative;background-color: white;}#sk-container-id-1 div.sk-parallel-item:first-child::after {align-self: flex-end;width: 50%;}#sk-container-id-1 div.sk-parallel-item:last-child::after {align-self: flex-start;width: 50%;}#sk-container-id-1 div.sk-parallel-item:only-child::after {width: 0;}#sk-container-id-1 div.sk-dashed-wrapped {border: 1px dashed gray;margin: 0 0.4em 0.5em 0.4em;box-sizing: border-box;padding-bottom: 0.4em;background-color: white;}#sk-container-id-1 div.sk-label label {font-family: monospace;font-weight: bold;display: inline-block;line-height: 1.2em;}#sk-container-id-1 div.sk-label-container {text-align: center;}#sk-container-id-1 div.sk-container {/* jupyter's `normalize.less` sets `[hidden] { display: none; }` but bootstrap.min.css set `[hidden] { display: none !important; }` so we also need the `!important` here to be able to override the default hidden behavior on the sphinx rendered scikit-learn.org. See: https://github.com/scikit-learn/scikit-learn/issues/21755 */display: inline-block !important;position: relative;}#sk-container-id-1 div.sk-text-repr-fallback {display: none;}</style><div id=\"sk-container-id-1\" class=\"sk-top-container\"><div class=\"sk-text-repr-fallback\"><pre>DecisionTreeRegressor(max_depth=8, random_state=35)</pre><b>In a Jupyter environment, please rerun this cell to show the HTML representation or trust the notebook. <br />On GitHub, the HTML representation is unable to render, please try loading this page with nbviewer.org.</b></div><div class=\"sk-container\" hidden><div class=\"sk-item\"><div class=\"sk-estimator sk-toggleable\"><input class=\"sk-toggleable__control sk-hidden--visually\" id=\"sk-estimator-id-1\" type=\"checkbox\" checked><label for=\"sk-estimator-id-1\" class=\"sk-toggleable__label sk-toggleable__label-arrow\">DecisionTreeRegressor</label><div class=\"sk-toggleable__content\"><pre>DecisionTreeRegressor(max_depth=8, random_state=35)</pre></div></div></div></div></div>"
      ],
      "text/plain": [
       "DecisionTreeRegressor(max_depth=8, random_state=35)"
      ]
     },
     "execution_count": 32,
     "metadata": {},
     "output_type": "execute_result"
    }
   ],
   "source": [
    "DT.fit(x_train,y_train)"
   ]
  },
  {
   "cell_type": "code",
   "execution_count": 33,
   "id": "a9750714-7c22-44ae-8b0e-55cba0d80c3c",
   "metadata": {},
   "outputs": [],
   "source": [
    "DT_yhat = DT.predict(x_test)"
   ]
  },
  {
   "cell_type": "code",
   "execution_count": 34,
   "id": "dde6435e-d1c3-49e3-be8e-37ea53b98bb8",
   "metadata": {},
   "outputs": [
    {
     "name": "stdout",
     "output_type": "stream",
     "text": [
      "Decision Tree R2 is 0.6965\n",
      "Decision Tree MSE is 1.7599\n"
     ]
    }
   ],
   "source": [
    "DT_R2 = DT.score(x_test, y_test)\n",
    "DT_MSE = metrics.mean_squared_error(y_test, DT_yhat)\n",
    "print('Decision Tree R2 is', round(DT_R2,4))\n",
    "print('Decision Tree MSE is', round(DT_MSE,4))"
   ]
  },
  {
   "cell_type": "code",
   "execution_count": 35,
   "id": "5c077df9-3762-4739-965a-eeca443cbcba",
   "metadata": {},
   "outputs": [
    {
     "data": {
      "image/png": "[encoded data removed]",
      "text/plain": [
       "<Figure size 600x500 with 1 Axes>"
      ]
     },
     "metadata": {},
     "output_type": "display_data"
    }
   ],
   "source": [
    "#plot the results\n",
    "plt.figure(figsize=(6, 5))\n",
    "\n",
    "ax1 = sns.distplot(y_test, hist=False, color=\"r\", label=\"Actual Value\")\n",
    "sns.distplot(DT_yhat, hist=False, color=\"b\", label=\"Fitted Values\" , ax=ax1)\n",
    "\n",
    "plt.title('Actual vs Fitted Values for Tip')\n",
    "plt.xlabel('Tip (in dollars)')\n",
    "plt.ylabel('Proportion of Trips')\n",
    "plt.legend()\n",
    "plt.show()\n",
    "plt.close()"
   ]
  },
  {
   "cell_type": "markdown",
   "id": "e8564934-858e-4045-bdcf-824660bbbfe9",
   "metadata": {},
   "source": [
    "Obviously, decision tree regression is not that good model for this type of prediction."
   ]
  },
  {
   "cell_type": "markdown",
   "id": "ba6f3ed4-f5db-496c-85fb-70d17587443f",
   "metadata": {},
   "source": [
    "#### 4.1 Linear Regression"
   ]
  },
  {
   "cell_type": "markdown",
   "id": "5526ec43-58b4-457a-a3b1-5f16f6c2bf37",
   "metadata": {},
   "source": [
    "For linear regression, let's just keep the numerical variables."
   ]
  },
  {
   "cell_type": "code",
   "execution_count": 36,
   "id": "50674603-b697-4477-8dd3-50af35f39260",
   "metadata": {},
   "outputs": [],
   "source": [
    "variables = taxi_data[['passenger_count', 'trip_distance','fare_amount','extra', 'mta_tax', 'tolls_amount','trip_time', 'improvement_surcharge', 'congestion_surcharge']]\n",
    "lr_tips = taxi_data['tip_amount']"
   ]
  },
  {
   "cell_type": "code",
   "execution_count": 37,
   "id": "e14e1b4a-2d97-49c5-b55c-d8b485a3f596",
   "metadata": {},
   "outputs": [],
   "source": [
    "x_train, x_test, y_train, y_test = train_test_split(variables, lr_tips, test_size=0.30, random_state=42)"
   ]
  },
  {
   "cell_type": "code",
   "execution_count": 38,
   "id": "518e5337-7285-4993-b29c-6af6b5621746",
   "metadata": {},
   "outputs": [
    {
     "data": {
      "text/html": [
       "<style>#sk-container-id-2 {color: black;}#sk-container-id-2 pre{padding: 0;}#sk-container-id-2 div.sk-toggleable {background-color: white;}#sk-container-id-2 label.sk-toggleable__label {cursor: pointer;display: block;width: 100%;margin-bottom: 0;padding: 0.3em;box-sizing: border-box;text-align: center;}#sk-container-id-2 label.sk-toggleable__label-arrow:before {content: \"▸\";float: left;margin-right: 0.25em;color: #696969;}#sk-container-id-2 label.sk-toggleable__label-arrow:hover:before {color: black;}#sk-container-id-2 div.sk-estimator:hover label.sk-toggleable__label-arrow:before {color: black;}#sk-container-id-2 div.sk-toggleable__content {max-height: 0;max-width: 0;overflow: hidden;text-align: left;background-color: #f0f8ff;}#sk-container-id-2 div.sk-toggleable__content pre {margin: 0.2em;color: black;border-radius: 0.25em;background-color: #f0f8ff;}#sk-container-id-2 input.sk-toggleable__control:checked~div.sk-toggleable__content {max-height: 200px;max-width: 100%;overflow: auto;}#sk-container-id-2 input.sk-toggleable__control:checked~label.sk-toggleable__label-arrow:before {content: \"▾\";}#sk-container-id-2 div.sk-estimator input.sk-toggleable__control:checked~label.sk-toggleable__label {background-color: #d4ebff;}#sk-container-id-2 div.sk-label input.sk-toggleable__control:checked~label.sk-toggleable__label {background-color: #d4ebff;}#sk-container-id-2 input.sk-hidden--visually {border: 0;clip: rect(1px 1px 1px 1px);clip: rect(1px, 1px, 1px, 1px);height: 1px;margin: -1px;overflow: hidden;padding: 0;position: absolute;width: 1px;}#sk-container-id-2 div.sk-estimator {font-family: monospace;background-color: #f0f8ff;border: 1px dotted black;border-radius: 0.25em;box-sizing: border-box;margin-bottom: 0.5em;}#sk-container-id-2 div.sk-estimator:hover {background-color: #d4ebff;}#sk-container-id-2 div.sk-parallel-item::after {content: \"\";width: 100%;border-bottom: 1px solid gray;flex-grow: 1;}#sk-container-id-2 div.sk-label:hover label.sk-toggleable__label {background-color: #d4ebff;}#sk-container-id-2 div.sk-serial::before {content: \"\";position: absolute;border-left: 1px solid gray;box-sizing: border-box;top: 0;bottom: 0;left: 50%;z-index: 0;}#sk-container-id-2 div.sk-serial {display: flex;flex-direction: column;align-items: center;background-color: white;padding-right: 0.2em;padding-left: 0.2em;position: relative;}#sk-container-id-2 div.sk-item {position: relative;z-index: 1;}#sk-container-id-2 div.sk-parallel {display: flex;align-items: stretch;justify-content: center;background-color: white;position: relative;}#sk-container-id-2 div.sk-item::before, #sk-container-id-2 div.sk-parallel-item::before {content: \"\";position: absolute;border-left: 1px solid gray;box-sizing: border-box;top: 0;bottom: 0;left: 50%;z-index: -1;}#sk-container-id-2 div.sk-parallel-item {display: flex;flex-direction: column;z-index: 1;position: relative;background-color: white;}#sk-container-id-2 div.sk-parallel-item:first-child::after {align-self: flex-end;width: 50%;}#sk-container-id-2 div.sk-parallel-item:last-child::after {align-self: flex-start;width: 50%;}#sk-container-id-2 div.sk-parallel-item:only-child::after {width: 0;}#sk-container-id-2 div.sk-dashed-wrapped {border: 1px dashed gray;margin: 0 0.4em 0.5em 0.4em;box-sizing: border-box;padding-bottom: 0.4em;background-color: white;}#sk-container-id-2 div.sk-label label {font-family: monospace;font-weight: bold;display: inline-block;line-height: 1.2em;}#sk-container-id-2 div.sk-label-container {text-align: center;}#sk-container-id-2 div.sk-container {/* jupyter's `normalize.less` sets `[hidden] { display: none; }` but bootstrap.min.css set `[hidden] { display: none !important; }` so we also need the `!important` here to be able to override the default hidden behavior on the sphinx rendered scikit-learn.org. See: https://github.com/scikit-learn/scikit-learn/issues/21755 */display: inline-block !important;position: relative;}#sk-container-id-2 div.sk-text-repr-fallback {display: none;}</style><div id=\"sk-container-id-2\" class=\"sk-top-container\"><div class=\"sk-text-repr-fallback\"><pre>LinearRegression()</pre><b>In a Jupyter environment, please rerun this cell to show the HTML representation or trust the notebook. <br />On GitHub, the HTML representation is unable to render, please try loading this page with nbviewer.org.</b></div><div class=\"sk-container\" hidden><div class=\"sk-item\"><div class=\"sk-estimator sk-toggleable\"><input class=\"sk-toggleable__control sk-hidden--visually\" id=\"sk-estimator-id-2\" type=\"checkbox\" checked><label for=\"sk-estimator-id-2\" class=\"sk-toggleable__label sk-toggleable__label-arrow\">LinearRegression</label><div class=\"sk-toggleable__content\"><pre>LinearRegression()</pre></div></div></div></div></div>"
      ],
      "text/plain": [
       "LinearRegression()"
      ]
     },
     "execution_count": 38,
     "metadata": {},
     "output_type": "execute_result"
    }
   ],
   "source": [
    "from sklearn.linear_model import LinearRegression\n",
    "lm = LinearRegression()\n",
    "lm.fit(x_train, y_train)"
   ]
  },
  {
   "cell_type": "code",
   "execution_count": 39,
   "id": "1332c379-1e4d-4ec8-966e-e336e057116c",
   "metadata": {},
   "outputs": [
    {
     "name": "stdout",
     "output_type": "stream",
     "text": [
      "The R-square of Linear Regression is:  0.7537\n"
     ]
    }
   ],
   "source": [
    "#Let's calcualte the R^2 on the test data\n",
    "print('The R-square of Linear Regression is: ', round(lm.score(x_test, y_test),4))\n"
   ]
  },
  {
   "cell_type": "code",
   "execution_count": 40,
   "id": "59595a35-dfa4-4ea2-b4f5-44f8caf50543",
   "metadata": {},
   "outputs": [
    {
     "name": "stdout",
     "output_type": "stream",
     "text": [
      "The mean square error of price and predicted value is:  1.43\n"
     ]
    }
   ],
   "source": [
    "#predict price using test data\n",
    "lm_predict = lm.predict(x_test)\n",
    "mse = metrics.mean_squared_error(y_test, lm_predict)\n",
    "print('The mean square error of price and predicted value is: ', round(mse,2))"
   ]
  },
  {
   "cell_type": "code",
   "execution_count": 41,
   "id": "8ab160b4-b654-41f4-8807-64d352c669c1",
   "metadata": {},
   "outputs": [
    {
     "data": {
      "image/png": "[encoded data removed]",
      "text/plain": [
       "<Figure size 600x500 with 1 Axes>"
      ]
     },
     "metadata": {},
     "output_type": "display_data"
    }
   ],
   "source": [
    "#plot the results\n",
    "plt.figure(figsize=(6, 5))\n",
    "\n",
    "ax1 = sns.distplot(y_test, hist=False, color=\"r\", label=\"Actual Value\")\n",
    "sns.distplot(lm_predict, hist=False, color=\"b\", label=\"Fitted Values\" , ax=ax1)\n",
    "\n",
    "plt.title('Actual vs Fitted Values for Tip')\n",
    "plt.xlabel('Tip (in dollars)')\n",
    "plt.ylabel('Proportion of Trips')\n",
    "plt.legend()\n",
    "plt.show()\n",
    "plt.close()"
   ]
  },
  {
   "cell_type": "markdown",
   "id": "9b2ddf06-97d5-4b58-8ed3-c93f5c746167",
   "metadata": {},
   "source": [
    "Linear regression perfomred better than decission tree regression. "
   ]
  },
  {
   "cell_type": "markdown",
   "id": "d88ac3e1-9926-4670-bc67-6d88bd819678",
   "metadata": {},
   "source": [
    "#### 4.2 Polynomial Regression"
   ]
  },
  {
   "cell_type": "code",
   "execution_count": 42,
   "id": "3d4b6358-4c44-448e-b12b-d0ef354f852b",
   "metadata": {},
   "outputs": [],
   "source": [
    "#import the library\n",
    "from sklearn.preprocessing import PolynomialFeatures"
   ]
  },
  {
   "cell_type": "code",
   "execution_count": 43,
   "id": "4bdf8081-c9d6-47b0-a622-651eef07a786",
   "metadata": {},
   "outputs": [],
   "source": [
    "from sklearn.pipeline import Pipeline\n",
    "from sklearn.preprocessing import StandardScaler"
   ]
  },
  {
   "cell_type": "code",
   "execution_count": 44,
   "id": "0b86dd17-7fe5-4209-a9fd-2b75a3dd8eb6",
   "metadata": {},
   "outputs": [],
   "source": [
    "#We create the pipeline by creating a list of tuples including the name of the model or estimator and its corresponding constructor.\n",
    "Input=[('scale',StandardScaler()), ('polynomial', PolynomialFeatures(degree=2, include_bias=False)), ('model',LinearRegression())]"
   ]
  },
  {
   "cell_type": "code",
   "execution_count": 45,
   "id": "7956cc3c-7070-4157-bee2-2448e2329802",
   "metadata": {},
   "outputs": [],
   "source": [
    "pipe=Pipeline(Input)"
   ]
  },
  {
   "cell_type": "code",
   "execution_count": 46,
   "id": "037e6da0-be97-49fd-89c8-59656f393859",
   "metadata": {},
   "outputs": [],
   "source": [
    "#standard scaler takes float as inputs. Let's convert Variables data type.\n",
    "variables = taxi_data[['trip_distance','fare_amount', 'tolls_amount','trip_time']]\n",
    "variables = variables.astype(float)\n",
    "x_train, x_test, y_train, y_test = train_test_split(variables, lr_tips, test_size=0.30, random_state=42)"
   ]
  },
  {
   "cell_type": "code",
   "execution_count": 47,
   "id": "646ad08a-3fec-43e8-939a-695e1d9f69f0",
   "metadata": {},
   "outputs": [
    {
     "data": {
      "text/html": [
       "<style>#sk-container-id-3 {color: black;}#sk-container-id-3 pre{padding: 0;}#sk-container-id-3 div.sk-toggleable {background-color: white;}#sk-container-id-3 label.sk-toggleable__label {cursor: pointer;display: block;width: 100%;margin-bottom: 0;padding: 0.3em;box-sizing: border-box;text-align: center;}#sk-container-id-3 label.sk-toggleable__label-arrow:before {content: \"▸\";float: left;margin-right: 0.25em;color: #696969;}#sk-container-id-3 label.sk-toggleable__label-arrow:hover:before {color: black;}#sk-container-id-3 div.sk-estimator:hover label.sk-toggleable__label-arrow:before {color: black;}#sk-container-id-3 div.sk-toggleable__content {max-height: 0;max-width: 0;overflow: hidden;text-align: left;background-color: #f0f8ff;}#sk-container-id-3 div.sk-toggleable__content pre {margin: 0.2em;color: black;border-radius: 0.25em;background-color: #f0f8ff;}#sk-container-id-3 input.sk-toggleable__control:checked~div.sk-toggleable__content {max-height: 200px;max-width: 100%;overflow: auto;}#sk-container-id-3 input.sk-toggleable__control:checked~label.sk-toggleable__label-arrow:before {content: \"▾\";}#sk-container-id-3 div.sk-estimator input.sk-toggleable__control:checked~label.sk-toggleable__label {background-color: #d4ebff;}#sk-container-id-3 div.sk-label input.sk-toggleable__control:checked~label.sk-toggleable__label {background-color: #d4ebff;}#sk-container-id-3 input.sk-hidden--visually {border: 0;clip: rect(1px 1px 1px 1px);clip: rect(1px, 1px, 1px, 1px);height: 1px;margin: -1px;overflow: hidden;padding: 0;position: absolute;width: 1px;}#sk-container-id-3 div.sk-estimator {font-family: monospace;background-color: #f0f8ff;border: 1px dotted black;border-radius: 0.25em;box-sizing: border-box;margin-bottom: 0.5em;}#sk-container-id-3 div.sk-estimator:hover {background-color: #d4ebff;}#sk-container-id-3 div.sk-parallel-item::after {content: \"\";width: 100%;border-bottom: 1px solid gray;flex-grow: 1;}#sk-container-id-3 div.sk-label:hover label.sk-toggleable__label {background-color: #d4ebff;}#sk-container-id-3 div.sk-serial::before {content: \"\";position: absolute;border-left: 1px solid gray;box-sizing: border-box;top: 0;bottom: 0;left: 50%;z-index: 0;}#sk-container-id-3 div.sk-serial {display: flex;flex-direction: column;align-items: center;background-color: white;padding-right: 0.2em;padding-left: 0.2em;position: relative;}#sk-container-id-3 div.sk-item {position: relative;z-index: 1;}#sk-container-id-3 div.sk-parallel {display: flex;align-items: stretch;justify-content: center;background-color: white;position: relative;}#sk-container-id-3 div.sk-item::before, #sk-container-id-3 div.sk-parallel-item::before {content: \"\";position: absolute;border-left: 1px solid gray;box-sizing: border-box;top: 0;bottom: 0;left: 50%;z-index: -1;}#sk-container-id-3 div.sk-parallel-item {display: flex;flex-direction: column;z-index: 1;position: relative;background-color: white;}#sk-container-id-3 div.sk-parallel-item:first-child::after {align-self: flex-end;width: 50%;}#sk-container-id-3 div.sk-parallel-item:last-child::after {align-self: flex-start;width: 50%;}#sk-container-id-3 div.sk-parallel-item:only-child::after {width: 0;}#sk-container-id-3 div.sk-dashed-wrapped {border: 1px dashed gray;margin: 0 0.4em 0.5em 0.4em;box-sizing: border-box;padding-bottom: 0.4em;background-color: white;}#sk-container-id-3 div.sk-label label {font-family: monospace;font-weight: bold;display: inline-block;line-height: 1.2em;}#sk-container-id-3 div.sk-label-container {text-align: center;}#sk-container-id-3 div.sk-container {/* jupyter's `normalize.less` sets `[hidden] { display: none; }` but bootstrap.min.css set `[hidden] { display: none !important; }` so we also need the `!important` here to be able to override the default hidden behavior on the sphinx rendered scikit-learn.org. See: https://github.com/scikit-learn/scikit-learn/issues/21755 */display: inline-block !important;position: relative;}#sk-container-id-3 div.sk-text-repr-fallback {display: none;}</style><div id=\"sk-container-id-3\" class=\"sk-top-container\"><div class=\"sk-text-repr-fallback\"><pre>Pipeline(steps=[(&#x27;scale&#x27;, StandardScaler()),\n",
       "                (&#x27;polynomial&#x27;, PolynomialFeatures(include_bias=False)),\n",
       "                (&#x27;model&#x27;, LinearRegression())])</pre><b>In a Jupyter environment, please rerun this cell to show the HTML representation or trust the notebook. <br />On GitHub, the HTML representation is unable to render, please try loading this page with nbviewer.org.</b></div><div class=\"sk-container\" hidden><div class=\"sk-item sk-dashed-wrapped\"><div class=\"sk-label-container\"><div class=\"sk-label sk-toggleable\"><input class=\"sk-toggleable__control sk-hidden--visually\" id=\"sk-estimator-id-3\" type=\"checkbox\" ><label for=\"sk-estimator-id-3\" class=\"sk-toggleable__label sk-toggleable__label-arrow\">Pipeline</label><div class=\"sk-toggleable__content\"><pre>Pipeline(steps=[(&#x27;scale&#x27;, StandardScaler()),\n",
       "                (&#x27;polynomial&#x27;, PolynomialFeatures(include_bias=False)),\n",
       "                (&#x27;model&#x27;, LinearRegression())])</pre></div></div></div><div class=\"sk-serial\"><div class=\"sk-item\"><div class=\"sk-estimator sk-toggleable\"><input class=\"sk-toggleable__control sk-hidden--visually\" id=\"sk-estimator-id-4\" type=\"checkbox\" ><label for=\"sk-estimator-id-4\" class=\"sk-toggleable__label sk-toggleable__label-arrow\">StandardScaler</label><div class=\"sk-toggleable__content\"><pre>StandardScaler()</pre></div></div></div><div class=\"sk-item\"><div class=\"sk-estimator sk-toggleable\"><input class=\"sk-toggleable__control sk-hidden--visually\" id=\"sk-estimator-id-5\" type=\"checkbox\" ><label for=\"sk-estimator-id-5\" class=\"sk-toggleable__label sk-toggleable__label-arrow\">PolynomialFeatures</label><div class=\"sk-toggleable__content\"><pre>PolynomialFeatures(include_bias=False)</pre></div></div></div><div class=\"sk-item\"><div class=\"sk-estimator sk-toggleable\"><input class=\"sk-toggleable__control sk-hidden--visually\" id=\"sk-estimator-id-6\" type=\"checkbox\" ><label for=\"sk-estimator-id-6\" class=\"sk-toggleable__label sk-toggleable__label-arrow\">LinearRegression</label><div class=\"sk-toggleable__content\"><pre>LinearRegression()</pre></div></div></div></div></div></div></div>"
      ],
      "text/plain": [
       "Pipeline(steps=[('scale', StandardScaler()),\n",
       "                ('polynomial', PolynomialFeatures(include_bias=False)),\n",
       "                ('model', LinearRegression())])"
      ]
     },
     "execution_count": 47,
     "metadata": {},
     "output_type": "execute_result"
    }
   ],
   "source": [
    "pipe.fit(x_train,y_train)"
   ]
  },
  {
   "cell_type": "code",
   "execution_count": 48,
   "id": "ebb5e2e6-86d2-469f-bdd0-693aa448e1a3",
   "metadata": {},
   "outputs": [],
   "source": [
    "pr_predict = pipe.predict(x_test)"
   ]
  },
  {
   "cell_type": "code",
   "execution_count": 49,
   "id": "30a6e7c8-cb3f-4475-a800-9be77e6de07f",
   "metadata": {},
   "outputs": [
    {
     "name": "stdout",
     "output_type": "stream",
     "text": [
      "The mean square error of price and predicted value is:  1.43\n",
      "The R-square of Polynomial Regression is:  0.7542\n"
     ]
    }
   ],
   "source": [
    "mse = metrics.mean_squared_error(y_test, pr_predict)\n",
    "print('The mean square error of price and predicted value is: ', round(mse,2))\n",
    "print('The R-square of Polynomial Regression is: ', round(pipe.score(x_test, y_test),4))"
   ]
  },
  {
   "cell_type": "code",
   "execution_count": 50,
   "id": "12bb7c86-e200-46b1-9198-980e22a2348b",
   "metadata": {},
   "outputs": [
    {
     "data": {
      "image/png": "[encoded data removed]",
      "text/plain": [
       "<Figure size 600x500 with 1 Axes>"
      ]
     },
     "metadata": {},
     "output_type": "display_data"
    }
   ],
   "source": [
    "#plot the results\n",
    "plt.figure(figsize=(6, 5))\n",
    "\n",
    "ax1 = sns.distplot(y_test, hist=False, color=\"r\", label=\"Actual Value\")\n",
    "sns.distplot(pr_predict, hist=False, color=\"b\", label=\"Fitted Values\" , ax=ax1)\n",
    "\n",
    "plt.title('Actual vs Fitted Values for Tip')\n",
    "plt.xlabel('Tip (in dollars)')\n",
    "plt.ylabel('Proportion of Trips')\n",
    "plt.legend()\n",
    "plt.show()\n",
    "plt.close()"
   ]
  },
  {
   "cell_type": "markdown",
   "id": "c543420b-257d-46c6-a4c1-928b92c1f738",
   "metadata": {},
   "source": [
    "Polynomial regression gave about the same accuracy as linear regression."
   ]
  },
  {
   "cell_type": "markdown",
   "id": "73c5f46d-dc45-48fe-9bfe-a3c9dfa85453",
   "metadata": {},
   "source": [
    "#### 4.3 Ridge Regression\n",
    "\n",
    "Ridge regression is a method of estimating the coefficients of multiple-regression models in scenarios where the independent variables are highly correlated. Here I compare it with other two regressions. I use __GridSearchCV__ to find the best hyperparameter."
   ]
  },
  {
   "cell_type": "code",
   "execution_count": 51,
   "id": "99476b96-5434-41b9-b608-e795a813ec84",
   "metadata": {},
   "outputs": [],
   "source": [
    "from sklearn.linear_model import Ridge\n",
    "from sklearn.model_selection import GridSearchCV"
   ]
  },
  {
   "cell_type": "code",
   "execution_count": 52,
   "id": "5edeb987-dd7c-4d2d-aea9-6fbd8df5f0e4",
   "metadata": {},
   "outputs": [],
   "source": [
    "#define the parameters\n",
    "parameters= [{'alpha': [0.001,0.1,1, 10, 100, 1000, 10000, 100000, 100000]}]"
   ]
  },
  {
   "cell_type": "code",
   "execution_count": 53,
   "id": "2085d5a9-121d-491f-999e-31a75af07d03",
   "metadata": {},
   "outputs": [],
   "source": [
    "#create ridge regression object\n",
    "RR = Ridge()"
   ]
  },
  {
   "cell_type": "code",
   "execution_count": 54,
   "id": "c8833189-0691-4373-bff9-91786a55857c",
   "metadata": {},
   "outputs": [],
   "source": [
    "#create a ridge grid search object\n",
    "grid = GridSearchCV(RR,parameters,cv=4) #cv determines the number of folds. "
   ]
  },
  {
   "cell_type": "code",
   "execution_count": 55,
   "id": "1581bd58-a33a-492f-bf7b-aa70bcfbc288",
   "metadata": {},
   "outputs": [
    {
     "data": {
      "text/html": [
       "<style>#sk-container-id-4 {color: black;}#sk-container-id-4 pre{padding: 0;}#sk-container-id-4 div.sk-toggleable {background-color: white;}#sk-container-id-4 label.sk-toggleable__label {cursor: pointer;display: block;width: 100%;margin-bottom: 0;padding: 0.3em;box-sizing: border-box;text-align: center;}#sk-container-id-4 label.sk-toggleable__label-arrow:before {content: \"▸\";float: left;margin-right: 0.25em;color: #696969;}#sk-container-id-4 label.sk-toggleable__label-arrow:hover:before {color: black;}#sk-container-id-4 div.sk-estimator:hover label.sk-toggleable__label-arrow:before {color: black;}#sk-container-id-4 div.sk-toggleable__content {max-height: 0;max-width: 0;overflow: hidden;text-align: left;background-color: #f0f8ff;}#sk-container-id-4 div.sk-toggleable__content pre {margin: 0.2em;color: black;border-radius: 0.25em;background-color: #f0f8ff;}#sk-container-id-4 input.sk-toggleable__control:checked~div.sk-toggleable__content {max-height: 200px;max-width: 100%;overflow: auto;}#sk-container-id-4 input.sk-toggleable__control:checked~label.sk-toggleable__label-arrow:before {content: \"▾\";}#sk-container-id-4 div.sk-estimator input.sk-toggleable__control:checked~label.sk-toggleable__label {background-color: #d4ebff;}#sk-container-id-4 div.sk-label input.sk-toggleable__control:checked~label.sk-toggleable__label {background-color: #d4ebff;}#sk-container-id-4 input.sk-hidden--visually {border: 0;clip: rect(1px 1px 1px 1px);clip: rect(1px, 1px, 1px, 1px);height: 1px;margin: -1px;overflow: hidden;padding: 0;position: absolute;width: 1px;}#sk-container-id-4 div.sk-estimator {font-family: monospace;background-color: #f0f8ff;border: 1px dotted black;border-radius: 0.25em;box-sizing: border-box;margin-bottom: 0.5em;}#sk-container-id-4 div.sk-estimator:hover {background-color: #d4ebff;}#sk-container-id-4 div.sk-parallel-item::after {content: \"\";width: 100%;border-bottom: 1px solid gray;flex-grow: 1;}#sk-container-id-4 div.sk-label:hover label.sk-toggleable__label {background-color: #d4ebff;}#sk-container-id-4 div.sk-serial::before {content: \"\";position: absolute;border-left: 1px solid gray;box-sizing: border-box;top: 0;bottom: 0;left: 50%;z-index: 0;}#sk-container-id-4 div.sk-serial {display: flex;flex-direction: column;align-items: center;background-color: white;padding-right: 0.2em;padding-left: 0.2em;position: relative;}#sk-container-id-4 div.sk-item {position: relative;z-index: 1;}#sk-container-id-4 div.sk-parallel {display: flex;align-items: stretch;justify-content: center;background-color: white;position: relative;}#sk-container-id-4 div.sk-item::before, #sk-container-id-4 div.sk-parallel-item::before {content: \"\";position: absolute;border-left: 1px solid gray;box-sizing: border-box;top: 0;bottom: 0;left: 50%;z-index: -1;}#sk-container-id-4 div.sk-parallel-item {display: flex;flex-direction: column;z-index: 1;position: relative;background-color: white;}#sk-container-id-4 div.sk-parallel-item:first-child::after {align-self: flex-end;width: 50%;}#sk-container-id-4 div.sk-parallel-item:last-child::after {align-self: flex-start;width: 50%;}#sk-container-id-4 div.sk-parallel-item:only-child::after {width: 0;}#sk-container-id-4 div.sk-dashed-wrapped {border: 1px dashed gray;margin: 0 0.4em 0.5em 0.4em;box-sizing: border-box;padding-bottom: 0.4em;background-color: white;}#sk-container-id-4 div.sk-label label {font-family: monospace;font-weight: bold;display: inline-block;line-height: 1.2em;}#sk-container-id-4 div.sk-label-container {text-align: center;}#sk-container-id-4 div.sk-container {/* jupyter's `normalize.less` sets `[hidden] { display: none; }` but bootstrap.min.css set `[hidden] { display: none !important; }` so we also need the `!important` here to be able to override the default hidden behavior on the sphinx rendered scikit-learn.org. See: https://github.com/scikit-learn/scikit-learn/issues/21755 */display: inline-block !important;position: relative;}#sk-container-id-4 div.sk-text-repr-fallback {display: none;}</style><div id=\"sk-container-id-4\" class=\"sk-top-container\"><div class=\"sk-text-repr-fallback\"><pre>GridSearchCV(cv=4, estimator=Ridge(),\n",
       "             param_grid=[{&#x27;alpha&#x27;: [0.001, 0.1, 1, 10, 100, 1000, 10000, 100000,\n",
       "                                    100000]}])</pre><b>In a Jupyter environment, please rerun this cell to show the HTML representation or trust the notebook. <br />On GitHub, the HTML representation is unable to render, please try loading this page with nbviewer.org.</b></div><div class=\"sk-container\" hidden><div class=\"sk-item sk-dashed-wrapped\"><div class=\"sk-label-container\"><div class=\"sk-label sk-toggleable\"><input class=\"sk-toggleable__control sk-hidden--visually\" id=\"sk-estimator-id-7\" type=\"checkbox\" ><label for=\"sk-estimator-id-7\" class=\"sk-toggleable__label sk-toggleable__label-arrow\">GridSearchCV</label><div class=\"sk-toggleable__content\"><pre>GridSearchCV(cv=4, estimator=Ridge(),\n",
       "             param_grid=[{&#x27;alpha&#x27;: [0.001, 0.1, 1, 10, 100, 1000, 10000, 100000,\n",
       "                                    100000]}])</pre></div></div></div><div class=\"sk-parallel\"><div class=\"sk-parallel-item\"><div class=\"sk-item\"><div class=\"sk-label-container\"><div class=\"sk-label sk-toggleable\"><input class=\"sk-toggleable__control sk-hidden--visually\" id=\"sk-estimator-id-8\" type=\"checkbox\" ><label for=\"sk-estimator-id-8\" class=\"sk-toggleable__label sk-toggleable__label-arrow\">estimator: Ridge</label><div class=\"sk-toggleable__content\"><pre>Ridge()</pre></div></div></div><div class=\"sk-serial\"><div class=\"sk-item\"><div class=\"sk-estimator sk-toggleable\"><input class=\"sk-toggleable__control sk-hidden--visually\" id=\"sk-estimator-id-9\" type=\"checkbox\" ><label for=\"sk-estimator-id-9\" class=\"sk-toggleable__label sk-toggleable__label-arrow\">Ridge</label><div class=\"sk-toggleable__content\"><pre>Ridge()</pre></div></div></div></div></div></div></div></div></div></div>"
      ],
      "text/plain": [
       "GridSearchCV(cv=4, estimator=Ridge(),\n",
       "             param_grid=[{'alpha': [0.001, 0.1, 1, 10, 100, 1000, 10000, 100000,\n",
       "                                    100000]}])"
      ]
     },
     "execution_count": 55,
     "metadata": {},
     "output_type": "execute_result"
    }
   ],
   "source": [
    "grid.fit(x_train, y_train)"
   ]
  },
  {
   "cell_type": "code",
   "execution_count": 56,
   "id": "c751af88-0d72-49cb-bd12-f9eb3ea14837",
   "metadata": {},
   "outputs": [
    {
     "data": {
      "text/html": [
       "<style>#sk-container-id-5 {color: black;}#sk-container-id-5 pre{padding: 0;}#sk-container-id-5 div.sk-toggleable {background-color: white;}#sk-container-id-5 label.sk-toggleable__label {cursor: pointer;display: block;width: 100%;margin-bottom: 0;padding: 0.3em;box-sizing: border-box;text-align: center;}#sk-container-id-5 label.sk-toggleable__label-arrow:before {content: \"▸\";float: left;margin-right: 0.25em;color: #696969;}#sk-container-id-5 label.sk-toggleable__label-arrow:hover:before {color: black;}#sk-container-id-5 div.sk-estimator:hover label.sk-toggleable__label-arrow:before {color: black;}#sk-container-id-5 div.sk-toggleable__content {max-height: 0;max-width: 0;overflow: hidden;text-align: left;background-color: #f0f8ff;}#sk-container-id-5 div.sk-toggleable__content pre {margin: 0.2em;color: black;border-radius: 0.25em;background-color: #f0f8ff;}#sk-container-id-5 input.sk-toggleable__control:checked~div.sk-toggleable__content {max-height: 200px;max-width: 100%;overflow: auto;}#sk-container-id-5 input.sk-toggleable__control:checked~label.sk-toggleable__label-arrow:before {content: \"▾\";}#sk-container-id-5 div.sk-estimator input.sk-toggleable__control:checked~label.sk-toggleable__label {background-color: #d4ebff;}#sk-container-id-5 div.sk-label input.sk-toggleable__control:checked~label.sk-toggleable__label {background-color: #d4ebff;}#sk-container-id-5 input.sk-hidden--visually {border: 0;clip: rect(1px 1px 1px 1px);clip: rect(1px, 1px, 1px, 1px);height: 1px;margin: -1px;overflow: hidden;padding: 0;position: absolute;width: 1px;}#sk-container-id-5 div.sk-estimator {font-family: monospace;background-color: #f0f8ff;border: 1px dotted black;border-radius: 0.25em;box-sizing: border-box;margin-bottom: 0.5em;}#sk-container-id-5 div.sk-estimator:hover {background-color: #d4ebff;}#sk-container-id-5 div.sk-parallel-item::after {content: \"\";width: 100%;border-bottom: 1px solid gray;flex-grow: 1;}#sk-container-id-5 div.sk-label:hover label.sk-toggleable__label {background-color: #d4ebff;}#sk-container-id-5 div.sk-serial::before {content: \"\";position: absolute;border-left: 1px solid gray;box-sizing: border-box;top: 0;bottom: 0;left: 50%;z-index: 0;}#sk-container-id-5 div.sk-serial {display: flex;flex-direction: column;align-items: center;background-color: white;padding-right: 0.2em;padding-left: 0.2em;position: relative;}#sk-container-id-5 div.sk-item {position: relative;z-index: 1;}#sk-container-id-5 div.sk-parallel {display: flex;align-items: stretch;justify-content: center;background-color: white;position: relative;}#sk-container-id-5 div.sk-item::before, #sk-container-id-5 div.sk-parallel-item::before {content: \"\";position: absolute;border-left: 1px solid gray;box-sizing: border-box;top: 0;bottom: 0;left: 50%;z-index: -1;}#sk-container-id-5 div.sk-parallel-item {display: flex;flex-direction: column;z-index: 1;position: relative;background-color: white;}#sk-container-id-5 div.sk-parallel-item:first-child::after {align-self: flex-end;width: 50%;}#sk-container-id-5 div.sk-parallel-item:last-child::after {align-self: flex-start;width: 50%;}#sk-container-id-5 div.sk-parallel-item:only-child::after {width: 0;}#sk-container-id-5 div.sk-dashed-wrapped {border: 1px dashed gray;margin: 0 0.4em 0.5em 0.4em;box-sizing: border-box;padding-bottom: 0.4em;background-color: white;}#sk-container-id-5 div.sk-label label {font-family: monospace;font-weight: bold;display: inline-block;line-height: 1.2em;}#sk-container-id-5 div.sk-label-container {text-align: center;}#sk-container-id-5 div.sk-container {/* jupyter's `normalize.less` sets `[hidden] { display: none; }` but bootstrap.min.css set `[hidden] { display: none !important; }` so we also need the `!important` here to be able to override the default hidden behavior on the sphinx rendered scikit-learn.org. See: https://github.com/scikit-learn/scikit-learn/issues/21755 */display: inline-block !important;position: relative;}#sk-container-id-5 div.sk-text-repr-fallback {display: none;}</style><div id=\"sk-container-id-5\" class=\"sk-top-container\"><div class=\"sk-text-repr-fallback\"><pre>Ridge(alpha=1000)</pre><b>In a Jupyter environment, please rerun this cell to show the HTML representation or trust the notebook. <br />On GitHub, the HTML representation is unable to render, please try loading this page with nbviewer.org.</b></div><div class=\"sk-container\" hidden><div class=\"sk-item\"><div class=\"sk-estimator sk-toggleable\"><input class=\"sk-toggleable__control sk-hidden--visually\" id=\"sk-estimator-id-10\" type=\"checkbox\" checked><label for=\"sk-estimator-id-10\" class=\"sk-toggleable__label sk-toggleable__label-arrow\">Ridge</label><div class=\"sk-toggleable__content\"><pre>Ridge(alpha=1000)</pre></div></div></div></div></div>"
      ],
      "text/plain": [
       "Ridge(alpha=1000)"
      ]
     },
     "execution_count": 56,
     "metadata": {},
     "output_type": "execute_result"
    }
   ],
   "source": [
    "BestRR = grid.best_estimator_\n",
    "BestRR"
   ]
  },
  {
   "cell_type": "code",
   "execution_count": 57,
   "id": "51805e9a-a8f4-4578-8f72-1fca82c6a5a7",
   "metadata": {},
   "outputs": [
    {
     "name": "stdout",
     "output_type": "stream",
     "text": [
      "The R-square of Ridge Regression is:  0.7524\n"
     ]
    }
   ],
   "source": [
    "# Find the R^2 for ridge regression fit\n",
    "print('The R-square of Ridge Regression is: ', round(BestRR.score(x_test, y_test),4))"
   ]
  },
  {
   "cell_type": "code",
   "execution_count": 58,
   "id": "05b03cab-cd59-4587-a84c-7030af50f64e",
   "metadata": {},
   "outputs": [
    {
     "name": "stdout",
     "output_type": "stream",
     "text": [
      "The mean square error of price and predicted value is:  1.44\n"
     ]
    }
   ],
   "source": [
    "tip_ridge = BestRR.predict(x_test)\n",
    "mse = metrics.mean_squared_error(y_test, tip_ridge)\n",
    "print('The mean square error of price and predicted value is: ', round(mse,2))"
   ]
  },
  {
   "cell_type": "code",
   "execution_count": 59,
   "id": "a84f0d0f-5f82-4531-a68c-7f8c347c40af",
   "metadata": {},
   "outputs": [
    {
     "data": {
      "image/png": "[encoded data removed]",
      "text/plain": [
       "<Figure size 600x500 with 1 Axes>"
      ]
     },
     "metadata": {},
     "output_type": "display_data"
    }
   ],
   "source": [
    "#plot the results\n",
    "plt.figure(figsize=(6, 5))\n",
    "\n",
    "ax1 = sns.distplot(y_test, hist=False, color=\"r\", label=\"Actual Value\")\n",
    "sns.distplot(tip_ridge, hist=False, color=\"b\", label=\"Fitted Values\" , ax=ax1)\n",
    "\n",
    "plt.title('Actual vs Fitted Values for Tip')\n",
    "plt.xlabel('Tip (in dollars)')\n",
    "plt.ylabel('Proportion of Trips')\n",
    "plt.legend()\n",
    "plt.show()\n",
    "plt.close()"
   ]
  },
  {
   "cell_type": "markdown",
   "id": "19e36611-3ddd-4bfb-84e5-7934926c7f16",
   "metadata": {},
   "source": [
    "Compared all four models,all of the models performed accuracies lower than 80%, which won't be accuracy on predicting tips. This is because there are no hight correlated variabels to tips. "
   ]
  }
 ],
 "metadata": {
  "kernelspec": {
   "display_name": "Python 3 (ipykernel)",
   "language": "python",
   "name": "python3"
  },
  "language_info": {
   "codemirror_mode": {
    "name": "ipython",
    "version": 3
   },
   "file_extension": ".py",
   "mimetype": "text/x-python",
   "name": "python",
   "nbconvert_exporter": "python",
   "pygments_lexer": "ipython3",
   "version": "3.8.17"
  }
 },
 "nbformat": 4,
 "nbformat_minor": 5
}
